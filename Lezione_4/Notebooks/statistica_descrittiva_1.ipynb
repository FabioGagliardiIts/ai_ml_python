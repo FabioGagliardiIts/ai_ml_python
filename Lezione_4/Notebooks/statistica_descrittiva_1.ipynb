{
  "nbformat": 4,
  "nbformat_minor": 0,
  "metadata": {
    "colab": {
      "provenance": [],
      "collapsed_sections": []
    },
    "kernelspec": {
      "name": "python3",
      "display_name": "Python 3"
    },
    "language_info": {
      "name": "python"
    }
  },
  "cells": [
    {
      "cell_type": "markdown",
      "source": [
        "\n",
        "\n",
        "---\n",
        "\n",
        "\n",
        "<h1 align=\"center\"> Dai Dati alla Conoscenza </h1>\n",
        "\n",
        "\n",
        "---\n",
        "\n"
      ],
      "metadata": {
        "id": "uI82Ji2AUTJz"
      }
    },
    {
      "cell_type": "markdown",
      "source": [
        "**Moello CRISP-DM *(Cross Industry Standard \n",
        "Process for Data Mining)***\n",
        "\n",
        " \\\n",
        "\n",
        "\n",
        "- Definire gli obiettivi\n",
        "  - studiare il dominio \n",
        "  - creare un piano di progetto\n",
        "- Recuperare i dati\n",
        " - dati interni \n",
        " - dati esterni\n",
        "- Preparare i dati\n",
        " - pulizia dei dati\n",
        " - aggregazione dei dati\n",
        " - trasformazione dei dati\n",
        "- Esplorare i dati\n",
        " - analisi univariata\n",
        " - analisi multivariata\n",
        " - corrrezioni\n",
        "- Creare il modello\n",
        " - feature enginering\n",
        " - modellazione\n",
        " - test\n",
        " - validazione\n",
        "- Presentare i risultati\n",
        " - daviz\n",
        " - resoconto"
      ],
      "metadata": {
        "id": "SgsYVqR5UZ54"
      }
    },
    {
      "cell_type": "code",
      "execution_count": 5,
      "metadata": {
        "colab": {
          "base_uri": "https://localhost:8080/"
        },
        "id": "WEludGPwgyVd",
        "outputId": "25e5e300-8f4a-4922-bd54-7de449c1dbdf"
      },
      "outputs": [
        {
          "output_type": "stream",
          "name": "stdout",
          "text": [
            "Drive already mounted at /content/drive; to attempt to forcibly remount, call drive.mount(\"/content/drive\", force_remount=True).\n"
          ]
        }
      ],
      "source": [
        "from google.colab import drive\n",
        "drive.mount('/content/drive')"
      ]
    },
    {
      "cell_type": "code",
      "source": [
        "import matplotlib.pyplot as plt\n",
        "import pandas as pd\n",
        "import numpy as np"
      ],
      "metadata": {
        "id": "BHz3-fd7r6Va"
      },
      "execution_count": 6,
      "outputs": []
    },
    {
      "cell_type": "markdown",
      "source": [
        "\n",
        "\n",
        "---\n",
        "<h1 align=\"center\"> STATISTICA DESCRITTIVA </h1>\n",
        "\n",
        "\n",
        "\n",
        "\n",
        "\n",
        "\n",
        "\n",
        "\n",
        "---\n",
        "\n",
        "\n",
        "\n",
        "\n",
        "\n",
        "\n"
      ],
      "metadata": {
        "id": "7YfQ3-ePWiAH"
      }
    },
    {
      "cell_type": "markdown",
      "source": [
        "\\\n",
        "\n",
        "È la parte della statistica che permette di analizzare e descrivere un fenomeno.\n",
        "\n",
        "\\\n",
        "\n",
        "Obiettivi:\n",
        " - spiegare il funzionamento dei dati\n",
        " - trovare il modello statistico che comprende l' insieme di ipotesi migliori riguardanti la generazione di dati \n"
      ],
      "metadata": {
        "id": "ssBy-RWjanfR"
      }
    },
    {
      "cell_type": "markdown",
      "source": [
        "\n",
        "\n",
        "---\n",
        "\n",
        "\n",
        "# **1. Definizioni di base**\n",
        "\n",
        "\n",
        "---\n",
        "\n"
      ],
      "metadata": {
        "id": "CaoWut8MjRQx"
      }
    },
    {
      "cell_type": "markdown",
      "source": [],
      "metadata": {
        "id": "9Hm9nDgb9xDP"
      }
    },
    {
      "cell_type": "markdown",
      "source": [
        "- **Popolazione**: l'insieme degli elementi oggetto dell'indagine statistica\n",
        "- **Campione**: un sottoinseime della popolazione sul quale viene effettuata la misurazione\n",
        "- **Modalità**: è il valore numerico o l'attributo qualitativo con cui si caratterizza un campione.\n",
        "- **Frequenza assoluta**: è il numero di volte che una determinata modalità si verifica nel campione di riferimento.\n",
        "- **Frequenza relativa**: é il rapporto dato dalla frequenza e il  numero totale di elementi del campione.\n",
        "- **Outlier**: anomalia nei dati. Può derivare da un errore di registrazione oppure da un evento anomalo reale.\n"
      ],
      "metadata": {
        "id": "bNxAmrcnjoEf"
      }
    },
    {
      "cell_type": "code",
      "source": [
        "\n",
        "# ================================================================\n",
        "# poppolazione: nuclei familiari della città di Torino (anno 2021)\n",
        "# ================================================================\n",
        "fa = '/content/drive/MyDrive/Colab Notebooks/datasets/D2 Famiglie per numero componeneti e circoscrizione.csv'\n",
        "ppl_fa = pd.read_csv(fa, sep=\";\").fillna(0)\n",
        "\n",
        "# !!!!!!!!!!\n",
        "# ATTENZINE!\n",
        "# !!!!!!!!!!display(ppl_fa)\n",
        "\n",
        "# Durante la conversione di un dataset se i campi sono vuoti \n",
        "# vengno convertiti in \"NAN\"(non a number). \n",
        "# Per evitare errori durante i calcoli, riempire i vuoiti con  \"0\". \n",
        "# ppl_fa = ppl_fa.fillna(0)\n",
        "display(ppl_fa)\n",
        "\n",
        "\n",
        "\n",
        "# ================================================================\n",
        "# totale dei numclei familiari\n",
        "# ================================================================\n",
        "# .loc[] accede alle righe del DataFrame\n",
        "# in questo caso prende solo i dati delle circoscrizioni \n",
        "crsc = ppl_fa.loc[: , ppl_fa.columns != \"num_componenti\"]\n",
        "\n",
        "# display(crsc)\n",
        "totf = np.sum(crsc.to_numpy())\n",
        "\n",
        "\n",
        "\n",
        "\n",
        "# ===================================\n",
        "# modalità: 2 componenti\n",
        "# ===================================\n",
        "mod_2c = ppl_fa[\"num_componenti\"] == 2\n",
        "\n",
        "\n",
        "\n",
        "\n",
        "# ===================================\n",
        "# campione: famiglia con 2 componenti\n",
        "# ===================================\n",
        "cmp_2c = ppl_fa[mod_2c].loc[: , ppl_fa.columns != \"num_componenti\"].to_numpy()\n",
        "\n",
        "\n",
        "\n",
        "\n",
        "# =================\n",
        "# frequnza assoluta\n",
        "# =================\n",
        "freq_abs_2c = np.sum(cmp_2c)\n",
        "\n",
        "\n",
        "\n",
        "# =================\n",
        "# frequnza relativa\n",
        "# =================\n",
        "freq_rlt_2c = freq_abs_2c / totf\n",
        "\n",
        "# \n",
        "\n",
        "\n"
      ],
      "metadata": {
        "id": "_DNys_3sjfPL",
        "colab": {
          "base_uri": "https://localhost:8080/",
          "height": 582
        },
        "outputId": "3b5936f3-ef7c-4eec-8b82-70a248470492"
      },
      "execution_count": 10,
      "outputs": [
        {
          "output_type": "display_data",
          "data": {
            "text/plain": [
              "    num_componenti   circ_1   circ_2   circ_3   circ_4   circ_5  circ_6  \\\n",
              "0                1  27328.0  30092.0  31189.0  24363.0  24874.0   21626   \n",
              "1                2   9731.0  19293.0  17125.0  13026.0  17010.0   13492   \n",
              "2                3   4870.0  10170.0   8861.0   6834.0   8894.0    7175   \n",
              "3                4   3244.0   6279.0   5515.0   4285.0   6057.0    4869   \n",
              "4                5    703.0   1254.0   1020.0    917.0   1472.0    1698   \n",
              "5                6    121.0    309.0    198.0    210.0    448.0     622   \n",
              "6                7     37.0     82.0     58.0     50.0    113.0     213   \n",
              "7                8     12.0     26.0     10.0     13.0     34.0      62   \n",
              "8                9      8.0      6.0      4.0      4.0     16.0      32   \n",
              "9               10      2.0      4.0      2.0      3.0      7.0       6   \n",
              "10              11      0.0      3.0      0.0      2.0      1.0       3   \n",
              "11              12      0.0      0.0      0.0      0.0      2.0       4   \n",
              "12              13      1.0      1.0      0.0      0.0      2.0       2   \n",
              "13              14      0.0      0.0      0.0      0.0      0.0       2   \n",
              "14              15      0.0      0.0      0.0      0.0      0.0       1   \n",
              "15              16      0.0      0.0      0.0      0.0      0.0       1   \n",
              "16              17      0.0      0.0      0.0      0.0      0.0       1   \n",
              "\n",
              "     circ_7   circ_8  \n",
              "0   23649.0  32860.0  \n",
              "1   10577.0  17382.0  \n",
              "2    5404.0   8712.0  \n",
              "3    3499.0   5620.0  \n",
              "4    1017.0   1291.0  \n",
              "5     294.0    287.0  \n",
              "6     102.0     81.0  \n",
              "7      44.0     21.0  \n",
              "8       5.0      7.0  \n",
              "9       5.0      3.0  \n",
              "10      3.0      0.0  \n",
              "11      0.0      0.0  \n",
              "12      1.0      0.0  \n",
              "13      0.0      0.0  \n",
              "14      0.0      0.0  \n",
              "15      0.0      0.0  \n",
              "16      0.0      0.0  "
            ],
            "text/html": [
              "\n",
              "  <div id=\"df-6eeef924-ed29-4df0-8648-83a83194ba96\">\n",
              "    <div class=\"colab-df-container\">\n",
              "      <div>\n",
              "<style scoped>\n",
              "    .dataframe tbody tr th:only-of-type {\n",
              "        vertical-align: middle;\n",
              "    }\n",
              "\n",
              "    .dataframe tbody tr th {\n",
              "        vertical-align: top;\n",
              "    }\n",
              "\n",
              "    .dataframe thead th {\n",
              "        text-align: right;\n",
              "    }\n",
              "</style>\n",
              "<table border=\"1\" class=\"dataframe\">\n",
              "  <thead>\n",
              "    <tr style=\"text-align: right;\">\n",
              "      <th></th>\n",
              "      <th>num_componenti</th>\n",
              "      <th>circ_1</th>\n",
              "      <th>circ_2</th>\n",
              "      <th>circ_3</th>\n",
              "      <th>circ_4</th>\n",
              "      <th>circ_5</th>\n",
              "      <th>circ_6</th>\n",
              "      <th>circ_7</th>\n",
              "      <th>circ_8</th>\n",
              "    </tr>\n",
              "  </thead>\n",
              "  <tbody>\n",
              "    <tr>\n",
              "      <th>0</th>\n",
              "      <td>1</td>\n",
              "      <td>27328.0</td>\n",
              "      <td>30092.0</td>\n",
              "      <td>31189.0</td>\n",
              "      <td>24363.0</td>\n",
              "      <td>24874.0</td>\n",
              "      <td>21626</td>\n",
              "      <td>23649.0</td>\n",
              "      <td>32860.0</td>\n",
              "    </tr>\n",
              "    <tr>\n",
              "      <th>1</th>\n",
              "      <td>2</td>\n",
              "      <td>9731.0</td>\n",
              "      <td>19293.0</td>\n",
              "      <td>17125.0</td>\n",
              "      <td>13026.0</td>\n",
              "      <td>17010.0</td>\n",
              "      <td>13492</td>\n",
              "      <td>10577.0</td>\n",
              "      <td>17382.0</td>\n",
              "    </tr>\n",
              "    <tr>\n",
              "      <th>2</th>\n",
              "      <td>3</td>\n",
              "      <td>4870.0</td>\n",
              "      <td>10170.0</td>\n",
              "      <td>8861.0</td>\n",
              "      <td>6834.0</td>\n",
              "      <td>8894.0</td>\n",
              "      <td>7175</td>\n",
              "      <td>5404.0</td>\n",
              "      <td>8712.0</td>\n",
              "    </tr>\n",
              "    <tr>\n",
              "      <th>3</th>\n",
              "      <td>4</td>\n",
              "      <td>3244.0</td>\n",
              "      <td>6279.0</td>\n",
              "      <td>5515.0</td>\n",
              "      <td>4285.0</td>\n",
              "      <td>6057.0</td>\n",
              "      <td>4869</td>\n",
              "      <td>3499.0</td>\n",
              "      <td>5620.0</td>\n",
              "    </tr>\n",
              "    <tr>\n",
              "      <th>4</th>\n",
              "      <td>5</td>\n",
              "      <td>703.0</td>\n",
              "      <td>1254.0</td>\n",
              "      <td>1020.0</td>\n",
              "      <td>917.0</td>\n",
              "      <td>1472.0</td>\n",
              "      <td>1698</td>\n",
              "      <td>1017.0</td>\n",
              "      <td>1291.0</td>\n",
              "    </tr>\n",
              "    <tr>\n",
              "      <th>5</th>\n",
              "      <td>6</td>\n",
              "      <td>121.0</td>\n",
              "      <td>309.0</td>\n",
              "      <td>198.0</td>\n",
              "      <td>210.0</td>\n",
              "      <td>448.0</td>\n",
              "      <td>622</td>\n",
              "      <td>294.0</td>\n",
              "      <td>287.0</td>\n",
              "    </tr>\n",
              "    <tr>\n",
              "      <th>6</th>\n",
              "      <td>7</td>\n",
              "      <td>37.0</td>\n",
              "      <td>82.0</td>\n",
              "      <td>58.0</td>\n",
              "      <td>50.0</td>\n",
              "      <td>113.0</td>\n",
              "      <td>213</td>\n",
              "      <td>102.0</td>\n",
              "      <td>81.0</td>\n",
              "    </tr>\n",
              "    <tr>\n",
              "      <th>7</th>\n",
              "      <td>8</td>\n",
              "      <td>12.0</td>\n",
              "      <td>26.0</td>\n",
              "      <td>10.0</td>\n",
              "      <td>13.0</td>\n",
              "      <td>34.0</td>\n",
              "      <td>62</td>\n",
              "      <td>44.0</td>\n",
              "      <td>21.0</td>\n",
              "    </tr>\n",
              "    <tr>\n",
              "      <th>8</th>\n",
              "      <td>9</td>\n",
              "      <td>8.0</td>\n",
              "      <td>6.0</td>\n",
              "      <td>4.0</td>\n",
              "      <td>4.0</td>\n",
              "      <td>16.0</td>\n",
              "      <td>32</td>\n",
              "      <td>5.0</td>\n",
              "      <td>7.0</td>\n",
              "    </tr>\n",
              "    <tr>\n",
              "      <th>9</th>\n",
              "      <td>10</td>\n",
              "      <td>2.0</td>\n",
              "      <td>4.0</td>\n",
              "      <td>2.0</td>\n",
              "      <td>3.0</td>\n",
              "      <td>7.0</td>\n",
              "      <td>6</td>\n",
              "      <td>5.0</td>\n",
              "      <td>3.0</td>\n",
              "    </tr>\n",
              "    <tr>\n",
              "      <th>10</th>\n",
              "      <td>11</td>\n",
              "      <td>0.0</td>\n",
              "      <td>3.0</td>\n",
              "      <td>0.0</td>\n",
              "      <td>2.0</td>\n",
              "      <td>1.0</td>\n",
              "      <td>3</td>\n",
              "      <td>3.0</td>\n",
              "      <td>0.0</td>\n",
              "    </tr>\n",
              "    <tr>\n",
              "      <th>11</th>\n",
              "      <td>12</td>\n",
              "      <td>0.0</td>\n",
              "      <td>0.0</td>\n",
              "      <td>0.0</td>\n",
              "      <td>0.0</td>\n",
              "      <td>2.0</td>\n",
              "      <td>4</td>\n",
              "      <td>0.0</td>\n",
              "      <td>0.0</td>\n",
              "    </tr>\n",
              "    <tr>\n",
              "      <th>12</th>\n",
              "      <td>13</td>\n",
              "      <td>1.0</td>\n",
              "      <td>1.0</td>\n",
              "      <td>0.0</td>\n",
              "      <td>0.0</td>\n",
              "      <td>2.0</td>\n",
              "      <td>2</td>\n",
              "      <td>1.0</td>\n",
              "      <td>0.0</td>\n",
              "    </tr>\n",
              "    <tr>\n",
              "      <th>13</th>\n",
              "      <td>14</td>\n",
              "      <td>0.0</td>\n",
              "      <td>0.0</td>\n",
              "      <td>0.0</td>\n",
              "      <td>0.0</td>\n",
              "      <td>0.0</td>\n",
              "      <td>2</td>\n",
              "      <td>0.0</td>\n",
              "      <td>0.0</td>\n",
              "    </tr>\n",
              "    <tr>\n",
              "      <th>14</th>\n",
              "      <td>15</td>\n",
              "      <td>0.0</td>\n",
              "      <td>0.0</td>\n",
              "      <td>0.0</td>\n",
              "      <td>0.0</td>\n",
              "      <td>0.0</td>\n",
              "      <td>1</td>\n",
              "      <td>0.0</td>\n",
              "      <td>0.0</td>\n",
              "    </tr>\n",
              "    <tr>\n",
              "      <th>15</th>\n",
              "      <td>16</td>\n",
              "      <td>0.0</td>\n",
              "      <td>0.0</td>\n",
              "      <td>0.0</td>\n",
              "      <td>0.0</td>\n",
              "      <td>0.0</td>\n",
              "      <td>1</td>\n",
              "      <td>0.0</td>\n",
              "      <td>0.0</td>\n",
              "    </tr>\n",
              "    <tr>\n",
              "      <th>16</th>\n",
              "      <td>17</td>\n",
              "      <td>0.0</td>\n",
              "      <td>0.0</td>\n",
              "      <td>0.0</td>\n",
              "      <td>0.0</td>\n",
              "      <td>0.0</td>\n",
              "      <td>1</td>\n",
              "      <td>0.0</td>\n",
              "      <td>0.0</td>\n",
              "    </tr>\n",
              "  </tbody>\n",
              "</table>\n",
              "</div>\n",
              "      <button class=\"colab-df-convert\" onclick=\"convertToInteractive('df-6eeef924-ed29-4df0-8648-83a83194ba96')\"\n",
              "              title=\"Convert this dataframe to an interactive table.\"\n",
              "              style=\"display:none;\">\n",
              "        \n",
              "  <svg xmlns=\"http://www.w3.org/2000/svg\" height=\"24px\"viewBox=\"0 0 24 24\"\n",
              "       width=\"24px\">\n",
              "    <path d=\"M0 0h24v24H0V0z\" fill=\"none\"/>\n",
              "    <path d=\"M18.56 5.44l.94 2.06.94-2.06 2.06-.94-2.06-.94-.94-2.06-.94 2.06-2.06.94zm-11 1L8.5 8.5l.94-2.06 2.06-.94-2.06-.94L8.5 2.5l-.94 2.06-2.06.94zm10 10l.94 2.06.94-2.06 2.06-.94-2.06-.94-.94-2.06-.94 2.06-2.06.94z\"/><path d=\"M17.41 7.96l-1.37-1.37c-.4-.4-.92-.59-1.43-.59-.52 0-1.04.2-1.43.59L10.3 9.45l-7.72 7.72c-.78.78-.78 2.05 0 2.83L4 21.41c.39.39.9.59 1.41.59.51 0 1.02-.2 1.41-.59l7.78-7.78 2.81-2.81c.8-.78.8-2.07 0-2.86zM5.41 20L4 18.59l7.72-7.72 1.47 1.35L5.41 20z\"/>\n",
              "  </svg>\n",
              "      </button>\n",
              "      \n",
              "  <style>\n",
              "    .colab-df-container {\n",
              "      display:flex;\n",
              "      flex-wrap:wrap;\n",
              "      gap: 12px;\n",
              "    }\n",
              "\n",
              "    .colab-df-convert {\n",
              "      background-color: #E8F0FE;\n",
              "      border: none;\n",
              "      border-radius: 50%;\n",
              "      cursor: pointer;\n",
              "      display: none;\n",
              "      fill: #1967D2;\n",
              "      height: 32px;\n",
              "      padding: 0 0 0 0;\n",
              "      width: 32px;\n",
              "    }\n",
              "\n",
              "    .colab-df-convert:hover {\n",
              "      background-color: #E2EBFA;\n",
              "      box-shadow: 0px 1px 2px rgba(60, 64, 67, 0.3), 0px 1px 3px 1px rgba(60, 64, 67, 0.15);\n",
              "      fill: #174EA6;\n",
              "    }\n",
              "\n",
              "    [theme=dark] .colab-df-convert {\n",
              "      background-color: #3B4455;\n",
              "      fill: #D2E3FC;\n",
              "    }\n",
              "\n",
              "    [theme=dark] .colab-df-convert:hover {\n",
              "      background-color: #434B5C;\n",
              "      box-shadow: 0px 1px 3px 1px rgba(0, 0, 0, 0.15);\n",
              "      filter: drop-shadow(0px 1px 2px rgba(0, 0, 0, 0.3));\n",
              "      fill: #FFFFFF;\n",
              "    }\n",
              "  </style>\n",
              "\n",
              "      <script>\n",
              "        const buttonEl =\n",
              "          document.querySelector('#df-6eeef924-ed29-4df0-8648-83a83194ba96 button.colab-df-convert');\n",
              "        buttonEl.style.display =\n",
              "          google.colab.kernel.accessAllowed ? 'block' : 'none';\n",
              "\n",
              "        async function convertToInteractive(key) {\n",
              "          const element = document.querySelector('#df-6eeef924-ed29-4df0-8648-83a83194ba96');\n",
              "          const dataTable =\n",
              "            await google.colab.kernel.invokeFunction('convertToInteractive',\n",
              "                                                     [key], {});\n",
              "          if (!dataTable) return;\n",
              "\n",
              "          const docLinkHtml = 'Like what you see? Visit the ' +\n",
              "            '<a target=\"_blank\" href=https://colab.research.google.com/notebooks/data_table.ipynb>data table notebook</a>'\n",
              "            + ' to learn more about interactive tables.';\n",
              "          element.innerHTML = '';\n",
              "          dataTable['output_type'] = 'display_data';\n",
              "          await google.colab.output.renderOutput(dataTable, element);\n",
              "          const docLink = document.createElement('div');\n",
              "          docLink.innerHTML = docLinkHtml;\n",
              "          element.appendChild(docLink);\n",
              "        }\n",
              "      </script>\n",
              "    </div>\n",
              "  </div>\n",
              "  "
            ]
          },
          "metadata": {}
        }
      ]
    },
    {
      "cell_type": "markdown",
      "source": [
        "\n",
        "\n",
        "---\n",
        "# **2. Tipologia delle rilevazioni statistiche**\n",
        "\n",
        "\n",
        "---\n",
        "\n",
        "\n"
      ],
      "metadata": {
        "id": "DprCSeVChqB5"
      }
    },
    {
      "cell_type": "markdown",
      "source": [
        "- **Distribuzioni di frequenza**: indicano come i campioni della popolazione si distribuiscono rispetto alle modalità.\n",
        "\n",
        "\n",
        "- **Serie storiche**: descrivono la dinamica di un certo fenomeno registrato in un perido definito.  \n",
        "\n",
        "\n",
        "- **Serie territoriali**: descrivono un fenomeno in rapporto al territorio. \n",
        "\n",
        "\n",
        "- **Serie spazio-temporali**: sia storiche che territoriali.\n",
        "\n",
        "- **Matrice di dati**: shematizzazione di informazioni in forma tabellare. Roccolgono campionature in rapporto alle misurazioni effettuate su uno i più fenomeni.\n",
        "\n",
        "N.B Nel caso di una serie si può parlare di *serie univariate*, *bivariate* o *multivariate* a seconda che i fenomeni di indagine siano 1, 2 o molti. \n",
        "\n"
      ],
      "metadata": {
        "id": "eQ1eOWM-jMWn"
      }
    },
    {
      "cell_type": "markdown",
      "source": [
        "\n",
        "\n",
        "---\n",
        "\n",
        "\n",
        "# **3.Misure Statistiche Elementari**\n",
        "\n",
        "\n",
        "---\n",
        "\n"
      ],
      "metadata": {
        "id": "TVnYEIO_GuOU"
      }
    },
    {
      "cell_type": "markdown",
      "source": [
        "\n",
        "\\begin{align}\n",
        "differenza\\ assoluta = x_2 - x_1\n",
        "\\end{align}\n",
        "\n",
        "\n",
        "\n",
        "\n",
        "\n",
        "\\\n",
        "\n",
        "\n",
        "\n",
        "\\begin{align}\n",
        "differenza\\ relativa = {x_2 - x_1 \\over x_1} \n",
        "\\end{align}\n",
        "\n",
        "La differenza assoluta viene calcolata tra due modalità di un carattere quantitativo  $\\mathrm{x}$. Soprattuto se espressa in percentuale, da un indicazione immediata della variazione del dato tra du\n"
      ],
      "metadata": {
        "id": "SuSGsvZ_MlnU"
      }
    },
    {
      "cell_type": "code",
      "source": [
        "def diff_abs(x2: np.array, x1: np.array) -> np.array:\n",
        "  return x2 - x1\n",
        "\n",
        "def diff_rel(dabs: np.array, x1: np.array) -> np.array:\n",
        "  return dabs / x1"
      ],
      "metadata": {
        "id": "o6mvnZJJXRlc"
      },
      "execution_count": 12,
      "outputs": []
    },
    {
      "cell_type": "code",
      "source": [
        "# ========================================================================\n",
        "# popolazione:  valori della produttività dei terreni agricoli per regione\n",
        "# ========================================================================\n",
        "path = \"/content/drive/MyDrive/Colab Notebooks/datasets/Produttivita-dei-terreni-agricoli-per-regione.csv\"\n",
        "\n",
        "\n",
        "# !!!!!!!!!!!!\n",
        "# Attenzione !\n",
        "# !!!!!!!!!!!!\n",
        "# I dataset possono contenere caratteri non compatibili con la codifica utf-8\n",
        "ppl_pa = pd.read_csv(path, encoding='ISO-8859-1', sep=\";\").fillna(0)\n",
        "\n",
        "cmp_pie = ppl_pa[ ppl_pa[\"Regione\"] == \"Piemonte\" ]\n",
        "display(cmp_pie)\n",
        "\n",
        "pie_a_1995 = cmp_pie[cmp_pie[\"Anno\"] == 1995][\"Produttività in migliaia di euro\"].to_numpy()\n",
        "pie_a_1996 = cmp_pie[cmp_pie[\"Anno\"] == 1996][\"Produttività in migliaia di euro\"].to_numpy()\n",
        "\n",
        "\n",
        "# ===================\n",
        "# differenza assoluta\n",
        "# ===================\n",
        "pie_da_95_96 = diff_abs(pie_a_1996, pie_a_1995)\n",
        "\n",
        "\n",
        "# ===================\n",
        "# differenza relativa\n",
        "# ===================\n",
        "pie_dr_95_96 = diff_rel(pie_da_95_96, pie_a_1995)\n",
        "\n",
        "print(\"la produttività è variata del \",  pie_dr_95_96[0] * 100, \"% tra il 1995 e il 1998\")\n"
      ],
      "metadata": {
        "id": "s683rVy9jJZS",
        "colab": {
          "base_uri": "https://localhost:8080/",
          "height": 600
        },
        "outputId": "d28c935d-a0c1-4ba9-afac-1d8eaa9739d1"
      },
      "execution_count": 13,
      "outputs": [
        {
          "output_type": "display_data",
          "data": {
            "text/plain": [
              "     Anno   Regione  Produttività in migliaia di euro\n",
              "0    1995  Piemonte                            1.4324\n",
              "20   1996  Piemonte                            1.4704\n",
              "40   1997  Piemonte                            1.3570\n",
              "60   1998  Piemonte                            1.3662\n",
              "80   1999  Piemonte                            1.4720\n",
              "100  2000  Piemonte                            1.5106\n",
              "120  2001  Piemonte                            1.6142\n",
              "140  2002  Piemonte                            1.5292\n",
              "160  2003  Piemonte                            1.4395\n",
              "180  2004  Piemonte                            1.6504\n",
              "200  2005  Piemonte                            1.5441\n",
              "220  2006  Piemonte                            1.5833\n",
              "240  2007  Piemonte                            1.5443\n",
              "260  2008  Piemonte                            1.5516\n",
              "280  2009  Piemonte                            1.5134\n",
              "300  2010  Piemonte                            1.5252\n",
              "320  2011  Piemonte                            1.5373"
            ],
            "text/html": [
              "\n",
              "  <div id=\"df-9738b219-015a-4d35-a390-88f5350fc946\">\n",
              "    <div class=\"colab-df-container\">\n",
              "      <div>\n",
              "<style scoped>\n",
              "    .dataframe tbody tr th:only-of-type {\n",
              "        vertical-align: middle;\n",
              "    }\n",
              "\n",
              "    .dataframe tbody tr th {\n",
              "        vertical-align: top;\n",
              "    }\n",
              "\n",
              "    .dataframe thead th {\n",
              "        text-align: right;\n",
              "    }\n",
              "</style>\n",
              "<table border=\"1\" class=\"dataframe\">\n",
              "  <thead>\n",
              "    <tr style=\"text-align: right;\">\n",
              "      <th></th>\n",
              "      <th>Anno</th>\n",
              "      <th>Regione</th>\n",
              "      <th>Produttività in migliaia di euro</th>\n",
              "    </tr>\n",
              "  </thead>\n",
              "  <tbody>\n",
              "    <tr>\n",
              "      <th>0</th>\n",
              "      <td>1995</td>\n",
              "      <td>Piemonte</td>\n",
              "      <td>1.4324</td>\n",
              "    </tr>\n",
              "    <tr>\n",
              "      <th>20</th>\n",
              "      <td>1996</td>\n",
              "      <td>Piemonte</td>\n",
              "      <td>1.4704</td>\n",
              "    </tr>\n",
              "    <tr>\n",
              "      <th>40</th>\n",
              "      <td>1997</td>\n",
              "      <td>Piemonte</td>\n",
              "      <td>1.3570</td>\n",
              "    </tr>\n",
              "    <tr>\n",
              "      <th>60</th>\n",
              "      <td>1998</td>\n",
              "      <td>Piemonte</td>\n",
              "      <td>1.3662</td>\n",
              "    </tr>\n",
              "    <tr>\n",
              "      <th>80</th>\n",
              "      <td>1999</td>\n",
              "      <td>Piemonte</td>\n",
              "      <td>1.4720</td>\n",
              "    </tr>\n",
              "    <tr>\n",
              "      <th>100</th>\n",
              "      <td>2000</td>\n",
              "      <td>Piemonte</td>\n",
              "      <td>1.5106</td>\n",
              "    </tr>\n",
              "    <tr>\n",
              "      <th>120</th>\n",
              "      <td>2001</td>\n",
              "      <td>Piemonte</td>\n",
              "      <td>1.6142</td>\n",
              "    </tr>\n",
              "    <tr>\n",
              "      <th>140</th>\n",
              "      <td>2002</td>\n",
              "      <td>Piemonte</td>\n",
              "      <td>1.5292</td>\n",
              "    </tr>\n",
              "    <tr>\n",
              "      <th>160</th>\n",
              "      <td>2003</td>\n",
              "      <td>Piemonte</td>\n",
              "      <td>1.4395</td>\n",
              "    </tr>\n",
              "    <tr>\n",
              "      <th>180</th>\n",
              "      <td>2004</td>\n",
              "      <td>Piemonte</td>\n",
              "      <td>1.6504</td>\n",
              "    </tr>\n",
              "    <tr>\n",
              "      <th>200</th>\n",
              "      <td>2005</td>\n",
              "      <td>Piemonte</td>\n",
              "      <td>1.5441</td>\n",
              "    </tr>\n",
              "    <tr>\n",
              "      <th>220</th>\n",
              "      <td>2006</td>\n",
              "      <td>Piemonte</td>\n",
              "      <td>1.5833</td>\n",
              "    </tr>\n",
              "    <tr>\n",
              "      <th>240</th>\n",
              "      <td>2007</td>\n",
              "      <td>Piemonte</td>\n",
              "      <td>1.5443</td>\n",
              "    </tr>\n",
              "    <tr>\n",
              "      <th>260</th>\n",
              "      <td>2008</td>\n",
              "      <td>Piemonte</td>\n",
              "      <td>1.5516</td>\n",
              "    </tr>\n",
              "    <tr>\n",
              "      <th>280</th>\n",
              "      <td>2009</td>\n",
              "      <td>Piemonte</td>\n",
              "      <td>1.5134</td>\n",
              "    </tr>\n",
              "    <tr>\n",
              "      <th>300</th>\n",
              "      <td>2010</td>\n",
              "      <td>Piemonte</td>\n",
              "      <td>1.5252</td>\n",
              "    </tr>\n",
              "    <tr>\n",
              "      <th>320</th>\n",
              "      <td>2011</td>\n",
              "      <td>Piemonte</td>\n",
              "      <td>1.5373</td>\n",
              "    </tr>\n",
              "  </tbody>\n",
              "</table>\n",
              "</div>\n",
              "      <button class=\"colab-df-convert\" onclick=\"convertToInteractive('df-9738b219-015a-4d35-a390-88f5350fc946')\"\n",
              "              title=\"Convert this dataframe to an interactive table.\"\n",
              "              style=\"display:none;\">\n",
              "        \n",
              "  <svg xmlns=\"http://www.w3.org/2000/svg\" height=\"24px\"viewBox=\"0 0 24 24\"\n",
              "       width=\"24px\">\n",
              "    <path d=\"M0 0h24v24H0V0z\" fill=\"none\"/>\n",
              "    <path d=\"M18.56 5.44l.94 2.06.94-2.06 2.06-.94-2.06-.94-.94-2.06-.94 2.06-2.06.94zm-11 1L8.5 8.5l.94-2.06 2.06-.94-2.06-.94L8.5 2.5l-.94 2.06-2.06.94zm10 10l.94 2.06.94-2.06 2.06-.94-2.06-.94-.94-2.06-.94 2.06-2.06.94z\"/><path d=\"M17.41 7.96l-1.37-1.37c-.4-.4-.92-.59-1.43-.59-.52 0-1.04.2-1.43.59L10.3 9.45l-7.72 7.72c-.78.78-.78 2.05 0 2.83L4 21.41c.39.39.9.59 1.41.59.51 0 1.02-.2 1.41-.59l7.78-7.78 2.81-2.81c.8-.78.8-2.07 0-2.86zM5.41 20L4 18.59l7.72-7.72 1.47 1.35L5.41 20z\"/>\n",
              "  </svg>\n",
              "      </button>\n",
              "      \n",
              "  <style>\n",
              "    .colab-df-container {\n",
              "      display:flex;\n",
              "      flex-wrap:wrap;\n",
              "      gap: 12px;\n",
              "    }\n",
              "\n",
              "    .colab-df-convert {\n",
              "      background-color: #E8F0FE;\n",
              "      border: none;\n",
              "      border-radius: 50%;\n",
              "      cursor: pointer;\n",
              "      display: none;\n",
              "      fill: #1967D2;\n",
              "      height: 32px;\n",
              "      padding: 0 0 0 0;\n",
              "      width: 32px;\n",
              "    }\n",
              "\n",
              "    .colab-df-convert:hover {\n",
              "      background-color: #E2EBFA;\n",
              "      box-shadow: 0px 1px 2px rgba(60, 64, 67, 0.3), 0px 1px 3px 1px rgba(60, 64, 67, 0.15);\n",
              "      fill: #174EA6;\n",
              "    }\n",
              "\n",
              "    [theme=dark] .colab-df-convert {\n",
              "      background-color: #3B4455;\n",
              "      fill: #D2E3FC;\n",
              "    }\n",
              "\n",
              "    [theme=dark] .colab-df-convert:hover {\n",
              "      background-color: #434B5C;\n",
              "      box-shadow: 0px 1px 3px 1px rgba(0, 0, 0, 0.15);\n",
              "      filter: drop-shadow(0px 1px 2px rgba(0, 0, 0, 0.3));\n",
              "      fill: #FFFFFF;\n",
              "    }\n",
              "  </style>\n",
              "\n",
              "      <script>\n",
              "        const buttonEl =\n",
              "          document.querySelector('#df-9738b219-015a-4d35-a390-88f5350fc946 button.colab-df-convert');\n",
              "        buttonEl.style.display =\n",
              "          google.colab.kernel.accessAllowed ? 'block' : 'none';\n",
              "\n",
              "        async function convertToInteractive(key) {\n",
              "          const element = document.querySelector('#df-9738b219-015a-4d35-a390-88f5350fc946');\n",
              "          const dataTable =\n",
              "            await google.colab.kernel.invokeFunction('convertToInteractive',\n",
              "                                                     [key], {});\n",
              "          if (!dataTable) return;\n",
              "\n",
              "          const docLinkHtml = 'Like what you see? Visit the ' +\n",
              "            '<a target=\"_blank\" href=https://colab.research.google.com/notebooks/data_table.ipynb>data table notebook</a>'\n",
              "            + ' to learn more about interactive tables.';\n",
              "          element.innerHTML = '';\n",
              "          dataTable['output_type'] = 'display_data';\n",
              "          await google.colab.output.renderOutput(dataTable, element);\n",
              "          const docLink = document.createElement('div');\n",
              "          docLink.innerHTML = docLinkHtml;\n",
              "          element.appendChild(docLink);\n",
              "        }\n",
              "      </script>\n",
              "    </div>\n",
              "  </div>\n",
              "  "
            ]
          },
          "metadata": {}
        },
        {
          "output_type": "stream",
          "name": "stdout",
          "text": [
            "la produttività è variata del  2.652890254118964 % tra il 1995 e il 1998\n"
          ]
        }
      ]
    },
    {
      "cell_type": "markdown",
      "source": [
        "# **4.Indici di Posizione**"
      ],
      "metadata": {
        "id": "QKjCDcz5cyr2"
      }
    },
    {
      "cell_type": "markdown",
      "source": [
        "Gli indici di posizione individuano il voalore attorno al quale i dati della di una distribuzione cadono con frequenza maggiore."
      ],
      "metadata": {
        "id": "7Tkk8Ct4do7l"
      }
    },
    {
      "cell_type": "markdown",
      "source": [
        "**4.1 Media**\n",
        "\n",
        "\n"
      ],
      "metadata": {
        "id": "3BDorfIZeH1A"
      }
    },
    {
      "cell_type": "markdown",
      "source": [
        " - **media aritmetica:** misura la tendenza centrale di una distribuzione"
      ],
      "metadata": {
        "id": "HVk80A-fhdim"
      }
    },
    {
      "cell_type": "markdown",
      "source": [
        "\\begin{align}\n",
        "        media \\ aritmetica = \\mu =  {x_1 + x_2 + ...+ x_n \\over n}   = \\sum_{i=1}^n {x_i \\over n} = {1 \\over n}\\sum_{i=1}^n x_1\n",
        "\\end{align}"
      ],
      "metadata": {
        "id": "mMCYGd0UeaYg"
      }
    },
    {
      "cell_type": "markdown",
      "source": [
        "\n",
        "\\\n",
        "\n",
        "**pseudocodice**"
      ],
      "metadata": {
        "id": "6_HIKHG8tGJj"
      }
    },
    {
      "cell_type": "markdown",
      "source": [
        "\n",
        "\n",
        "```\n",
        "m = 0\n",
        "n = array.size\n",
        "for x in array\n",
        "  m += (x / n)\n",
        "```\n",
        "\n"
      ],
      "metadata": {
        "id": "jMo3wbFjftbj"
      }
    },
    {
      "cell_type": "markdown",
      "source": [
        "**python**"
      ],
      "metadata": {
        "id": "rzOKYs9jtPyN"
      }
    },
    {
      "cell_type": "code",
      "source": [
        "def media_aritmetica(data: np.array) -> float:\n",
        "  n = data.size\n",
        "  return sum(data) / data.size"
      ],
      "metadata": {
        "id": "10FhsPTVgAQh"
      },
      "execution_count": 14,
      "outputs": []
    },
    {
      "cell_type": "markdown",
      "source": [
        "**test**"
      ],
      "metadata": {
        "id": "sMr1S_SAubIP"
      }
    },
    {
      "cell_type": "code",
      "source": [
        "assert media_aritmetica(np.array([1, 2, 3, 4])) == 2.5, f\"errore di implementazione nella mediar aritmetica\""
      ],
      "metadata": {
        "id": "QP6n--Xet1q7"
      },
      "execution_count": 15,
      "outputs": []
    },
    {
      "cell_type": "markdown",
      "source": [
        "**visualizzazione**"
      ],
      "metadata": {
        "id": "2EXrycLztTnt"
      }
    },
    {
      "cell_type": "code",
      "source": [
        "\n",
        "d = np.array([12, 34, 25, 23, 2, 5, 10, 12, 33, 45], np.float64)\n",
        "ma = media_aritmetica(d)\n",
        "\n",
        "\n",
        "\n",
        "plt.plot(np.arange(10), np.full(10, ma), color=\"red\", label= \"media: \" + str(ma))\n",
        "plt.scatter(np.arange(10), d, alpha = 0.7)\n",
        "\n",
        "plt.legend()\n",
        "plt.show()"
      ],
      "metadata": {
        "id": "b7rra7Uoqqeh"
      },
      "execution_count": null,
      "outputs": []
    },
    {
      "cell_type": "markdown",
      "source": [
        "\n",
        "\\\n"
      ],
      "metadata": {
        "id": "LeRqfgeqiBJj"
      }
    },
    {
      "cell_type": "markdown",
      "source": [
        " - **media geometrica:** misura la tendenza centrale di una distribuzione di dati che contengono informazioni derivate da una moltiplicazione.\n",
        "> es. il tasso di variazione calcolato dai dati sulla produzione agricola\n",
        "\n",
        "\n",
        "\n"
      ],
      "metadata": {
        "id": "Pbh5p2edhYlc"
      }
    },
    {
      "cell_type": "markdown",
      "source": [
        "\\begin{align}\n",
        "        media \\ geometrica = \\mu =  \\sqrt[n]{x_1 * x_2 * ...* x_n}   = \\sqrt[n]{\\prod_{i=1}^n {x_i}} \n",
        "\\end{align}"
      ],
      "metadata": {
        "id": "Zte3twWNi04r"
      }
    },
    {
      "cell_type": "markdown",
      "source": [
        "\n",
        "\\\n",
        "\n",
        "**pseudocodice**"
      ],
      "metadata": {
        "id": "UrnaA8ssun1X"
      }
    },
    {
      "cell_type": "markdown",
      "source": [
        "\n",
        "\n",
        "```\n",
        "m = 1\n",
        "n = array.size\n",
        "for x in array\n",
        "  m *= x\n",
        "m = pow(m, 1 /array.size) \n",
        "```\n",
        "\n"
      ],
      "metadata": {
        "id": "7mMnWmPBkdcQ"
      }
    },
    {
      "cell_type": "markdown",
      "source": [
        "**python**"
      ],
      "metadata": {
        "id": "ZEVFSxNjuxId"
      }
    },
    {
      "cell_type": "code",
      "source": [
        "def media_geometrica(data: np.array) -> float:\n",
        "  n = data.size\n",
        "  m = np.prod(data)\n",
        "  return pow(m, 1 / n)"
      ],
      "metadata": {
        "id": "9L9BtbV-lfa9"
      },
      "execution_count": 18,
      "outputs": []
    },
    {
      "cell_type": "markdown",
      "source": [
        "**test**"
      ],
      "metadata": {
        "id": "CzBbhMVCvgYd"
      }
    },
    {
      "cell_type": "code",
      "source": [
        "assert media_geometrica(np.array([3, 3, 3, 3, 3, 3])) == 3.0, f\"errore di implementazione nella media geometrica\""
      ],
      "metadata": {
        "id": "5sN1Qyhavin9"
      },
      "execution_count": 19,
      "outputs": []
    },
    {
      "cell_type": "markdown",
      "source": [
        "**visualizzazione**"
      ],
      "metadata": {
        "id": "ih9kzeTIvE1B"
      }
    },
    {
      "cell_type": "code",
      "source": [
        "d = np.array([12, 34, 25, 23, 2, 5, 10, 12, 33, 45], np.float64)\n",
        "mg = media_geometrica(d)\n",
        "\n",
        "plt.plot(np.arange(10), np.full(10, mg), color=\"brown\", label= \"media: \" + str(ma))\n",
        "plt.scatter(np.arange(10), d, alpha = 0.7)\n",
        "\n",
        "plt.legend()\n",
        "plt.show()"
      ],
      "metadata": {
        "id": "_f7GaBC4u3It",
        "colab": {
          "base_uri": "https://localhost:8080/",
          "height": 265
        },
        "outputId": "bf1161ff-002d-4f6b-c82c-171f11a2433d"
      },
      "execution_count": 20,
      "outputs": [
        {
          "output_type": "display_data",
          "data": {
            "text/plain": [
              "<Figure size 432x288 with 1 Axes>"
            ],
            "image/png": "[encoded data removed]"
          },
          "metadata": {
            "needs_background": "light"
          }
        }
      ]
    },
    {
      "cell_type": "markdown",
      "source": [
        "\n",
        "**N.B**\n",
        "\n",
        "Sebbene la media rappresenti un'indagine preliminare molto utile, è molto sensibile alla variazione dei vaolri e alle anomalie (*outlier*)\n",
        "\n"
      ],
      "metadata": {
        "id": "sK_lP0qm8Teu"
      }
    },
    {
      "cell_type": "code",
      "source": [
        "temperature = np.array([23, 25,29, 30, 62, 28, 27, 15, 28, 23])\n"
      ],
      "metadata": {
        "id": "7zRPuFle9KyM"
      },
      "execution_count": 21,
      "outputs": []
    },
    {
      "cell_type": "markdown",
      "source": [
        "\n",
        "\\\n"
      ],
      "metadata": {
        "id": "UtwywO6D8UNK"
      }
    },
    {
      "cell_type": "markdown",
      "source": [
        "**4.2 Posizione su un ordinamento**\n"
      ],
      "metadata": {
        "id": "Ht_n9kamxEV1"
      }
    },
    {
      "cell_type": "markdown",
      "source": [
        "- **quantile:** Il quantile  di ordine n o n-quantile (con n  preso nelll'intervallo 0-1 dei numeri reali) indica un valore al di sotto del quale si trova una certa percentuale di dati."
      ],
      "metadata": {
        "id": "ZYx1ZiL73MLX"
      }
    },
    {
      "cell_type": "markdown",
      "source": [
        "**python**"
      ],
      "metadata": {
        "id": "EaQyg1zC5vY0"
      }
    },
    {
      "cell_type": "code",
      "source": [
        "def quantile(data: np.array, n: float) -> float:\n",
        "  assert n <= 1.0, \"l'ordine del quantile deve essere un numero tra 0 e 1\"\n",
        "  index = int( n * float(data.size) )\n",
        "  do = np.sort(data)\n",
        "  return do[index]\n",
        "\n",
        "def quantile_index(data: np.array, n: float) -> float:\n",
        "  assert n <= 1.0, \"l'ordine del quantile deve essere un numero tra 0 e 1\"\n",
        "  index = int( n * float(data.size) )\n",
        "  do = np.sort(data)\n",
        "  return index\n"
      ],
      "metadata": {
        "id": "gPSezcbt5i1r"
      },
      "execution_count": 22,
      "outputs": []
    },
    {
      "cell_type": "markdown",
      "source": [
        "**test**"
      ],
      "metadata": {
        "id": "p1_agIpX6lrh"
      }
    },
    {
      "cell_type": "code",
      "source": [
        "d = np.array([12, 9, 34, 55, 17, 42, 25, 52, 55, 36])\n",
        "\n",
        "# sorted: [9 12 17 25 34 36 42 52 55 55]\n",
        "assert quantile(d, 0.1)  == 12\n",
        "assert quantile(d, 0.25) == 17\n",
        "assert quantile(d, 0.50) == 36\n",
        "assert quantile(d, 0.75) == 52\n",
        "assert quantile(d, 0.90) == 55"
      ],
      "metadata": {
        "id": "BW9gwITD6pmi"
      },
      "execution_count": 25,
      "outputs": []
    },
    {
      "cell_type": "markdown",
      "source": [
        "**visualizzazione**"
      ],
      "metadata": {
        "id": "B35MUXUM_WoX"
      }
    },
    {
      "cell_type": "code",
      "source": [
        "\n",
        "ds = np.sort(d)\n",
        "\n",
        "d_max = ds[-1];\n",
        "\n",
        "qx10  = np.full(d_max, quantile_index(ds, 0.1 ) );\n",
        "qx25  = np.full(d_max, quantile_index(ds, 0.25) );\n",
        "qx50  = np.full(d_max, quantile_index(ds, 0.50) );\n",
        "qx75  = np.full(d_max, quantile_index(ds, 0.75) );\n",
        "qx90  = np.full(d_max, quantile_index(ds, 0.90) );\n",
        "qy    = np.arange(d_max)\n",
        "\n",
        "\n",
        "plt.plot(qx10, qy , color=\"orange\", label= \"10%: \" + str(quantile(ds, 0.1)) )\n",
        "plt.plot(qx25, qy , color=\"red\",   label= \"25%: \" + str(quantile(ds, 0.25)) )\n",
        "plt.plot(qx50, qy , color=\"darkred\", label= \"50%: \" + str(quantile(ds, 0.50)) )\n",
        "plt.plot(qx75, qy , color=\"brown\", label= \"70%: \" + str(quantile(ds, 0.75)) )\n",
        "plt.plot(qx75, qy , color=\"black\", label= \"90%: \" + str(quantile(ds, 0.75)) )\n",
        "\n",
        "plt.scatter(np.arange(ds.size), d, alpha = 0.7)\n",
        "\n",
        "plt.ylim(ymin=0)\n",
        "plt.legend(bbox_to_anchor=(1.3, 1.02))\n",
        "plt.show()"
      ],
      "metadata": {
        "id": "N0MUNjIe_Qtt",
        "colab": {
          "base_uri": "https://localhost:8080/",
          "height": 265
        },
        "outputId": "9d8ee664-9e76-4aa9-b472-6ccd6215d6c3"
      },
      "execution_count": 27,
      "outputs": [
        {
          "output_type": "display_data",
          "data": {
            "text/plain": [
              "<Figure size 432x288 with 1 Axes>"
            ],
            "image/png": "[encoded data removed]"
          },
          "metadata": {
            "needs_background": "light"
          }
        }
      ]
    },
    {
      "cell_type": "markdown",
      "source": [
        "\n",
        "\\\n",
        "\n",
        "- **mediana:** è il valore centrale di una serie ordinata di dati. Rappresenta,quindi, il valore sotto il quale giace il 50% dei dati"
      ],
      "metadata": {
        "id": "C-lZtMv1xW1r"
      }
    },
    {
      "cell_type": "markdown",
      "source": [
        "\n",
        "**python**"
      ],
      "metadata": {
        "id": "zEWTRVY31clV"
      }
    },
    {
      "cell_type": "code",
      "source": [
        "\n",
        "# l'underscore é una convenzione di python per marcare una funzione\n",
        "# o un metodo come \"privato\" all'interno del file o della classe\n",
        "\n",
        "def _mediana_n_dispari(data: np.array) -> float:\n",
        "  do = np.sort(data)\n",
        "  return do[do.size // 2]\n",
        "\n",
        "def _mediana_n_pari(data: np.array) -> float:\n",
        "  do = np.sort(data)\n",
        "  mp = data.size // 2 # esempio per n >= 6 e n < 8 -> mp = 3\n",
        "  return ( do[mp - 1] + do[mp] ) / 2.0\n",
        "\n",
        "def mediana(data: np.array) -> float:\n",
        "  if (data.size % 2) == 0:\n",
        "    return  _mediana_n_pari(data) \n",
        "  else:\n",
        "    return  _mediana_n_dispari(data)"
      ],
      "metadata": {
        "id": "UrzLusliyo6R"
      },
      "execution_count": 28,
      "outputs": []
    },
    {
      "cell_type": "markdown",
      "source": [
        "**test**"
      ],
      "metadata": {
        "id": "HW1joi2Z1VOG"
      }
    },
    {
      "cell_type": "code",
      "source": [
        "# pari\n",
        "assert mediana(np.array([1, 2, 3, 4 ,5, 6])) == 3.5, \"errore di implementazione nel calcolo della mediana\"\n",
        "# dispari\n",
        "assert mediana(np.array([1, 2, 3, 4 ,5])) == 3.0, \"errore di implementazione nel calcolo della mediana\"\n"
      ],
      "metadata": {
        "id": "NXnGDTk41Utd"
      },
      "execution_count": 29,
      "outputs": []
    }
  ]
}