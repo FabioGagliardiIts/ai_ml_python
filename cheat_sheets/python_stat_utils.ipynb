{
  "cells": [
    {
      "cell_type": "markdown",
      "metadata": {
        "id": "QO2LhwyRc0bT"
      },
      "source": [
        "\n",
        "\n",
        "---\n",
        "\n",
        "\n",
        "# NUMPY\n",
        "\n",
        "https://numpy.org/doc/stable/reference/routines.statistics.html\n",
        "\n",
        "---\n",
        "\n"
      ]
    },
    {
      "cell_type": "code",
      "execution_count": 81,
      "metadata": {
        "colab": {
          "base_uri": "https://localhost:8080/"
        },
        "id": "-wlDHCaaavz3",
        "outputId": "dc8fb603-a96e-4393-f640-6b8323594d41"
      },
      "outputs": [
        {
          "name": "stdout",
          "output_type": "stream",
          "text": [
            "==================\n",
            "ANALISI UNIVARIATA\n",
            "==================\n",
            "Minimo:  4\n",
            "Massimo:  18\n",
            "Range (max - min): 14\n",
            "\n",
            "\n",
            "MISURE DI TENDENZA CENTRALE\n",
            "Media:  10.3\n",
            "Quantile di ordine 0.5: 10.0\n",
            "cinquantesimo Percentile: 10.0\n",
            "Mediana:  10.0\n",
            "\n",
            "\n",
            "MISURE DI VARIABILITÀ\n",
            "Varianza:  16.11\n",
            "Deviazione Standard:  4.013726448077896\n",
            "\n",
            "\n",
            "\n",
            "==================\n",
            "ANALISI BIVARIATA\n",
            "==================\n",
            "Covarianza:  [[ 16.95789474 -10.26842105]\n",
            " [-10.26842105  16.34473684]]\n",
            "Correlazione:  [2452]\n"
          ]
        }
      ],
      "source": [
        "import numpy as np\n",
        "\n",
        "data = np.array([8, 4, 4, 14, 8, 14, 10, 14, 14, 4, 10, 10, 16, 18, 6, 8, 10, 8, 14, 12])\n",
        "\n",
        "\n",
        "\n",
        "print(\"==================\")\n",
        "print(\"ANALISI UNIVARIATA\")\n",
        "print(\"==================\")\n",
        "\n",
        "print(\"Minimo: \", np.min(data))\n",
        "print(\"Massimo: \", np.max(data))\n",
        "print(\"Range (max - min):\", np.ptp(data))\n",
        "\n",
        "\n",
        "print(\"\\n\")\n",
        "print(\"MISURE DI TENDENZA CENTRALE\")\n",
        "print(\"Media: \", np.mean(data))\n",
        "\n",
        "print(\"Quantile di ordine 0.5:\",   np.quantile(data, 0.5))\n",
        "print(\"cinquantesimo Percentile:\", np.percentile(data, 50))\n",
        "print(\"Mediana: \",                 np.median(data))\n",
        "\n",
        "print(\"\\n\")\n",
        "print(\"MISURE DI VARIABILITÀ\")\n",
        "print(\"Varianza: \", np.var(data))\n",
        "print(\"Deviazione Standard: \", np.std(data))\n",
        "\n",
        "\n",
        "data2 = np.array([14, 19, 12,  9, 15,  6, 21, 14, 12, 15, 14, 11,  7,  6, 15, 15, 10, 16, 16, 10])\n",
        "\n",
        "\n",
        "print(\"\\n\\n\")\n",
        "print(\"==================\")\n",
        "print(\"ANALISI BIVARIATA\")\n",
        "print(\"==================\")\n",
        "\n",
        "print(\"Covarianza: \",   np.cov(data, data2))\n",
        "print(\"Correlazione: \", np.corrcoef(data, data2))\n"
      ]
    },
    {
      "cell_type": "markdown",
      "metadata": {
        "id": "jj58lsvMrGMX"
      },
      "source": [
        "# PANDAS\n"
      ]
    },
    {
      "cell_type": "code",
      "execution_count": 82,
      "metadata": {
        "id": "O5oX1NOhrYsN"
      },
      "outputs": [],
      "source": [
        "\n",
        "import pandas as pd\n",
        "import seaborn as sns\n",
        "import matplotlib.pyplot as plt\n",
        "\n",
        "\n",
        "\n",
        "df = pd.DataFrame({\n",
        "    \"data 1\" :np.random.rand(30), \n",
        "    \"data 2\" : np.random.rand(30),\n",
        "    \"data 3\" : np.random.rand(30),\n",
        "    \"data 4\" : np.random.rand(30),\n",
        "})\n",
        "\n",
        "\n"
      ]
    },
    {
      "cell_type": "markdown",
      "metadata": {
        "id": "9py8hLtYvETF"
      },
      "source": [
        "**Grafici di base**"
      ]
    },
    {
      "cell_type": "code",
      "execution_count": null,
      "metadata": {
        "id": "ag-PAudUvG-d"
      },
      "outputs": [],
      "source": [
        "# tracciati\n",
        "df.plot(y = ['data 1', 'data 2'])\n",
        "plt.show()\n",
        "\n",
        "# scatter\n",
        "df.plot(kind = 'scatter',  x = 'data 1', y = 'data 2')\n",
        "plt.show()\n",
        "\n",
        "# bar\n",
        "df['data 3'].plot(kind = 'bar')\n",
        "plt.show()\n",
        "\n"
      ]
    },
    {
      "cell_type": "markdown",
      "metadata": {
        "id": "U4r684c2yy9m"
      },
      "source": [
        "**Grafico Boxplot**"
      ]
    },
    {
      "cell_type": "code",
      "execution_count": 84,
      "metadata": {
        "colab": {
          "base_uri": "https://localhost:8080/",
          "height": 265
        },
        "id": "QEjjd7m51-fl",
        "outputId": "e11ded33-8cbc-42fa-cbf9-022fad14efda"
      },
      "outputs": [
        {
          "data": {
            "image/png": "[encoded data removed]",
            "text/plain": [
              "<Figure size 432x288 with 1 Axes>"
            ]
          },
          "metadata": {
            "needs_background": "light"
          },
          "output_type": "display_data"
        }
      ],
      "source": [
        "df.boxplot(column=['data 1', 'data 2', 'data 3'])\n",
        "plt.show()"
      ]
    },
    {
      "cell_type": "markdown",
      "metadata": {
        "id": "6gj0tsqyu8Le"
      },
      "source": [
        "**Grafico correlazioni**"
      ]
    },
    {
      "cell_type": "code",
      "execution_count": 85,
      "metadata": {
        "colab": {
          "base_uri": "https://localhost:8080/",
          "height": 269
        },
        "id": "G2yZT7lYu_3l",
        "outputId": "862f63ae-e5e6-462b-98cf-f982e55b96ab"
      },
      "outputs": [
        {
          "data": {
            "image/png": "[encoded data removed]",
            "text/plain": [
              "<Figure size 432x288 with 2 Axes>"
            ]
          },
          "metadata": {
            "needs_background": "light"
          },
          "output_type": "display_data"
        }
      ],
      "source": [
        "corr = df.corr()\n",
        "corr.style.background_gradient(cmap='coolwarm')\n",
        "\n",
        "sns.heatmap(corr, annot=True)\n",
        "plt.show()"
      ]
    }
  ],
  "metadata": {
    "colab": {
      "collapsed_sections": [],
      "provenance": []
    },
    "kernelspec": {
      "display_name": "Python 3",
      "name": "python3"
    },
    "language_info": {
      "name": "python"
    }
  },
  "nbformat": 4,
  "nbformat_minor": 0
}
