{
  "nbformat": 4,
  "nbformat_minor": 0,
  "metadata": {
    "colab": {
      "provenance": []
    },
    "kernelspec": {
      "name": "python3",
      "display_name": "Python 3"
    },
    "language_info": {
      "name": "python"
    }
  },
  "cells": [
    {
      "cell_type": "markdown",
      "source": [
        "Sulla base di quanto visto nelle lezioni 15,16:\n",
        "\n",
        "- Addestrare un modello predittivo di ML basato sul dataset ***BostonHousing.csv***\n",
        "\n",
        "- Esportare il modello in formato ***pmml***\n",
        "\n",
        "- In locale (non Googl Colab ma PyCharm o altro editor), creare un programma secondo i seguenti requisiti:\n",
        "  - caricamento del file ***pmml*** del modello precedentemente addestrato\n",
        "  - funzionalità da riga di comando con le seguenti specifiche:\n",
        "    - interfaccia di caricaricamento dei formati ***json***, ***csv*** con verifica delle estensioni.\n",
        "    - comunicazione di eventuli errori, warning (es. \"*i dati per il modello di apprendimento non sono completi*\", )\n",
        "  - comunicazione dei valori predetti tramite formato ***json***"
      ],
      "metadata": {
        "id": "GjdA0jZorBp-"
      }
    },
    {
      "cell_type": "markdown",
      "source": [
        "**Link utili**\n",
        "\n",
        "- Sulla command line di python + altre risorse: https://www.tutorialspoint.com/python/python_command_line_arguments.htm\n",
        "\n",
        "- Python, Json + altre risorse: https://www.w3schools.com/python/python_json.asp"
      ],
      "metadata": {
        "id": "NzjFFW-Wvv4q"
      }
    },
    {
      "cell_type": "code",
      "execution_count": null,
      "metadata": {
        "id": "O0A5ZR-bqzsk"
      },
      "outputs": [],
      "source": []
    }
  ]
}