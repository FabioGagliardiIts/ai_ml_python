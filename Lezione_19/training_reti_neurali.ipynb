{
  "nbformat": 4,
  "nbformat_minor": 0,
  "metadata": {
    "colab": {
      "provenance": [],
      "toc_visible": true
    },
    "kernelspec": {
      "name": "python3",
      "display_name": "Python 3"
    },
    "language_info": {
      "name": "python"
    },
    "accelerator": "GPU",
    "gpuClass": "standard"
  },
  "cells": [
    {
      "cell_type": "code",
      "source": [
        "\n",
        "import numpy as np\n",
        "import pandas as pd\n",
        "import matplotlib.pyplot as plt\n",
        "import seaborn as sns\n",
        "\n",
        "from sklearn.model_selection import train_test_split\n",
        "from sklearn.preprocessing import StandardScaler\n",
        "\n",
        "\n",
        "import tensorflow as tf\n",
        "from tensorflow import keras\n",
        "\n"
      ],
      "metadata": {
        "id": "rCKnIP317C_k"
      },
      "execution_count": 1,
      "outputs": []
    },
    {
      "cell_type": "markdown",
      "source": [
        "# **Addestramento di una rete neurale**"
      ],
      "metadata": {
        "id": "cYLV5uCnmHZ6"
      }
    },
    {
      "cell_type": "markdown",
      "source": [
        "![Slide3.webp](data:image/webp;base64,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)"
      ],
      "metadata": {
        "id": "lPOTXOCgnQd3"
      }
    },
    {
      "cell_type": "markdown",
      "source": [
        "Per il ***teorema di approssimazione universale***, una rete neurale può approssimare qualsiasi funzione matematica continua. \n",
        "\n",
        "A differenza del Machine Learning classico, in cui ogni modello ha i propri iperparametri da gestire, una rete neruale descrive un'unica architettura di apprendimento caratterizzata da strategie di composizione diverse in base al problema.\n",
        "\n",
        "I fattori che determinano una rete neurale sono:\n",
        "- la selezione della funzione di attivazione\n",
        "- la scelta del numero di livelli nascosti\n",
        "- la scelta del numero di neuroni per livelli nascosti\n",
        "- la scelta degli ottimizzatori\n",
        "- la scelta dei valori con cui valorizzare gli iperparametri di addestramento\n"
      ],
      "metadata": {
        "id": "eyI0WVTRkxlh"
      }
    },
    {
      "cell_type": "markdown",
      "source": [
        "## 1 **Funzioni di attivazione**"
      ],
      "metadata": {
        "id": "rZS2-yj6vt9h"
      }
    },
    {
      "cell_type": "markdown",
      "source": [
        "Come abbiamo visto nell'introduzione alle reti neruli, per ogni neurone artificiale viene prima calcolata la somma ponderata dei valori di input e infine vine mappato l'output da una funzione di attivazione che ha il compito di:\n",
        "- restringere i valori in un determinato range\n",
        "- modellare la non linearità dei dati.\n",
        "\n",
        "\n",
        "Di fatto, una rete neurale senza funzioni di attivazione sarebbe limitata alla stessa classe di problemi di una regressione lineare."
      ],
      "metadata": {
        "id": "yKwDbso3wDKo"
      }
    },
    {
      "cell_type": "markdown",
      "source": [
        "### 1.1 **Il problema dei gradineti che scompaiono o esplodono (vanishing and exploding gradients)**"
      ],
      "metadata": {
        "id": "CF92nN6px_F1"
      }
    },
    {
      "cell_type": "markdown",
      "source": [
        "Durante la **back-propagation**, ogni peso viene aggironato con il risultato della minimizzazione della funzione di costo attravesro la discesa del gradiente (le deriviate parziali della funzione di costo). \n",
        "Questo calcolo, distributio sulla profondità di una rete può portare a due diversi problemi:\n",
        "- **vanishing gradients**: le derivate parizali tendono a valori sempre più prossimi allo zero causando il rallentamento dell'aggionrnamento dei pesi fino alla totale terminazione del neurone.\n",
        "\n",
        "- **exploding gradients**: i valori derivati aumentano sempre di più andando ben oltre il valore a cui dovrebbero convergere.\n",
        "\n",
        "\n",
        "Il primo medoto per evitare questi due problemi resta sicuramente quello di saper scegliere una funzione di costo per ogni livello nascosto della rete neurale."
      ],
      "metadata": {
        "id": "UhqR2aSiyetL"
      }
    },
    {
      "cell_type": "markdown",
      "source": [
        "### 1.2 **Guida alle funzioni di attivazione**"
      ],
      "metadata": {
        "id": "vr0aXDDc4nEW"
      }
    },
    {
      "cell_type": "markdown",
      "source": [
        "#### 1.2.1 Sigmoide\n",
        "\n"
      ],
      "metadata": {
        "id": "0_j0ClYQ4w89"
      }
    },
    {
      "cell_type": "markdown",
      "source": [
        "**Pro**\n",
        "- Restringe i valori di uscita in un range tra 0 e 1\n",
        "- Efficace esclusivamente per le classificazioni binarie\n",
        "\n",
        "**Contro**\n",
        "- Tende al problema del ***vanisghing gradient***, soprattuto se usata al di fuordi di un problema di classificazione binaria\n",
        "- Computazionalmente costosa\n"
      ],
      "metadata": {
        "id": "QyNtnvcm54Ty"
      }
    },
    {
      "cell_type": "markdown",
      "source": [
        "**Tensorflow**\n",
        "\n",
        "```python\n",
        "layer = tf.keras.layers.Dense(300, activation=tf.keras.activations.sigmoid)\n",
        "```\n",
        "\n",
        "```python\n",
        "model = keras.models.Sequential()\n",
        "model.add(keras.layers.Dense(300, activation=\"sigmoid\"))\n",
        "```\n",
        "\n"
      ],
      "metadata": {
        "id": "yVvB55Dc7ULp"
      }
    },
    {
      "cell_type": "code",
      "source": [
        "\n",
        "def sigmoid_function_test():\n",
        "  # X = tf.constant([-30, -44.0,-50, 12.0, 22.2, 50.3], dtype = tf.float32) # input\n",
        "  X =  tf.constant([-30, -12.0, 0.0, 5.0, 25.0], dtype = tf.float32 )# input\n",
        "  W = np.random.rand(5) # pesi\n",
        "  B = 1.0 # bias\n",
        "\n",
        "  # somma pesata\n",
        "  weighted_sum = X * W + B\n",
        "\n",
        "\n",
        "  sigmoid_x = tf.keras.activations.sigmoid(weighted_sum).numpy()\n",
        "\n",
        "\n",
        "  plt.plot(X, color=\"red\")\n",
        "  plt.show()\n",
        "  plt.plot(sigmoid_x)\n",
        "  plt.show()\n",
        "\n",
        "sigmoid_function_test()"
      ],
      "metadata": {
        "id": "-Q6h9EKz88N0"
      },
      "execution_count": null,
      "outputs": []
    },
    {
      "cell_type": "markdown",
      "source": [
        "#### 1.2.2 Softmax\n",
        "\n"
      ],
      "metadata": {
        "id": "KpmsWAG-EVtJ"
      }
    },
    {
      "cell_type": "markdown",
      "source": [
        "**Pro**\n",
        "- Restringe i valori di uscita in un range tra 0 e 1\n",
        "- Efficace esclusivamente per le classificazioni multiple\n",
        "\n",
        "**Contro**\n",
        "- Computazionalmente molto costosa\n"
      ],
      "metadata": {
        "id": "Hk7F-gYoEi7q"
      }
    },
    {
      "cell_type": "markdown",
      "source": [
        "**Tensorflow**\n",
        "\n",
        "\n",
        "\n",
        "```python\n",
        "layer = tf.keras.layers.Dense(300, activation=tf.keras.activations.softmax)\n",
        "```\n",
        "\n",
        "\n",
        "```python\n",
        "model = keras.models.Sequential()\n",
        "model.add(keras.layers.Dense(300, activation=\"softmax\"))\n",
        "```\n"
      ],
      "metadata": {
        "id": "scfjzBocE8Uy"
      }
    },
    {
      "cell_type": "code",
      "source": [
        "def softmax_function_test():\n",
        "  X = tf.random.normal(shape=(32, 2))# input\n",
        "  W = np.random.rand(32, 2) # pesi\n",
        "  B = 1.0 # bias\n",
        "\n",
        "  # somma pesata\n",
        "  weighted_sum = X * W + B\n",
        "\n",
        "\n",
        "  softmax_x = tf.keras.activations.softmax(weighted_sum).numpy()\n",
        "\n",
        "  plt.plot(X, 'o')\n",
        "  plt.show()\n",
        "  plt.plot(softmax_x, 'o')\n",
        "  plt.show()\n",
        "\n",
        "\n",
        "\n",
        "\n",
        "softmax_function_test()"
      ],
      "metadata": {
        "id": "mkcTKBsKF5Q4"
      },
      "execution_count": null,
      "outputs": []
    },
    {
      "cell_type": "markdown",
      "source": [
        "#### 1.2.3 Tangente iperbolica\n",
        "\n"
      ],
      "metadata": {
        "id": "UUf6cjnELTwR"
      }
    },
    {
      "cell_type": "markdown",
      "source": [
        "**Pro**\n",
        "- Restringe i valori di uscita in un range tra - e 1\n",
        "- Alternativa alla funzione sigmoide per la classificazione\n",
        "\n",
        "**Contro**\n",
        "- Tende al problema del ***vanisghing gradient***\n",
        "- Computazionalmente costosa\n"
      ],
      "metadata": {
        "id": "znfiCM4BLfyR"
      }
    },
    {
      "cell_type": "markdown",
      "source": [
        "**Tensorflow**\n",
        "\n",
        "\n",
        "\n",
        "```python\n",
        "layer = tf.keras.layers.Dense(300, activation=tf.keras.activations.tanh)\n",
        "```\n",
        "\n",
        "\n",
        "```python\n",
        "model = keras.models.Sequential()\n",
        "model.add(keras.layers.Dense(300, activation=\"tanh\"))\n",
        "```\n"
      ],
      "metadata": {
        "id": "BRIb5hCnLfyS"
      }
    },
    {
      "cell_type": "markdown",
      "source": [
        "#### 1.2.3 Relu (rettificatore)\n",
        "\n"
      ],
      "metadata": {
        "id": "D8iQD7NqMNVh"
      }
    },
    {
      "cell_type": "markdown",
      "source": [
        "**Pro**\n",
        "- Facile da calcolare\n",
        "- Non causa probledi di scomparsa del gradiente\n",
        "\n",
        "\n",
        "**Contro**\n",
        "- Supporta solo valori positivi\n",
        "- I valori negativi vengono settati a 0 causando lo spegnimento del neurone\n",
        "- Causa problemi di espolosione del gradiente\n"
      ],
      "metadata": {
        "id": "YuIMcaZzMWe5"
      }
    },
    {
      "cell_type": "markdown",
      "source": [
        "**Tensorflow**\n",
        "\n",
        "\n",
        "\n",
        "```python\n",
        "layer = tf.keras.layers.Dense(300, activation=tf.keras.activations.relu)\n",
        "```\n",
        "\n",
        "\n",
        "```python\n",
        "model = keras.models.Sequential()\n",
        "model.add(keras.layers.Dense(300, activation=\"relu\"))\n",
        "```\n"
      ],
      "metadata": {
        "id": "J8R32aQoZgqB"
      }
    },
    {
      "cell_type": "code",
      "source": [
        "\n",
        "def relu_function_test(data):\n",
        "  X = tf.constant(data, dtype = tf.float32) # input\n",
        "  W = np.random.rand(len(data)) # pesi\n",
        "  B = 1.0 # bias\n",
        "\n",
        "  # somma pesata\n",
        "  weighted_sum = X * W + B\n",
        "\n",
        "\n",
        "  relu_x = tf.keras.activations.relu(weighted_sum).numpy()\n",
        "\n",
        "\n",
        "  plt.plot(X, color=\"red\")\n",
        "  plt.show()\n",
        "  plt.plot(relu_x)\n",
        "  plt.show()\n"
      ],
      "metadata": {
        "id": "nibg1oT9Zuwg"
      },
      "execution_count": 4,
      "outputs": []
    },
    {
      "cell_type": "code",
      "source": [
        "relu_function_test([30, 44.0,50, 12.0, 22.2, 60.3])"
      ],
      "metadata": {
        "id": "3GLOi5e9birr"
      },
      "execution_count": null,
      "outputs": []
    },
    {
      "cell_type": "code",
      "source": [
        "relu_function_test([-30, -44.0,-50, 12.0, 22.2, 50.3])"
      ],
      "metadata": {
        "id": "PHfex3wObjFR"
      },
      "execution_count": null,
      "outputs": []
    },
    {
      "cell_type": "markdown",
      "source": [
        "#### 1.2.3 Leaky Relu \n",
        "\n"
      ],
      "metadata": {
        "id": "RISpeDs2cL7Y"
      }
    },
    {
      "cell_type": "markdown",
      "source": [
        "**Pro**\n",
        "- Facile da calcolare\n",
        "- Non causa probledi di scomparsa del gradiente\n",
        "- Supporta anche valori di input negativi evitando il problema ***dying ReLU***\n",
        "\n",
        "\n",
        "**Contro**\n",
        "- Causa problemi di espolosione del gradiente\n"
      ],
      "metadata": {
        "id": "em5z0psXcL7f"
      }
    },
    {
      "cell_type": "markdown",
      "source": [
        "**Tensorflow**\n",
        "\n",
        "\n",
        "\n",
        "```python\n",
        "output = keras.layers.Dense(units=90, activation=keras.layers.LeakyReLU(alpha=0.01))\n",
        "```\n",
        "\n",
        "\n"
      ],
      "metadata": {
        "id": "OgdlnZKZcL7g"
      }
    },
    {
      "cell_type": "code",
      "source": [
        "\n",
        "def leaky_relu_function_test(data):\n",
        "  X = tf.constant(data, dtype = tf.float32) # input\n",
        "  W = np.random.rand(len(data)) # pesi\n",
        "  B = 1.0 # bias\n",
        "\n",
        "  # somma pesata\n",
        "  weighted_sum = X * W + B\n",
        "\n",
        "  layer = tf.keras.layers.LeakyReLU(0.1)\n",
        "  leaky_relu_x = layer(data)\n",
        "\n",
        "\n",
        "  plt.plot(X, color=\"red\")\n",
        "  plt.show()\n",
        "  plt.plot(leaky_relu_x)\n",
        "  plt.show()\n",
        "\n",
        "\n",
        "leaky_relu_function_test([-30.0, -44.0,-50.0, 12.0, 0.1, 22.2, 50.3])  \n"
      ],
      "metadata": {
        "id": "dcS0LyPXfPdn"
      },
      "execution_count": null,
      "outputs": []
    },
    {
      "cell_type": "markdown",
      "source": [],
      "metadata": {
        "id": "b-pnFagriyuo"
      }
    },
    {
      "cell_type": "markdown",
      "source": [
        "#### 1.2.4 Swish\n",
        "\n"
      ],
      "metadata": {
        "id": "1IK47-IbickI"
      }
    },
    {
      "cell_type": "markdown",
      "source": [
        "**Pro**\n",
        "\n",
        "- Non causa probledi di scomparsa del gradiente\n",
        "- Alternativa alla ***relu***, converge più velocemente su dati complessi\n",
        "\n",
        "\n",
        "**Contro**\n",
        "- Computazionalmente costoso\n"
      ],
      "metadata": {
        "id": "tnJ2xOUdim7a"
      }
    },
    {
      "cell_type": "markdown",
      "source": [
        "**Tensorflow**\n",
        "\n",
        "\n",
        "\n",
        "```python\n",
        "layer = tf.keras.layers.Dense(300, activation=tf.keras.activations.swish)\n",
        "```\n",
        "\n",
        "\n",
        "```python\n",
        "model = keras.models.Sequential()\n",
        "model.add(keras.layers.Dense(300, activation=\"swish\"))\n",
        "```\n"
      ],
      "metadata": {
        "id": "HLAn3XUbim7b"
      }
    },
    {
      "cell_type": "code",
      "source": [
        "\n",
        "def swish_function_test(data):\n",
        "  X = tf.constant(data, dtype = tf.float32) # input\n",
        "  W = np.random.rand(len(data)) # pesi\n",
        "  B = 1.0 # bias\n",
        "\n",
        "  # somma pesata\n",
        "  weighted_sum = X * W + B\n",
        "\n",
        "\n",
        "  swish_x = tf.keras.activations.swish(weighted_sum).numpy()\n",
        "\n",
        "\n",
        "  plt.plot(X, color=\"red\")\n",
        "  plt.show()\n",
        "  plt.plot(swish_x)\n",
        "  plt.show()\n",
        "\n",
        "swish_function_test([-30.0, -44.0,-50.0, 12.0, 0.1, 22.2, 50.3])  \n"
      ],
      "metadata": {
        "id": "KEMBz9R8jCJ_",
        "colab": {
          "base_uri": "https://localhost:8080/",
          "height": 513
        },
        "outputId": "22993187-4a05-4aad-927f-a7377fc50cd6"
      },
      "execution_count": 8,
      "outputs": [
        {
          "output_type": "display_data",
          "data": {
            "text/plain": [
              "<Figure size 432x288 with 1 Axes>"
            ],
            "image/png": "[encoded data removed]"
          },
          "metadata": {
            "needs_background": "light"
          }
        },
        {
          "output_type": "display_data",
          "data": {
            "text/plain": [
              "<Figure size 432x288 with 1 Axes>"
            ],
            "image/png": "[encoded data removed]"
          },
          "metadata": {
            "needs_background": "light"
          }
        }
      ]
    },
    {
      "cell_type": "markdown",
      "source": [
        "#### 1.2.5 Selu (Unità lineare esponenziale scalata)\n",
        "\n"
      ],
      "metadata": {
        "id": "Axmnetv-l7NQ"
      }
    },
    {
      "cell_type": "markdown",
      "source": [
        "**Pro**\n",
        "\n",
        "- Non causa probledi di scomparsa del gradiente\n",
        "- Alternativa alla ***relu***, converge più velocemente anche rispetto alle altre funzioni di attivazione\n",
        "\n"
      ],
      "metadata": {
        "id": "5iGY-PWxl7Nv"
      }
    },
    {
      "cell_type": "markdown",
      "source": [
        "**Tensorflow**\n",
        "\n",
        "\n",
        "\n",
        "```python\n",
        "layer = tf.keras.layers.Dense(300, activation=tf.keras.activations.selu)\n",
        "```\n",
        "\n",
        "\n",
        "```python\n",
        "model = keras.models.Sequential()\n",
        "model.add(keras.layers.Dense(300, activation=\"selu\"))\n",
        "```\n"
      ],
      "metadata": {
        "id": "8gNxSyQql7Nw"
      }
    },
    {
      "cell_type": "code",
      "source": [
        "\n",
        "def selu_function_test(data):\n",
        "  X = tf.constant(data, dtype = tf.float32) # input\n",
        "  W = np.random.rand(len(data)) # pesi\n",
        "  B = 1.0 # bias\n",
        "\n",
        "  # somma pesata\n",
        "  weighted_sum = X * W + B\n",
        "\n",
        "\n",
        "  selu_x = tf.keras.activations.selu(weighted_sum).numpy()\n",
        "\n",
        "\n",
        "  plt.plot(X, color=\"red\")\n",
        "  plt.show()\n",
        "  plt.plot(selu_x)\n",
        "  plt.show()\n",
        "\n",
        "selu_function_test([-30.0, -44.0,-50.0, 12.0, 0.1, 22.2, 50.3])  \n"
      ],
      "metadata": {
        "id": "EiEdQWAKmhBw",
        "colab": {
          "base_uri": "https://localhost:8080/",
          "height": 513
        },
        "outputId": "44aedf99-63c0-451f-8761-7157e0905242"
      },
      "execution_count": 9,
      "outputs": [
        {
          "output_type": "display_data",
          "data": {
            "text/plain": [
              "<Figure size 432x288 with 1 Axes>"
            ],
            "image/png": "[encoded data removed]"
          },
          "metadata": {
            "needs_background": "light"
          }
        },
        {
          "output_type": "display_data",
          "data": {
            "text/plain": [
              "<Figure size 432x288 with 1 Axes>"
            ],
            "image/png": "[encoded data removed]"
          },
          "metadata": {
            "needs_background": "light"
          }
        }
      ]
    },
    {
      "cell_type": "markdown",
      "source": [
        "#### 1.2.6 Linear\n",
        "\n"
      ],
      "metadata": {
        "id": "qBIHDiwnnAGQ"
      }
    },
    {
      "cell_type": "markdown",
      "source": [
        "**Pro**\n",
        "\n",
        "- Da usare nello strato finale nei problemi di regressione\n",
        "\n",
        "\n"
      ],
      "metadata": {
        "id": "KTSjNNzjnAGW"
      }
    },
    {
      "cell_type": "markdown",
      "source": [
        "**Tensorflow**\n",
        "\n",
        "\n",
        "\n",
        "```python\n",
        "layer = tf.keras.layers.Dense(300, activation=tf.keras.activations.linear)\n",
        "```\n",
        "\n",
        "\n",
        "```python\n",
        "model = keras.models.Sequential()\n",
        "model.add(keras.layers.Dense(300, activation=\"linear\"))\n",
        "```\n"
      ],
      "metadata": {
        "id": "kM3SvSFUnbpA"
      }
    },
    {
      "cell_type": "code",
      "source": [
        "\n",
        "def linear_function_test(data):\n",
        "  X = tf.constant(data, dtype = tf.float32) # input\n",
        "  W = np.random.rand(len(data)) # pesi\n",
        "  B = 1.0 # bias\n",
        "\n",
        "  # somma pesata\n",
        "  weighted_sum = X * W + B\n",
        "\n",
        "\n",
        "  linear_x = tf.keras.activations.linear(weighted_sum).numpy()\n",
        "\n",
        "\n",
        "  plt.plot(X, color=\"red\")\n",
        "  plt.show()\n",
        "  plt.plot(linear_x)\n",
        "  plt.show()\n",
        "\n",
        "linear_function_test([-30.0, -44.0,-50.0, 12.0, 0.1, 22.2, 50.3])  \n"
      ],
      "metadata": {
        "id": "zZJ5bkPpniB4",
        "colab": {
          "base_uri": "https://localhost:8080/",
          "height": 513
        },
        "outputId": "95e0d3e5-7320-48ff-e2bf-52855e48eaee"
      },
      "execution_count": 10,
      "outputs": [
        {
          "output_type": "display_data",
          "data": {
            "text/plain": [
              "<Figure size 432x288 with 1 Axes>"
            ],
            "image/png": "[encoded data removed]"
          },
          "metadata": {
            "needs_background": "light"
          }
        },
        {
          "output_type": "display_data",
          "data": {
            "text/plain": [
              "<Figure size 432x288 with 1 Axes>"
            ],
            "image/png": "[encoded data removed]"
          },
          "metadata": {
            "needs_background": "light"
          }
        }
      ]
    },
    {
      "cell_type": "markdown",
      "source": [
        "### 1.3 **Scelta delle funzioni di attivazione**"
      ],
      "metadata": {
        "id": "TDND4Mvlonkf"
      }
    },
    {
      "cell_type": "markdown",
      "source": [
        "- **Funzioni per i livelli nascosti**\n",
        "  - *relu*\n",
        "  - *leaky relu (quando relu degenera in **dying relu**)*\n",
        "  - *swish (per reti profonde con molti livelli)*\n",
        "\n",
        "- **Strato finale (prima dell'output)**\n",
        "  - *lineare  (problemi di regressione)*\n",
        "  - *sigmoide (problemi di classificazione binaria)*\n",
        "  - *tangente iperbolica (problemi di classificazione binaria)*\n",
        "  - *softmax (problemi di classificazione multipla)*"
      ],
      "metadata": {
        "id": "PIxO4CT2rEgd"
      }
    },
    {
      "cell_type": "markdown",
      "source": [],
      "metadata": {
        "id": "ncPhaJmHBDiH"
      }
    },
    {
      "cell_type": "markdown",
      "source": [
        "## 2 **Neuroni e livelli nascosti**"
      ],
      "metadata": {
        "id": "jjFExxSEvfDJ"
      }
    },
    {
      "cell_type": "markdown",
      "source": [
        "### 2.1 **Quanti livelli nascosti?**\n"
      ],
      "metadata": {
        "id": "sMZGX_00nKdt"
      }
    },
    {
      "cell_type": "markdown",
      "source": [
        "- Se i dati mostrano una relazione lineare non hanno bisogno di livelli nascosti.\n",
        "\n",
        "- Se le dimensioni dei dati non sono molto grandi, spesso si raggiungono già ottime percentuali di accuratezza partendo da un singolo livello.\n",
        "\n",
        "- In presenza di dati particolarmente complessi, conviene partire da 2/3 livelli per poi testarne gradualmente l'aggiunta di nuovi. Il limite viene dato dal fatto che se si eccede nel numero di livelli il modello va in overfitting.\n",
        "\n",
        "\n"
      ],
      "metadata": {
        "id": "Vm9yJJpo04y7"
      }
    },
    {
      "cell_type": "markdown",
      "source": [
        "### 2.2 **Quanti neuroni per ogni livello nascosto?**\n",
        "\n"
      ],
      "metadata": {
        "id": "IvtmcNdP1BOC"
      }
    },
    {
      "cell_type": "markdown",
      "source": [
        "  - Un valore di partenza può essere calcolato:\n",
        "    - sommando la dimensione del layer di output con i 2/3 della dimensione dei valori di input.\n",
        "    - sottraendo la dimensione dei layer di output alla dimensione dei valori di input.\n",
        "    - testare valori crescenti o decrescenti a partire dalla dimensione dell'input (indicato per dataset non molto grandi)\n",
        "\n",
        "  - Un numero insufficiente di neuroni produce underfitting.\n",
        "\n",
        "  - Un livello troppo alto produce overfitting.\n",
        "\n",
        "Un approccio descritto da Vincent Vanhoucke (Google) si basa sulla \"reogla dei pantaloni elastici\" (stretch pants rules):\n",
        "\n",
        "\"*Piuttosto che perdere tempo cercando la taglia di pantaloni adatti, è meglio partire da un pantalone elasticizzato sufficientemente grande, per poi restringelo fino alla taglia giusta.*\""
      ],
      "metadata": {
        "id": "-3T4HuRY07DL"
      }
    },
    {
      "cell_type": "markdown",
      "source": [
        "## 3 **La scelta degli ottimizzatori**\n"
      ],
      "metadata": {
        "id": "Dz67sYuSAtWr"
      }
    },
    {
      "cell_type": "markdown",
      "source": [
        "Uno degli aspetti più importanti nella costruzione di una rete neurale è la selezione degli iperparametri che influiscono direttamente o indiirettamente sulle fasi di forward e  back-propagation.\n",
        "\n",
        "- Ottimizzazatori della funzione di costo.\n",
        "- Ottimizzatori della discesa del gradiente"
      ],
      "metadata": {
        "id": "LW3ki-njoYN1"
      }
    },
    {
      "cell_type": "markdown",
      "source": [
        "### 3.1 **Funzioni di costo** "
      ],
      "metadata": {
        "id": "gprL2V9vyveu"
      }
    },
    {
      "cell_type": "markdown",
      "source": [
        "#### 3.1.1 Binary Cross-Entropy Loss\n",
        "\n",
        "Già vista nella Regressione Logistica, viene usata in caso di classificazione binaria quando l'output finale è rappresentato da 0 o 1."
      ],
      "metadata": {
        "id": "dQvGPC1L1wbc"
      }
    },
    {
      "cell_type": "markdown",
      "source": [
        "```python\n",
        "model.compile(loss=\"binary_crossentropy\")\n",
        "```\n",
        "\n",
        "```python\n",
        "loss = tf.keras.losses.BinaryCrossentropy()\n",
        "```\n",
        "\n"
      ],
      "metadata": {
        "id": "X04w3FuU5n0N"
      }
    },
    {
      "cell_type": "markdown",
      "source": [
        "#### 3.1.2 Categorical Cross-Entropy Loss\n",
        "\n",
        "Funzione di costo ottimizzata per problemi di classificazione multipla.\n",
        "Spesso utilizzata insieme a trasformatori come **one-hot-encoding**."
      ],
      "metadata": {
        "id": "4ScetGVE6D2U"
      }
    },
    {
      "cell_type": "markdown",
      "source": [
        "```python\n",
        "model.compile(loss=\"categorical_crossentropy\")\n",
        "```\n",
        "\n",
        "```python\n",
        "loss = tf.keras.losses.CategoricalCrossentropy()\n",
        "```\n",
        "\n"
      ],
      "metadata": {
        "id": "7Kyki_K76bQ1"
      }
    },
    {
      "cell_type": "markdown",
      "source": [
        "#### 3.1.3 Sparse Categorical Cross-Entropy Loss\n",
        "\n",
        "Stessa finalità della *Categorical Cross Entropy*, viene utilizzata quando il target è un insieme di interi (es. pixels).\n",
        "\n"
      ],
      "metadata": {
        "id": "qIy6OLKA8BCh"
      }
    },
    {
      "cell_type": "markdown",
      "source": [
        "```python\n",
        "model.compile(loss=\"sparse_categorical_crossentropy\")\n",
        "```\n",
        "\n",
        "```python\n",
        "loss = tf.keras.losses.SparseCategoricalCrossentropy()\n",
        "```\n",
        "\n"
      ],
      "metadata": {
        "id": "LnxegQuN9Uf7"
      }
    },
    {
      "cell_type": "markdown",
      "source": [
        "#### 3.1.4 Means Squared Error (MSE)\n",
        "\n",
        "Già vista nei problemi di regressione, stima l'errore che commettiamo ogni volta che un modello predice un determinato valore.\n",
        "\n",
        "\n",
        "\n"
      ],
      "metadata": {
        "id": "3aEp6HT39kZd"
      }
    },
    {
      "cell_type": "markdown",
      "source": [
        "```python\n",
        "model.compile(loss=\"mse\")\n",
        "```\n",
        "\n",
        "```python\n",
        "loss = tf.keras.losses.MeanSquaredError()\n",
        "```\n",
        "\n"
      ],
      "metadata": {
        "id": "Gf_63bk0-c6F"
      }
    },
    {
      "cell_type": "markdown",
      "source": [
        "### 3.2 **Ottimizzatori** "
      ],
      "metadata": {
        "id": "LYAgCMUpCbFR"
      }
    },
    {
      "cell_type": "markdown",
      "source": [
        "#### 3.2.1 SGD Optimizer (Stochastic Gradient Descent)\n",
        "\n",
        "L'algoritmo di discesa stocastica del gradiente è una semplificazione dell'algoritmo di discesa del gradiente. Non calcola il gradiente su tutti i valori di input, ma di un campione scelto casualmente."
      ],
      "metadata": {
        "id": "5zZ7W_r2ClAE"
      }
    },
    {
      "cell_type": "markdown",
      "source": [
        "```python\n",
        "model.compile(optimizer=\"sgd\")\n",
        "```\n",
        "\n",
        "```python\n",
        "tf.keras.optimizers.SGD(learning_rate=0.001) \n",
        "```\n",
        "\n"
      ],
      "metadata": {
        "id": "kH2WXsM3E0l_"
      }
    },
    {
      "cell_type": "markdown",
      "source": [
        "#### 3.2.2 Adam Optimizer (Adaptive Moment Estimation)\n",
        "\n",
        "Il **momento** è un termine calcolato a partire dai gradienti precedenti aggiunto come parametro al calcolo del gradiente corrente.\n",
        "\n",
        "L'ottimizzazioe Adam prende questo concetto e lo usa appunto per velocizzare il calcolo del gradiente corrente a partire da quelli già calcolati."
      ],
      "metadata": {
        "id": "wJ3B7fSxGSFQ"
      }
    },
    {
      "cell_type": "markdown",
      "source": [
        "```python\n",
        "model.compile(optimizer=\"adam\")\n",
        "```\n",
        "\n",
        "```python\n",
        "tf.keras.optimizers.Adam(learning_rate=0.001) \n",
        "```\n",
        "\n"
      ],
      "metadata": {
        "id": "IuDe-6FJGZRx"
      }
    },
    {
      "cell_type": "markdown",
      "source": [
        "#### 3.2.3 RMSprop Optimizer (Root Mean Square Propagation)\n",
        "\n",
        "Potremmo definire questo tipo di approccio come un'estensione della SGD resa adattiva dall'applicazione del concetto di **momentum**."
      ],
      "metadata": {
        "id": "BkKzydInADRZ"
      }
    },
    {
      "cell_type": "markdown",
      "source": [
        "```python\n",
        "model.compile(optimizer=\"rmsprop\")\n",
        "```\n",
        "\n",
        "```python\n",
        "tf.keras.optimizers.experimental.RMSprop(learning_rate=0.001) \n",
        "```\n",
        "\n"
      ],
      "metadata": {
        "id": "5brqlaQyCLLS"
      }
    },
    {
      "cell_type": "markdown",
      "source": [
        "## 4 **Iperparametri d'addestramento**\n"
      ],
      "metadata": {
        "id": "7KI9btN9FWgu"
      }
    },
    {
      "cell_type": "markdown",
      "source": [
        "- **epochs**: è il ciclo completo che compie una rete neruale tra forward e back propagation.\n",
        "Qual'è il numero ottimael di epoche \n",
        "- **batch size:** non è possibile passare un intero dataset ad una rete neruale senza avere problemi di efficienza. Una soluzione consiste nel dividere un set di training in sezioni di dimensione più piccola (batch), in modo da ottimizzare il processo.\n",
        "- **iterations:** è il numero di sezioni da processare in un epoca.\n"
      ],
      "metadata": {
        "id": "Hy7hdu4GFj92"
      }
    },
    {
      "cell_type": "markdown",
      "source": [
        "Non esiste un metodo riconsosciuto per stabilire quali siano i valori migliori per valorizzare questi iperparametri.\n",
        "\n",
        "Una soluzione potrebbe essere quella di partire da valori molto grandi e osservare quando il modello va in overfitting."
      ],
      "metadata": {
        "id": "npKVCKqNS1C1"
      }
    },
    {
      "cell_type": "markdown",
      "source": [
        "### 4.1 **Interpretazione di una curva di apprendimento** \n",
        "**fonte**: https://machinelearningmastery.com/learning-curves-for-diagnosing-machine-learning-model-performance/"
      ],
      "metadata": {
        "id": "97-gWb2icEY_"
      }
    },
    {
      "cell_type": "markdown",
      "source": [
        "#### 4.1.1 Underfit learning curve\n",
        "\n",
        "- Entrambe le curve tendono a restare pitte o a decrescere all'aumentare delle epoche"
      ],
      "metadata": {
        "id": "LB0UUlADfdRM"
      }
    },
    {
      "cell_type": "markdown",
      "source": [
        "![Example-of-Training-Learning-Curve-Showing-An-Underfit-Model-That-Requires-Further-Training.webp](data:image/webp;base64,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)"
      ],
      "metadata": {
        "id": "YgGBgfgHjZOw"
      }
    },
    {
      "cell_type": "markdown",
      "source": [
        "#### 4.1.2 Overfit learning curve\n",
        "\n",
        "- la curva di training tende a decrescere con l'avanzaer delle epoche.\n",
        "- la curva di validazione decresce per poi crescere fino a superare la curva di training"
      ],
      "metadata": {
        "id": "eHaooigdjpmK"
      }
    },
    {
      "cell_type": "markdown",
      "source": [
        "![Example-of-Train-and-Validation-Learning-Curves-Showing-An-Overfit-Model.webp](data:image/webp;base64,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)"
      ],
      "metadata": {
        "id": "JgoJSQZ1kp4P"
      }
    },
    {
      "cell_type": "markdown",
      "source": [
        "#### 4.1.2 Good learning curve\n",
        "\n",
        "- la curva di training tende a decrescere fino a stabilizzarsi.\n",
        "- la curva di validazione decresce fino a stabilizzaresi mantenendo una distanza minima dalla curva di training."
      ],
      "metadata": {
        "id": "w9Vg3g0Jk0aH"
      }
    },
    {
      "cell_type": "markdown",
      "source": [
        "![Example-of-Train-and-Validation-Learning-Curves-Showing-A-Good-Fit.webp](data:image/webp;base64,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)"
      ],
      "metadata": {
        "id": "zA64QGyblCt4"
      }
    },
    {
      "cell_type": "markdown",
      "source": [
        "# **ESEMPIO**"
      ],
      "metadata": {
        "id": "5xllysjrZsZP"
      }
    },
    {
      "cell_type": "code",
      "source": [
        "from sklearn.impute import SimpleImputer\n",
        "\n",
        "\n",
        "\n",
        "\n",
        "df = pd.read_csv(\"https://raw.githubusercontent.com/FabioGagliardiIts/ai_ml_python/main/cheat_sheets/boston_housing.csv\")\n",
        "df = df.drop(['Unnamed: 0','CHAS', 'RAD', 'B'], axis = 1) \n",
        "\n",
        "imp_mean = SimpleImputer(missing_values=np.nan, strategy='median')\n",
        "for column in df:\n",
        "  if df[column].isnull().values.any():\n",
        "    tmp = df[column].to_numpy()\n",
        "    # imputazione dei valori mancanti\n",
        "    df[column] = imp_mean.fit_transform(tmp)\n",
        "\n",
        "display(df)"
      ],
      "metadata": {
        "id": "s25vqkitZsDS",
        "colab": {
          "base_uri": "https://localhost:8080/",
          "height": 424
        },
        "outputId": "7551d344-a77c-418e-e5ec-a7e5645dd178"
      },
      "execution_count": 11,
      "outputs": [
        {
          "output_type": "display_data",
          "data": {
            "text/plain": [
              "        CRIM    ZN  INDUS    NOX     RM   AGE     DIS    TAX  PRATIO  LSTAT  \\\n",
              "0    0.00632  18.0   2.31  0.538  6.575  65.2  4.0900  296.0    15.3   4.98   \n",
              "1    0.02731   0.0   7.07  0.469  6.421  78.9  4.9671  242.0    17.8   9.14   \n",
              "2    0.02729   0.0   7.07  0.469  7.185  61.1  4.9671  242.0    17.8   4.03   \n",
              "3    0.03237   0.0   2.18  0.458  6.998  45.8  6.0622  222.0    18.7   2.94   \n",
              "4    0.06905   0.0   2.18  0.458  7.147  54.2  6.0622  222.0    18.7   5.33   \n",
              "..       ...   ...    ...    ...    ...   ...     ...    ...     ...    ...   \n",
              "501  0.06263   0.0  11.93  0.573  6.593  69.1  2.4786  273.0    21.0   9.67   \n",
              "502  0.04527   0.0  11.93  0.573  6.120  76.7  2.2875  273.0    21.0   9.08   \n",
              "503  0.06076   0.0  11.93  0.573  6.976  91.0  2.1675  273.0    21.0   5.64   \n",
              "504  0.10959   0.0  11.93  0.573  6.794  89.3  2.3889  273.0    21.0   6.48   \n",
              "505  0.04741   0.0  11.93  0.573  6.030  80.8  2.5050  273.0    21.0   7.88   \n",
              "\n",
              "     MEDV  \n",
              "0    24.0  \n",
              "1    21.6  \n",
              "2    34.7  \n",
              "3    33.4  \n",
              "4    36.2  \n",
              "..    ...  \n",
              "501  22.4  \n",
              "502  20.6  \n",
              "503  23.9  \n",
              "504  22.0  \n",
              "505  11.9  \n",
              "\n",
              "[506 rows x 11 columns]"
            ],
            "text/html": [
              "\n",
              "  <div id=\"df-2eb92f64-fe79-4fa2-878c-baefa202cea7\">\n",
              "    <div class=\"colab-df-container\">\n",
              "      <div>\n",
              "<style scoped>\n",
              "    .dataframe tbody tr th:only-of-type {\n",
              "        vertical-align: middle;\n",
              "    }\n",
              "\n",
              "    .dataframe tbody tr th {\n",
              "        vertical-align: top;\n",
              "    }\n",
              "\n",
              "    .dataframe thead th {\n",
              "        text-align: right;\n",
              "    }\n",
              "</style>\n",
              "<table border=\"1\" class=\"dataframe\">\n",
              "  <thead>\n",
              "    <tr style=\"text-align: right;\">\n",
              "      <th></th>\n",
              "      <th>CRIM</th>\n",
              "      <th>ZN</th>\n",
              "      <th>INDUS</th>\n",
              "      <th>NOX</th>\n",
              "      <th>RM</th>\n",
              "      <th>AGE</th>\n",
              "      <th>DIS</th>\n",
              "      <th>TAX</th>\n",
              "      <th>PRATIO</th>\n",
              "      <th>LSTAT</th>\n",
              "      <th>MEDV</th>\n",
              "    </tr>\n",
              "  </thead>\n",
              "  <tbody>\n",
              "    <tr>\n",
              "      <th>0</th>\n",
              "      <td>0.00632</td>\n",
              "      <td>18.0</td>\n",
              "      <td>2.31</td>\n",
              "      <td>0.538</td>\n",
              "      <td>6.575</td>\n",
              "      <td>65.2</td>\n",
              "      <td>4.0900</td>\n",
              "      <td>296.0</td>\n",
              "      <td>15.3</td>\n",
              "      <td>4.98</td>\n",
              "      <td>24.0</td>\n",
              "    </tr>\n",
              "    <tr>\n",
              "      <th>1</th>\n",
              "      <td>0.02731</td>\n",
              "      <td>0.0</td>\n",
              "      <td>7.07</td>\n",
              "      <td>0.469</td>\n",
              "      <td>6.421</td>\n",
              "      <td>78.9</td>\n",
              "      <td>4.9671</td>\n",
              "      <td>242.0</td>\n",
              "      <td>17.8</td>\n",
              "      <td>9.14</td>\n",
              "      <td>21.6</td>\n",
              "    </tr>\n",
              "    <tr>\n",
              "      <th>2</th>\n",
              "      <td>0.02729</td>\n",
              "      <td>0.0</td>\n",
              "      <td>7.07</td>\n",
              "      <td>0.469</td>\n",
              "      <td>7.185</td>\n",
              "      <td>61.1</td>\n",
              "      <td>4.9671</td>\n",
              "      <td>242.0</td>\n",
              "      <td>17.8</td>\n",
              "      <td>4.03</td>\n",
              "      <td>34.7</td>\n",
              "    </tr>\n",
              "    <tr>\n",
              "      <th>3</th>\n",
              "      <td>0.03237</td>\n",
              "      <td>0.0</td>\n",
              "      <td>2.18</td>\n",
              "      <td>0.458</td>\n",
              "      <td>6.998</td>\n",
              "      <td>45.8</td>\n",
              "      <td>6.0622</td>\n",
              "      <td>222.0</td>\n",
              "      <td>18.7</td>\n",
              "      <td>2.94</td>\n",
              "      <td>33.4</td>\n",
              "    </tr>\n",
              "    <tr>\n",
              "      <th>4</th>\n",
              "      <td>0.06905</td>\n",
              "      <td>0.0</td>\n",
              "      <td>2.18</td>\n",
              "      <td>0.458</td>\n",
              "      <td>7.147</td>\n",
              "      <td>54.2</td>\n",
              "      <td>6.0622</td>\n",
              "      <td>222.0</td>\n",
              "      <td>18.7</td>\n",
              "      <td>5.33</td>\n",
              "      <td>36.2</td>\n",
              "    </tr>\n",
              "    <tr>\n",
              "      <th>...</th>\n",
              "      <td>...</td>\n",
              "      <td>...</td>\n",
              "      <td>...</td>\n",
              "      <td>...</td>\n",
              "      <td>...</td>\n",
              "      <td>...</td>\n",
              "      <td>...</td>\n",
              "      <td>...</td>\n",
              "      <td>...</td>\n",
              "      <td>...</td>\n",
              "      <td>...</td>\n",
              "    </tr>\n",
              "    <tr>\n",
              "      <th>501</th>\n",
              "      <td>0.06263</td>\n",
              "      <td>0.0</td>\n",
              "      <td>11.93</td>\n",
              "      <td>0.573</td>\n",
              "      <td>6.593</td>\n",
              "      <td>69.1</td>\n",
              "      <td>2.4786</td>\n",
              "      <td>273.0</td>\n",
              "      <td>21.0</td>\n",
              "      <td>9.67</td>\n",
              "      <td>22.4</td>\n",
              "    </tr>\n",
              "    <tr>\n",
              "      <th>502</th>\n",
              "      <td>0.04527</td>\n",
              "      <td>0.0</td>\n",
              "      <td>11.93</td>\n",
              "      <td>0.573</td>\n",
              "      <td>6.120</td>\n",
              "      <td>76.7</td>\n",
              "      <td>2.2875</td>\n",
              "      <td>273.0</td>\n",
              "      <td>21.0</td>\n",
              "      <td>9.08</td>\n",
              "      <td>20.6</td>\n",
              "    </tr>\n",
              "    <tr>\n",
              "      <th>503</th>\n",
              "      <td>0.06076</td>\n",
              "      <td>0.0</td>\n",
              "      <td>11.93</td>\n",
              "      <td>0.573</td>\n",
              "      <td>6.976</td>\n",
              "      <td>91.0</td>\n",
              "      <td>2.1675</td>\n",
              "      <td>273.0</td>\n",
              "      <td>21.0</td>\n",
              "      <td>5.64</td>\n",
              "      <td>23.9</td>\n",
              "    </tr>\n",
              "    <tr>\n",
              "      <th>504</th>\n",
              "      <td>0.10959</td>\n",
              "      <td>0.0</td>\n",
              "      <td>11.93</td>\n",
              "      <td>0.573</td>\n",
              "      <td>6.794</td>\n",
              "      <td>89.3</td>\n",
              "      <td>2.3889</td>\n",
              "      <td>273.0</td>\n",
              "      <td>21.0</td>\n",
              "      <td>6.48</td>\n",
              "      <td>22.0</td>\n",
              "    </tr>\n",
              "    <tr>\n",
              "      <th>505</th>\n",
              "      <td>0.04741</td>\n",
              "      <td>0.0</td>\n",
              "      <td>11.93</td>\n",
              "      <td>0.573</td>\n",
              "      <td>6.030</td>\n",
              "      <td>80.8</td>\n",
              "      <td>2.5050</td>\n",
              "      <td>273.0</td>\n",
              "      <td>21.0</td>\n",
              "      <td>7.88</td>\n",
              "      <td>11.9</td>\n",
              "    </tr>\n",
              "  </tbody>\n",
              "</table>\n",
              "<p>506 rows × 11 columns</p>\n",
              "</div>\n",
              "      <button class=\"colab-df-convert\" onclick=\"convertToInteractive('df-2eb92f64-fe79-4fa2-878c-baefa202cea7')\"\n",
              "              title=\"Convert this dataframe to an interactive table.\"\n",
              "              style=\"display:none;\">\n",
              "        \n",
              "  <svg xmlns=\"http://www.w3.org/2000/svg\" height=\"24px\"viewBox=\"0 0 24 24\"\n",
              "       width=\"24px\">\n",
              "    <path d=\"M0 0h24v24H0V0z\" fill=\"none\"/>\n",
              "    <path d=\"M18.56 5.44l.94 2.06.94-2.06 2.06-.94-2.06-.94-.94-2.06-.94 2.06-2.06.94zm-11 1L8.5 8.5l.94-2.06 2.06-.94-2.06-.94L8.5 2.5l-.94 2.06-2.06.94zm10 10l.94 2.06.94-2.06 2.06-.94-2.06-.94-.94-2.06-.94 2.06-2.06.94z\"/><path d=\"M17.41 7.96l-1.37-1.37c-.4-.4-.92-.59-1.43-.59-.52 0-1.04.2-1.43.59L10.3 9.45l-7.72 7.72c-.78.78-.78 2.05 0 2.83L4 21.41c.39.39.9.59 1.41.59.51 0 1.02-.2 1.41-.59l7.78-7.78 2.81-2.81c.8-.78.8-2.07 0-2.86zM5.41 20L4 18.59l7.72-7.72 1.47 1.35L5.41 20z\"/>\n",
              "  </svg>\n",
              "      </button>\n",
              "      \n",
              "  <style>\n",
              "    .colab-df-container {\n",
              "      display:flex;\n",
              "      flex-wrap:wrap;\n",
              "      gap: 12px;\n",
              "    }\n",
              "\n",
              "    .colab-df-convert {\n",
              "      background-color: #E8F0FE;\n",
              "      border: none;\n",
              "      border-radius: 50%;\n",
              "      cursor: pointer;\n",
              "      display: none;\n",
              "      fill: #1967D2;\n",
              "      height: 32px;\n",
              "      padding: 0 0 0 0;\n",
              "      width: 32px;\n",
              "    }\n",
              "\n",
              "    .colab-df-convert:hover {\n",
              "      background-color: #E2EBFA;\n",
              "      box-shadow: 0px 1px 2px rgba(60, 64, 67, 0.3), 0px 1px 3px 1px rgba(60, 64, 67, 0.15);\n",
              "      fill: #174EA6;\n",
              "    }\n",
              "\n",
              "    [theme=dark] .colab-df-convert {\n",
              "      background-color: #3B4455;\n",
              "      fill: #D2E3FC;\n",
              "    }\n",
              "\n",
              "    [theme=dark] .colab-df-convert:hover {\n",
              "      background-color: #434B5C;\n",
              "      box-shadow: 0px 1px 3px 1px rgba(0, 0, 0, 0.15);\n",
              "      filter: drop-shadow(0px 1px 2px rgba(0, 0, 0, 0.3));\n",
              "      fill: #FFFFFF;\n",
              "    }\n",
              "  </style>\n",
              "\n",
              "      <script>\n",
              "        const buttonEl =\n",
              "          document.querySelector('#df-2eb92f64-fe79-4fa2-878c-baefa202cea7 button.colab-df-convert');\n",
              "        buttonEl.style.display =\n",
              "          google.colab.kernel.accessAllowed ? 'block' : 'none';\n",
              "\n",
              "        async function convertToInteractive(key) {\n",
              "          const element = document.querySelector('#df-2eb92f64-fe79-4fa2-878c-baefa202cea7');\n",
              "          const dataTable =\n",
              "            await google.colab.kernel.invokeFunction('convertToInteractive',\n",
              "                                                     [key], {});\n",
              "          if (!dataTable) return;\n",
              "\n",
              "          const docLinkHtml = 'Like what you see? Visit the ' +\n",
              "            '<a target=\"_blank\" href=https://colab.research.google.com/notebooks/data_table.ipynb>data table notebook</a>'\n",
              "            + ' to learn more about interactive tables.';\n",
              "          element.innerHTML = '';\n",
              "          dataTable['output_type'] = 'display_data';\n",
              "          await google.colab.output.renderOutput(dataTable, element);\n",
              "          const docLink = document.createElement('div');\n",
              "          docLink.innerHTML = docLinkHtml;\n",
              "          element.appendChild(docLink);\n",
              "        }\n",
              "      </script>\n",
              "    </div>\n",
              "  </div>\n",
              "  "
            ]
          },
          "metadata": {}
        }
      ]
    },
    {
      "cell_type": "code",
      "source": [
        "X = df.drop(\"MEDV\", axis=1).values\n",
        "Y = df[\"MEDV\"].values\n"
      ],
      "metadata": {
        "id": "WAjoVY723P3Z"
      },
      "execution_count": 12,
      "outputs": []
    },
    {
      "cell_type": "code",
      "source": [
        "\n",
        "def plot_training_history(history):\n",
        "  # loss\n",
        "  df_loss = pd.DataFrame()\n",
        "  df_loss['train_loss'] = history.history['loss']\n",
        "  df_loss['val_loss'] = history.history['val_loss']\n",
        "  df_loss.plot(figsize=(16,12))\n",
        "  plt.grid(True)\n",
        "  plt.title(\"LOSS\")\n",
        "  plt.xlabel(\"epoch\")\n",
        "  plt.ylabel(\"loss\")\n",
        "  plt.show()\n",
        "   # mean absolute error\n",
        "  df_error = pd.DataFrame()\n",
        "  df_error['train_mae'] = history.history['mae']\n",
        "  df_error['val_mae'] = history.history['val_mae']\n",
        "  df_error.plot(figsize=(16,12))\n",
        "  plt.grid(True)\n",
        "  plt.title(\"ERROR\")\n",
        "  plt.xlabel(\"epoch\")\n",
        "  plt.ylabel(\"mae\")\n",
        "  plt.show()\n",
        "\n",
        "\n",
        "\n",
        "def compile_test_1(x, y):\n",
        "  # split\n",
        "  x_train, x_val, y_train, y_val = train_test_split(x, y, test_size=0.2)\n",
        "  \n",
        "  # scale\n",
        "  scaler = StandardScaler()\n",
        "  scaler.fit(x_train)\n",
        "  x_train = scaler.transform(x_train)\n",
        "  x_val   = scaler.transform(x_val)\n",
        "\n",
        "  # traning model\n",
        "  model = keras.models.Sequential(name=\"test_1\")\n",
        "  \n",
        "  # layers\n",
        "  model.add(keras.layers.Dense(100, activation=\"relu\", name=\"hidden_1\"))\n",
        "  model.add(keras.layers.Dense(100, activation=\"relu\", name=\"hidden_2\"))\n",
        "  model.add(keras.layers.Dense(1, activation=\"linear\", name=\"output\"))\n",
        "\n",
        "\n",
        "  # compile\n",
        "  history = model.compile(optimizer=\"rmsprop\", # root mean squard propagation\n",
        "                          loss=\"mse\",          # means sqared error\n",
        "                          metrics=[\"mae\"])     # mean absolute error\n",
        "\n",
        "  # training\n",
        "  history = model.fit(x_train, y_train,\n",
        "                      epochs=300, \n",
        "                      validation_data=(x_val,  y_val))\n",
        "  \n",
        "  model.evaluate(x_val, y_val)\n",
        "\n",
        "  return history\n",
        "  \n",
        "history = compile_test_1(X, Y)\n"
      ],
      "metadata": {
        "colab": {
          "base_uri": "https://localhost:8080/"
        },
        "id": "GA_J4gUe5AO4",
        "outputId": "c727f5a3-03d1-426b-865b-0d571c330a3e"
      },
      "execution_count": 34,
      "outputs": [
        {
          "output_type": "stream",
          "name": "stdout",
          "text": [
            "Epoch 1/300\n",
            "13/13 [==============================] - 1s 17ms/step - loss: 514.5225 - mae: 20.7910 - val_loss: 387.0197 - val_mae: 17.5524\n",
            "Epoch 2/300\n",
            "13/13 [==============================] - 0s 6ms/step - loss: 345.8953 - mae: 16.5507 - val_loss: 229.3387 - val_mae: 12.8808\n",
            "Epoch 3/300\n",
            "13/13 [==============================] - 0s 5ms/step - loss: 194.1790 - mae: 11.8046 - val_loss: 122.3851 - val_mae: 8.8110\n",
            "Epoch 4/300\n",
            "13/13 [==============================] - 0s 5ms/step - loss: 103.3515 - mae: 8.2503 - val_loss: 72.0514 - val_mae: 6.6391\n",
            "Epoch 5/300\n",
            "13/13 [==============================] - 0s 5ms/step - loss: 62.4914 - mae: 6.2346 - val_loss: 46.5843 - val_mae: 5.4311\n",
            "Epoch 6/300\n",
            "13/13 [==============================] - 0s 4ms/step - loss: 42.6772 - mae: 4.9307 - val_loss: 32.4575 - val_mae: 4.5251\n",
            "Epoch 7/300\n",
            "13/13 [==============================] - 0s 6ms/step - loss: 31.5517 - mae: 4.0747 - val_loss: 23.9182 - val_mae: 3.8358\n",
            "Epoch 8/300\n",
            "13/13 [==============================] - 0s 5ms/step - loss: 25.6543 - mae: 3.6074 - val_loss: 22.0025 - val_mae: 3.5863\n",
            "Epoch 9/300\n",
            "13/13 [==============================] - 0s 4ms/step - loss: 22.3349 - mae: 3.3612 - val_loss: 20.6632 - val_mae: 3.4578\n",
            "Epoch 10/300\n",
            "13/13 [==============================] - 0s 5ms/step - loss: 19.9236 - mae: 3.1355 - val_loss: 19.1131 - val_mae: 3.2711\n",
            "Epoch 11/300\n",
            "13/13 [==============================] - 0s 6ms/step - loss: 18.5389 - mae: 3.0660 - val_loss: 18.9680 - val_mae: 3.2359\n",
            "Epoch 12/300\n",
            "13/13 [==============================] - 0s 6ms/step - loss: 17.1689 - mae: 2.9470 - val_loss: 19.2856 - val_mae: 3.2507\n",
            "Epoch 13/300\n",
            "13/13 [==============================] - 0s 5ms/step - loss: 16.2189 - mae: 2.8625 - val_loss: 16.9396 - val_mae: 3.0299\n",
            "Epoch 14/300\n",
            "13/13 [==============================] - 0s 6ms/step - loss: 15.4991 - mae: 2.8409 - val_loss: 15.3737 - val_mae: 2.8932\n",
            "Epoch 15/300\n",
            "13/13 [==============================] - 0s 6ms/step - loss: 14.8819 - mae: 2.7207 - val_loss: 16.1978 - val_mae: 2.9689\n",
            "Epoch 16/300\n",
            "13/13 [==============================] - 0s 4ms/step - loss: 14.2435 - mae: 2.7101 - val_loss: 18.5874 - val_mae: 3.1765\n",
            "Epoch 17/300\n",
            "13/13 [==============================] - 0s 5ms/step - loss: 13.8759 - mae: 2.6564 - val_loss: 20.0334 - val_mae: 3.2934\n",
            "Epoch 18/300\n",
            "13/13 [==============================] - 0s 6ms/step - loss: 13.5128 - mae: 2.6892 - val_loss: 16.1424 - val_mae: 2.8482\n",
            "Epoch 19/300\n",
            "13/13 [==============================] - 0s 5ms/step - loss: 12.8414 - mae: 2.5506 - val_loss: 16.0991 - val_mae: 2.8670\n",
            "Epoch 20/300\n",
            "13/13 [==============================] - 0s 6ms/step - loss: 12.5827 - mae: 2.5264 - val_loss: 19.7582 - val_mae: 3.2066\n",
            "Epoch 21/300\n",
            "13/13 [==============================] - 0s 5ms/step - loss: 12.5581 - mae: 2.5374 - val_loss: 15.4184 - val_mae: 2.6770\n",
            "Epoch 22/300\n",
            "13/13 [==============================] - 0s 5ms/step - loss: 12.1514 - mae: 2.4633 - val_loss: 16.4823 - val_mae: 2.8068\n",
            "Epoch 23/300\n",
            "13/13 [==============================] - 0s 6ms/step - loss: 12.2874 - mae: 2.5140 - val_loss: 17.3504 - val_mae: 2.8979\n",
            "Epoch 24/300\n",
            "13/13 [==============================] - 0s 5ms/step - loss: 12.0122 - mae: 2.4651 - val_loss: 16.3115 - val_mae: 2.7405\n",
            "Epoch 25/300\n",
            "13/13 [==============================] - 0s 5ms/step - loss: 11.5404 - mae: 2.4210 - val_loss: 16.0814 - val_mae: 2.7747\n",
            "Epoch 26/300\n",
            "13/13 [==============================] - 0s 5ms/step - loss: 11.4130 - mae: 2.3970 - val_loss: 16.2589 - val_mae: 2.6857\n",
            "Epoch 27/300\n",
            "13/13 [==============================] - 0s 6ms/step - loss: 11.4698 - mae: 2.4124 - val_loss: 15.5720 - val_mae: 2.6443\n",
            "Epoch 28/300\n",
            "13/13 [==============================] - 0s 6ms/step - loss: 11.1810 - mae: 2.3938 - val_loss: 15.7591 - val_mae: 2.6606\n",
            "Epoch 29/300\n",
            "13/13 [==============================] - 0s 6ms/step - loss: 11.2019 - mae: 2.3764 - val_loss: 14.6734 - val_mae: 2.6052\n",
            "Epoch 30/300\n",
            "13/13 [==============================] - 0s 4ms/step - loss: 10.6158 - mae: 2.2870 - val_loss: 15.4269 - val_mae: 2.6117\n",
            "Epoch 31/300\n",
            "13/13 [==============================] - 0s 4ms/step - loss: 10.6987 - mae: 2.3086 - val_loss: 15.7468 - val_mae: 2.6749\n",
            "Epoch 32/300\n",
            "13/13 [==============================] - 0s 4ms/step - loss: 10.7846 - mae: 2.3596 - val_loss: 15.4699 - val_mae: 2.6212\n",
            "Epoch 33/300\n",
            "13/13 [==============================] - 0s 4ms/step - loss: 10.5679 - mae: 2.2798 - val_loss: 14.9398 - val_mae: 2.5921\n",
            "Epoch 34/300\n",
            "13/13 [==============================] - 0s 4ms/step - loss: 10.3281 - mae: 2.2852 - val_loss: 15.5195 - val_mae: 2.6127\n",
            "Epoch 35/300\n",
            "13/13 [==============================] - 0s 4ms/step - loss: 10.5019 - mae: 2.3022 - val_loss: 16.1423 - val_mae: 2.6727\n",
            "Epoch 36/300\n",
            "13/13 [==============================] - 0s 5ms/step - loss: 10.1221 - mae: 2.2677 - val_loss: 17.2219 - val_mae: 2.8362\n",
            "Epoch 37/300\n",
            "13/13 [==============================] - 0s 4ms/step - loss: 10.0981 - mae: 2.2675 - val_loss: 14.5102 - val_mae: 2.5406\n",
            "Epoch 38/300\n",
            "13/13 [==============================] - 0s 6ms/step - loss: 9.9287 - mae: 2.2670 - val_loss: 14.5639 - val_mae: 2.5740\n",
            "Epoch 39/300\n",
            "13/13 [==============================] - 0s 6ms/step - loss: 10.1245 - mae: 2.2459 - val_loss: 15.9181 - val_mae: 2.6713\n",
            "Epoch 40/300\n",
            "13/13 [==============================] - 0s 4ms/step - loss: 10.0862 - mae: 2.2599 - val_loss: 14.6988 - val_mae: 2.5404\n",
            "Epoch 41/300\n",
            "13/13 [==============================] - 0s 6ms/step - loss: 9.5525 - mae: 2.2124 - val_loss: 17.9632 - val_mae: 2.8088\n",
            "Epoch 42/300\n",
            "13/13 [==============================] - 0s 7ms/step - loss: 9.9010 - mae: 2.2550 - val_loss: 15.4215 - val_mae: 2.5987\n",
            "Epoch 43/300\n",
            "13/13 [==============================] - 0s 6ms/step - loss: 9.6995 - mae: 2.2269 - val_loss: 17.2212 - val_mae: 2.6916\n",
            "Epoch 44/300\n",
            "13/13 [==============================] - 0s 4ms/step - loss: 9.6522 - mae: 2.2181 - val_loss: 17.1819 - val_mae: 2.7363\n",
            "Epoch 45/300\n",
            "13/13 [==============================] - 0s 5ms/step - loss: 9.4670 - mae: 2.1938 - val_loss: 17.2374 - val_mae: 2.7369\n",
            "Epoch 46/300\n",
            "13/13 [==============================] - 0s 5ms/step - loss: 9.2489 - mae: 2.1796 - val_loss: 14.5418 - val_mae: 2.4996\n",
            "Epoch 47/300\n",
            "13/13 [==============================] - 0s 5ms/step - loss: 9.4063 - mae: 2.1978 - val_loss: 16.4771 - val_mae: 2.6495\n",
            "Epoch 48/300\n",
            "13/13 [==============================] - 0s 4ms/step - loss: 9.1641 - mae: 2.1654 - val_loss: 15.4852 - val_mae: 2.5984\n",
            "Epoch 49/300\n",
            "13/13 [==============================] - 0s 6ms/step - loss: 8.9153 - mae: 2.1203 - val_loss: 14.4145 - val_mae: 2.4982\n",
            "Epoch 50/300\n",
            "13/13 [==============================] - 0s 6ms/step - loss: 8.8258 - mae: 2.1261 - val_loss: 15.4719 - val_mae: 2.6109\n",
            "Epoch 51/300\n",
            "13/13 [==============================] - 0s 5ms/step - loss: 9.0185 - mae: 2.1664 - val_loss: 14.8102 - val_mae: 2.5145\n",
            "Epoch 52/300\n",
            "13/13 [==============================] - 0s 4ms/step - loss: 8.8765 - mae: 2.1636 - val_loss: 15.8531 - val_mae: 2.5705\n",
            "Epoch 53/300\n",
            "13/13 [==============================] - 0s 4ms/step - loss: 8.5114 - mae: 2.0963 - val_loss: 16.4616 - val_mae: 2.7266\n",
            "Epoch 54/300\n",
            "13/13 [==============================] - 0s 6ms/step - loss: 8.7434 - mae: 2.1521 - val_loss: 15.0112 - val_mae: 2.5606\n",
            "Epoch 55/300\n",
            "13/13 [==============================] - 0s 4ms/step - loss: 8.7557 - mae: 2.1517 - val_loss: 15.4601 - val_mae: 2.6086\n",
            "Epoch 56/300\n",
            "13/13 [==============================] - 0s 6ms/step - loss: 8.5800 - mae: 2.1041 - val_loss: 14.2989 - val_mae: 2.4687\n",
            "Epoch 57/300\n",
            "13/13 [==============================] - 0s 6ms/step - loss: 8.5275 - mae: 2.0931 - val_loss: 16.3060 - val_mae: 2.5754\n",
            "Epoch 58/300\n",
            "13/13 [==============================] - 0s 6ms/step - loss: 8.2222 - mae: 2.0624 - val_loss: 15.3558 - val_mae: 2.5148\n",
            "Epoch 59/300\n",
            "13/13 [==============================] - 0s 6ms/step - loss: 8.1107 - mae: 2.0744 - val_loss: 14.0514 - val_mae: 2.4426\n",
            "Epoch 60/300\n",
            "13/13 [==============================] - 0s 5ms/step - loss: 8.2911 - mae: 2.0840 - val_loss: 15.3435 - val_mae: 2.5555\n",
            "Epoch 61/300\n",
            "13/13 [==============================] - 0s 4ms/step - loss: 8.2342 - mae: 2.0415 - val_loss: 15.5740 - val_mae: 2.5501\n",
            "Epoch 62/300\n",
            "13/13 [==============================] - 0s 6ms/step - loss: 7.9889 - mae: 2.0230 - val_loss: 14.4302 - val_mae: 2.4521\n",
            "Epoch 63/300\n",
            "13/13 [==============================] - 0s 5ms/step - loss: 7.9419 - mae: 2.0394 - val_loss: 19.4729 - val_mae: 2.9144\n",
            "Epoch 64/300\n",
            "13/13 [==============================] - 0s 4ms/step - loss: 8.3047 - mae: 2.0981 - val_loss: 14.5604 - val_mae: 2.4719\n",
            "Epoch 65/300\n",
            "13/13 [==============================] - 0s 6ms/step - loss: 7.7960 - mae: 2.0237 - val_loss: 16.2468 - val_mae: 2.6838\n",
            "Epoch 66/300\n",
            "13/13 [==============================] - 0s 5ms/step - loss: 7.7495 - mae: 2.0133 - val_loss: 16.2109 - val_mae: 2.6780\n",
            "Epoch 67/300\n",
            "13/13 [==============================] - 0s 4ms/step - loss: 7.7876 - mae: 2.0142 - val_loss: 14.9071 - val_mae: 2.5755\n",
            "Epoch 68/300\n",
            "13/13 [==============================] - 0s 5ms/step - loss: 7.6674 - mae: 2.0162 - val_loss: 14.1372 - val_mae: 2.4436\n",
            "Epoch 69/300\n",
            "13/13 [==============================] - 0s 6ms/step - loss: 7.5096 - mae: 1.9663 - val_loss: 14.2228 - val_mae: 2.4643\n",
            "Epoch 70/300\n",
            "13/13 [==============================] - 0s 6ms/step - loss: 7.6086 - mae: 1.9703 - val_loss: 16.3896 - val_mae: 2.6130\n",
            "Epoch 71/300\n",
            "13/13 [==============================] - 0s 6ms/step - loss: 7.6129 - mae: 2.0008 - val_loss: 15.0290 - val_mae: 2.5470\n",
            "Epoch 72/300\n",
            "13/13 [==============================] - 0s 5ms/step - loss: 7.6996 - mae: 1.9722 - val_loss: 14.3552 - val_mae: 2.5278\n",
            "Epoch 73/300\n",
            "13/13 [==============================] - 0s 6ms/step - loss: 7.2362 - mae: 1.9582 - val_loss: 16.3714 - val_mae: 2.6136\n",
            "Epoch 74/300\n",
            "13/13 [==============================] - 0s 6ms/step - loss: 7.0894 - mae: 1.9228 - val_loss: 13.9014 - val_mae: 2.4728\n",
            "Epoch 75/300\n",
            "13/13 [==============================] - 0s 7ms/step - loss: 7.5226 - mae: 1.9589 - val_loss: 14.7731 - val_mae: 2.5305\n",
            "Epoch 76/300\n",
            "13/13 [==============================] - 0s 4ms/step - loss: 7.0746 - mae: 1.9372 - val_loss: 15.8505 - val_mae: 2.5840\n",
            "Epoch 77/300\n",
            "13/13 [==============================] - 0s 4ms/step - loss: 7.2066 - mae: 1.9308 - val_loss: 15.6796 - val_mae: 2.5497\n",
            "Epoch 78/300\n",
            "13/13 [==============================] - 0s 5ms/step - loss: 6.9354 - mae: 1.9076 - val_loss: 18.4457 - val_mae: 2.9475\n",
            "Epoch 79/300\n",
            "13/13 [==============================] - 0s 5ms/step - loss: 7.3741 - mae: 1.9758 - val_loss: 15.7507 - val_mae: 2.6914\n",
            "Epoch 80/300\n",
            "13/13 [==============================] - 0s 4ms/step - loss: 7.0493 - mae: 1.8986 - val_loss: 19.5739 - val_mae: 3.0292\n",
            "Epoch 81/300\n",
            "13/13 [==============================] - 0s 6ms/step - loss: 6.8945 - mae: 1.9293 - val_loss: 19.4008 - val_mae: 2.9569\n",
            "Epoch 82/300\n",
            "13/13 [==============================] - 0s 6ms/step - loss: 6.8410 - mae: 1.9044 - val_loss: 15.0180 - val_mae: 2.4887\n",
            "Epoch 83/300\n",
            "13/13 [==============================] - 0s 6ms/step - loss: 6.9769 - mae: 1.8870 - val_loss: 14.9024 - val_mae: 2.4917\n",
            "Epoch 84/300\n",
            "13/13 [==============================] - 0s 5ms/step - loss: 6.7399 - mae: 1.8785 - val_loss: 14.1955 - val_mae: 2.4606\n",
            "Epoch 85/300\n",
            "13/13 [==============================] - 0s 6ms/step - loss: 6.9018 - mae: 1.8733 - val_loss: 14.4565 - val_mae: 2.4526\n",
            "Epoch 86/300\n",
            "13/13 [==============================] - 0s 7ms/step - loss: 6.7216 - mae: 1.8717 - val_loss: 15.5485 - val_mae: 2.6164\n",
            "Epoch 87/300\n",
            "13/13 [==============================] - 0s 6ms/step - loss: 6.7981 - mae: 1.8905 - val_loss: 15.6903 - val_mae: 2.6712\n",
            "Epoch 88/300\n",
            "13/13 [==============================] - 0s 5ms/step - loss: 6.5984 - mae: 1.8337 - val_loss: 14.3222 - val_mae: 2.4660\n",
            "Epoch 89/300\n",
            "13/13 [==============================] - 0s 5ms/step - loss: 6.5120 - mae: 1.8538 - val_loss: 13.9504 - val_mae: 2.4522\n",
            "Epoch 90/300\n",
            "13/13 [==============================] - 0s 6ms/step - loss: 6.2831 - mae: 1.8008 - val_loss: 13.2948 - val_mae: 2.4597\n",
            "Epoch 91/300\n",
            "13/13 [==============================] - 0s 5ms/step - loss: 6.4036 - mae: 1.8345 - val_loss: 15.6235 - val_mae: 2.7034\n",
            "Epoch 92/300\n",
            "13/13 [==============================] - 0s 6ms/step - loss: 6.3578 - mae: 1.8323 - val_loss: 15.0728 - val_mae: 2.5703\n",
            "Epoch 93/300\n",
            "13/13 [==============================] - 0s 5ms/step - loss: 6.4656 - mae: 1.8321 - val_loss: 15.1617 - val_mae: 2.5758\n",
            "Epoch 94/300\n",
            "13/13 [==============================] - 0s 5ms/step - loss: 6.4367 - mae: 1.8378 - val_loss: 14.0581 - val_mae: 2.4821\n",
            "Epoch 95/300\n",
            "13/13 [==============================] - 0s 6ms/step - loss: 6.0484 - mae: 1.7790 - val_loss: 14.1621 - val_mae: 2.4331\n",
            "Epoch 96/300\n",
            "13/13 [==============================] - 0s 6ms/step - loss: 6.2523 - mae: 1.8177 - val_loss: 15.3270 - val_mae: 2.5993\n",
            "Epoch 97/300\n",
            "13/13 [==============================] - 0s 5ms/step - loss: 6.3154 - mae: 1.7739 - val_loss: 15.0357 - val_mae: 2.5642\n",
            "Epoch 98/300\n",
            "13/13 [==============================] - 0s 5ms/step - loss: 6.2622 - mae: 1.8289 - val_loss: 14.7360 - val_mae: 2.6431\n",
            "Epoch 99/300\n",
            "13/13 [==============================] - 0s 6ms/step - loss: 6.0774 - mae: 1.8111 - val_loss: 13.8801 - val_mae: 2.4539\n",
            "Epoch 100/300\n",
            "13/13 [==============================] - 0s 6ms/step - loss: 6.3145 - mae: 1.7794 - val_loss: 14.3274 - val_mae: 2.4684\n",
            "Epoch 101/300\n",
            "13/13 [==============================] - 0s 4ms/step - loss: 5.8543 - mae: 1.7134 - val_loss: 15.1988 - val_mae: 2.5633\n",
            "Epoch 102/300\n",
            "13/13 [==============================] - 0s 5ms/step - loss: 6.2859 - mae: 1.8240 - val_loss: 14.4645 - val_mae: 2.5351\n",
            "Epoch 103/300\n",
            "13/13 [==============================] - 0s 4ms/step - loss: 5.9028 - mae: 1.7571 - val_loss: 14.9530 - val_mae: 2.6122\n",
            "Epoch 104/300\n",
            "13/13 [==============================] - 0s 4ms/step - loss: 6.0807 - mae: 1.7906 - val_loss: 13.8747 - val_mae: 2.4548\n",
            "Epoch 105/300\n",
            "13/13 [==============================] - 0s 6ms/step - loss: 5.9962 - mae: 1.7482 - val_loss: 13.6884 - val_mae: 2.4237\n",
            "Epoch 106/300\n",
            "13/13 [==============================] - 0s 5ms/step - loss: 5.7927 - mae: 1.7260 - val_loss: 15.1110 - val_mae: 2.6185\n",
            "Epoch 107/300\n",
            "13/13 [==============================] - 0s 5ms/step - loss: 5.8495 - mae: 1.7340 - val_loss: 16.0257 - val_mae: 2.6557\n",
            "Epoch 108/300\n",
            "13/13 [==============================] - 0s 4ms/step - loss: 5.8931 - mae: 1.7687 - val_loss: 14.9256 - val_mae: 2.5420\n",
            "Epoch 109/300\n",
            "13/13 [==============================] - 0s 5ms/step - loss: 5.9643 - mae: 1.7817 - val_loss: 14.8145 - val_mae: 2.6019\n",
            "Epoch 110/300\n",
            "13/13 [==============================] - 0s 4ms/step - loss: 5.5443 - mae: 1.6860 - val_loss: 14.2077 - val_mae: 2.5066\n",
            "Epoch 111/300\n",
            "13/13 [==============================] - 0s 6ms/step - loss: 5.6175 - mae: 1.6901 - val_loss: 13.8815 - val_mae: 2.4881\n",
            "Epoch 112/300\n",
            "13/13 [==============================] - 0s 5ms/step - loss: 5.5854 - mae: 1.6950 - val_loss: 14.0003 - val_mae: 2.5180\n",
            "Epoch 113/300\n",
            "13/13 [==============================] - 0s 5ms/step - loss: 5.6129 - mae: 1.6878 - val_loss: 16.3430 - val_mae: 2.8661\n",
            "Epoch 114/300\n",
            "13/13 [==============================] - 0s 6ms/step - loss: 5.4307 - mae: 1.6723 - val_loss: 15.8189 - val_mae: 2.6314\n",
            "Epoch 115/300\n",
            "13/13 [==============================] - 0s 6ms/step - loss: 5.4518 - mae: 1.6630 - val_loss: 14.6657 - val_mae: 2.5161\n",
            "Epoch 116/300\n",
            "13/13 [==============================] - 0s 4ms/step - loss: 5.3336 - mae: 1.6627 - val_loss: 13.9325 - val_mae: 2.4582\n",
            "Epoch 117/300\n",
            "13/13 [==============================] - 0s 5ms/step - loss: 5.4705 - mae: 1.7262 - val_loss: 15.6820 - val_mae: 2.6131\n",
            "Epoch 118/300\n",
            "13/13 [==============================] - 0s 4ms/step - loss: 5.2792 - mae: 1.6819 - val_loss: 15.5174 - val_mae: 2.7357\n",
            "Epoch 119/300\n",
            "13/13 [==============================] - 0s 4ms/step - loss: 5.4155 - mae: 1.6640 - val_loss: 14.0088 - val_mae: 2.4675\n",
            "Epoch 120/300\n",
            "13/13 [==============================] - 0s 4ms/step - loss: 5.4243 - mae: 1.6580 - val_loss: 14.1873 - val_mae: 2.4746\n",
            "Epoch 121/300\n",
            "13/13 [==============================] - 0s 5ms/step - loss: 5.1993 - mae: 1.6484 - val_loss: 15.8799 - val_mae: 2.7594\n",
            "Epoch 122/300\n",
            "13/13 [==============================] - 0s 4ms/step - loss: 5.3510 - mae: 1.6633 - val_loss: 13.0792 - val_mae: 2.4081\n",
            "Epoch 123/300\n",
            "13/13 [==============================] - 0s 4ms/step - loss: 5.4732 - mae: 1.6644 - val_loss: 16.2209 - val_mae: 2.7336\n",
            "Epoch 124/300\n",
            "13/13 [==============================] - 0s 6ms/step - loss: 5.0702 - mae: 1.6080 - val_loss: 15.6907 - val_mae: 2.6675\n",
            "Epoch 125/300\n",
            "13/13 [==============================] - 0s 5ms/step - loss: 5.2646 - mae: 1.6647 - val_loss: 14.4086 - val_mae: 2.4868\n",
            "Epoch 126/300\n",
            "13/13 [==============================] - 0s 6ms/step - loss: 5.1715 - mae: 1.6171 - val_loss: 14.5838 - val_mae: 2.5320\n",
            "Epoch 127/300\n",
            "13/13 [==============================] - 0s 5ms/step - loss: 5.3565 - mae: 1.6369 - val_loss: 13.3128 - val_mae: 2.3904\n",
            "Epoch 128/300\n",
            "13/13 [==============================] - 0s 6ms/step - loss: 5.1485 - mae: 1.6201 - val_loss: 13.9034 - val_mae: 2.4837\n",
            "Epoch 129/300\n",
            "13/13 [==============================] - 0s 5ms/step - loss: 5.0855 - mae: 1.6071 - val_loss: 13.2889 - val_mae: 2.4074\n",
            "Epoch 130/300\n",
            "13/13 [==============================] - 0s 4ms/step - loss: 5.1364 - mae: 1.5914 - val_loss: 13.9797 - val_mae: 2.5455\n",
            "Epoch 131/300\n",
            "13/13 [==============================] - 0s 6ms/step - loss: 4.9900 - mae: 1.5703 - val_loss: 13.5677 - val_mae: 2.5014\n",
            "Epoch 132/300\n",
            "13/13 [==============================] - 0s 5ms/step - loss: 4.9990 - mae: 1.6003 - val_loss: 14.6782 - val_mae: 2.5601\n",
            "Epoch 133/300\n",
            "13/13 [==============================] - 0s 5ms/step - loss: 5.1682 - mae: 1.6281 - val_loss: 15.4317 - val_mae: 2.5662\n",
            "Epoch 134/300\n",
            "13/13 [==============================] - 0s 5ms/step - loss: 4.9426 - mae: 1.5808 - val_loss: 13.6371 - val_mae: 2.4884\n",
            "Epoch 135/300\n",
            "13/13 [==============================] - 0s 6ms/step - loss: 4.8595 - mae: 1.5864 - val_loss: 15.8536 - val_mae: 2.6284\n",
            "Epoch 136/300\n",
            "13/13 [==============================] - 0s 5ms/step - loss: 4.9736 - mae: 1.6015 - val_loss: 13.3661 - val_mae: 2.4238\n",
            "Epoch 137/300\n",
            "13/13 [==============================] - 0s 6ms/step - loss: 4.7936 - mae: 1.5680 - val_loss: 14.7852 - val_mae: 2.6494\n",
            "Epoch 138/300\n",
            "13/13 [==============================] - 0s 5ms/step - loss: 4.8903 - mae: 1.5738 - val_loss: 13.6214 - val_mae: 2.4567\n",
            "Epoch 139/300\n",
            "13/13 [==============================] - 0s 5ms/step - loss: 4.8333 - mae: 1.5657 - val_loss: 13.6606 - val_mae: 2.4649\n",
            "Epoch 140/300\n",
            "13/13 [==============================] - 0s 6ms/step - loss: 4.7765 - mae: 1.5333 - val_loss: 16.5800 - val_mae: 2.6966\n",
            "Epoch 141/300\n",
            "13/13 [==============================] - 0s 5ms/step - loss: 4.8243 - mae: 1.5665 - val_loss: 13.1353 - val_mae: 2.4529\n",
            "Epoch 142/300\n",
            "13/13 [==============================] - 0s 5ms/step - loss: 4.7338 - mae: 1.5391 - val_loss: 14.0551 - val_mae: 2.4875\n",
            "Epoch 143/300\n",
            "13/13 [==============================] - 0s 5ms/step - loss: 4.7638 - mae: 1.5601 - val_loss: 13.5607 - val_mae: 2.4714\n",
            "Epoch 144/300\n",
            "13/13 [==============================] - 0s 4ms/step - loss: 4.4716 - mae: 1.4997 - val_loss: 13.9637 - val_mae: 2.4846\n",
            "Epoch 145/300\n",
            "13/13 [==============================] - 0s 6ms/step - loss: 4.8256 - mae: 1.5787 - val_loss: 15.1818 - val_mae: 2.6715\n",
            "Epoch 146/300\n",
            "13/13 [==============================] - 0s 4ms/step - loss: 4.6392 - mae: 1.5197 - val_loss: 15.8391 - val_mae: 2.7978\n",
            "Epoch 147/300\n",
            "13/13 [==============================] - 0s 5ms/step - loss: 4.7743 - mae: 1.5873 - val_loss: 13.7131 - val_mae: 2.5130\n",
            "Epoch 148/300\n",
            "13/13 [==============================] - 0s 5ms/step - loss: 4.5367 - mae: 1.5199 - val_loss: 15.4184 - val_mae: 2.7103\n",
            "Epoch 149/300\n",
            "13/13 [==============================] - 0s 6ms/step - loss: 4.7044 - mae: 1.5368 - val_loss: 14.6437 - val_mae: 2.6185\n",
            "Epoch 150/300\n",
            "13/13 [==============================] - 0s 5ms/step - loss: 4.5604 - mae: 1.5000 - val_loss: 14.3734 - val_mae: 2.5555\n",
            "Epoch 151/300\n",
            "13/13 [==============================] - 0s 5ms/step - loss: 4.5433 - mae: 1.4940 - val_loss: 15.3830 - val_mae: 2.6606\n",
            "Epoch 152/300\n",
            "13/13 [==============================] - 0s 5ms/step - loss: 4.4068 - mae: 1.5070 - val_loss: 14.3562 - val_mae: 2.5230\n",
            "Epoch 153/300\n",
            "13/13 [==============================] - 0s 5ms/step - loss: 4.4859 - mae: 1.5101 - val_loss: 15.4203 - val_mae: 2.7423\n",
            "Epoch 154/300\n",
            "13/13 [==============================] - 0s 5ms/step - loss: 4.4403 - mae: 1.4998 - val_loss: 13.3598 - val_mae: 2.4959\n",
            "Epoch 155/300\n",
            "13/13 [==============================] - 0s 5ms/step - loss: 4.3597 - mae: 1.4667 - val_loss: 13.1545 - val_mae: 2.4195\n",
            "Epoch 156/300\n",
            "13/13 [==============================] - 0s 5ms/step - loss: 4.5191 - mae: 1.5039 - val_loss: 13.4489 - val_mae: 2.4285\n",
            "Epoch 157/300\n",
            "13/13 [==============================] - 0s 6ms/step - loss: 4.1708 - mae: 1.4532 - val_loss: 13.0826 - val_mae: 2.4163\n",
            "Epoch 158/300\n",
            "13/13 [==============================] - 0s 5ms/step - loss: 4.5833 - mae: 1.5502 - val_loss: 14.4593 - val_mae: 2.5310\n",
            "Epoch 159/300\n",
            "13/13 [==============================] - 0s 4ms/step - loss: 4.2851 - mae: 1.4635 - val_loss: 13.8034 - val_mae: 2.4954\n",
            "Epoch 160/300\n",
            "13/13 [==============================] - 0s 6ms/step - loss: 4.2415 - mae: 1.4565 - val_loss: 16.9926 - val_mae: 2.7844\n",
            "Epoch 161/300\n",
            "13/13 [==============================] - 0s 4ms/step - loss: 4.6216 - mae: 1.5851 - val_loss: 14.1976 - val_mae: 2.5513\n",
            "Epoch 162/300\n",
            "13/13 [==============================] - 0s 5ms/step - loss: 4.4302 - mae: 1.4956 - val_loss: 14.6080 - val_mae: 2.6385\n",
            "Epoch 163/300\n",
            "13/13 [==============================] - 0s 5ms/step - loss: 4.2901 - mae: 1.4503 - val_loss: 14.9645 - val_mae: 2.5602\n",
            "Epoch 164/300\n",
            "13/13 [==============================] - 0s 4ms/step - loss: 4.2899 - mae: 1.4692 - val_loss: 13.5925 - val_mae: 2.4601\n",
            "Epoch 165/300\n",
            "13/13 [==============================] - 0s 6ms/step - loss: 4.2471 - mae: 1.4648 - val_loss: 14.0087 - val_mae: 2.4857\n",
            "Epoch 166/300\n",
            "13/13 [==============================] - 0s 6ms/step - loss: 4.4127 - mae: 1.4729 - val_loss: 14.3204 - val_mae: 2.4663\n",
            "Epoch 167/300\n",
            "13/13 [==============================] - 0s 7ms/step - loss: 4.2161 - mae: 1.4828 - val_loss: 14.4314 - val_mae: 2.5029\n",
            "Epoch 168/300\n",
            "13/13 [==============================] - 0s 6ms/step - loss: 4.3326 - mae: 1.4790 - val_loss: 14.3421 - val_mae: 2.4853\n",
            "Epoch 169/300\n",
            "13/13 [==============================] - 0s 5ms/step - loss: 4.0311 - mae: 1.4295 - val_loss: 16.8685 - val_mae: 2.8301\n",
            "Epoch 170/300\n",
            "13/13 [==============================] - 0s 7ms/step - loss: 4.0319 - mae: 1.4261 - val_loss: 14.5544 - val_mae: 2.5330\n",
            "Epoch 171/300\n",
            "13/13 [==============================] - 0s 6ms/step - loss: 3.9558 - mae: 1.3901 - val_loss: 14.0752 - val_mae: 2.5514\n",
            "Epoch 172/300\n",
            "13/13 [==============================] - 0s 6ms/step - loss: 4.1640 - mae: 1.4490 - val_loss: 14.4610 - val_mae: 2.5253\n",
            "Epoch 173/300\n",
            "13/13 [==============================] - 0s 5ms/step - loss: 3.9170 - mae: 1.4015 - val_loss: 15.2504 - val_mae: 2.6878\n",
            "Epoch 174/300\n",
            "13/13 [==============================] - 0s 4ms/step - loss: 3.9337 - mae: 1.4274 - val_loss: 14.4678 - val_mae: 2.5467\n",
            "Epoch 175/300\n",
            "13/13 [==============================] - 0s 6ms/step - loss: 4.1485 - mae: 1.4458 - val_loss: 16.7253 - val_mae: 2.7248\n",
            "Epoch 176/300\n",
            "13/13 [==============================] - 0s 5ms/step - loss: 4.0217 - mae: 1.4306 - val_loss: 15.4637 - val_mae: 2.6145\n",
            "Epoch 177/300\n",
            "13/13 [==============================] - 0s 5ms/step - loss: 4.2153 - mae: 1.4451 - val_loss: 13.4624 - val_mae: 2.4380\n",
            "Epoch 178/300\n",
            "13/13 [==============================] - 0s 6ms/step - loss: 3.7799 - mae: 1.3657 - val_loss: 15.1379 - val_mae: 2.5837\n",
            "Epoch 179/300\n",
            "13/13 [==============================] - 0s 5ms/step - loss: 3.9548 - mae: 1.4100 - val_loss: 15.3088 - val_mae: 2.6174\n",
            "Epoch 180/300\n",
            "13/13 [==============================] - 0s 5ms/step - loss: 4.1706 - mae: 1.4693 - val_loss: 14.7504 - val_mae: 2.6098\n",
            "Epoch 181/300\n",
            "13/13 [==============================] - 0s 5ms/step - loss: 3.7069 - mae: 1.3656 - val_loss: 14.3949 - val_mae: 2.5039\n",
            "Epoch 182/300\n",
            "13/13 [==============================] - 0s 5ms/step - loss: 3.8022 - mae: 1.4016 - val_loss: 13.6325 - val_mae: 2.4209\n",
            "Epoch 183/300\n",
            "13/13 [==============================] - 0s 5ms/step - loss: 3.8306 - mae: 1.3988 - val_loss: 14.2323 - val_mae: 2.4954\n",
            "Epoch 184/300\n",
            "13/13 [==============================] - 0s 5ms/step - loss: 4.1178 - mae: 1.4690 - val_loss: 14.8029 - val_mae: 2.5607\n",
            "Epoch 185/300\n",
            "13/13 [==============================] - 0s 5ms/step - loss: 3.9117 - mae: 1.3984 - val_loss: 13.8645 - val_mae: 2.4529\n",
            "Epoch 186/300\n",
            "13/13 [==============================] - 0s 5ms/step - loss: 3.9139 - mae: 1.3968 - val_loss: 13.8449 - val_mae: 2.4934\n",
            "Epoch 187/300\n",
            "13/13 [==============================] - 0s 5ms/step - loss: 3.7925 - mae: 1.3900 - val_loss: 13.9088 - val_mae: 2.5558\n",
            "Epoch 188/300\n",
            "13/13 [==============================] - 0s 6ms/step - loss: 3.8393 - mae: 1.4079 - val_loss: 14.6910 - val_mae: 2.5603\n",
            "Epoch 189/300\n",
            "13/13 [==============================] - 0s 5ms/step - loss: 3.8721 - mae: 1.3788 - val_loss: 13.5156 - val_mae: 2.4394\n",
            "Epoch 190/300\n",
            "13/13 [==============================] - 0s 6ms/step - loss: 3.9412 - mae: 1.4485 - val_loss: 13.7897 - val_mae: 2.5352\n",
            "Epoch 191/300\n",
            "13/13 [==============================] - 0s 5ms/step - loss: 3.6052 - mae: 1.3559 - val_loss: 15.7726 - val_mae: 2.6691\n",
            "Epoch 192/300\n",
            "13/13 [==============================] - 0s 5ms/step - loss: 3.6221 - mae: 1.3666 - val_loss: 16.8999 - val_mae: 2.7625\n",
            "Epoch 193/300\n",
            "13/13 [==============================] - 0s 6ms/step - loss: 3.7740 - mae: 1.4194 - val_loss: 14.0073 - val_mae: 2.4770\n",
            "Epoch 194/300\n",
            "13/13 [==============================] - 0s 6ms/step - loss: 3.5917 - mae: 1.3672 - val_loss: 13.8852 - val_mae: 2.4814\n",
            "Epoch 195/300\n",
            "13/13 [==============================] - 0s 5ms/step - loss: 3.7176 - mae: 1.3677 - val_loss: 15.7095 - val_mae: 2.8166\n",
            "Epoch 196/300\n",
            "13/13 [==============================] - 0s 5ms/step - loss: 3.7608 - mae: 1.4085 - val_loss: 14.4248 - val_mae: 2.6519\n",
            "Epoch 197/300\n",
            "13/13 [==============================] - 0s 5ms/step - loss: 3.6198 - mae: 1.3754 - val_loss: 14.8294 - val_mae: 2.5812\n",
            "Epoch 198/300\n",
            "13/13 [==============================] - 0s 5ms/step - loss: 3.6657 - mae: 1.3524 - val_loss: 16.5886 - val_mae: 2.8365\n",
            "Epoch 199/300\n",
            "13/13 [==============================] - 0s 5ms/step - loss: 3.6919 - mae: 1.3703 - val_loss: 15.4991 - val_mae: 2.7252\n",
            "Epoch 200/300\n",
            "13/13 [==============================] - 0s 5ms/step - loss: 3.7394 - mae: 1.3633 - val_loss: 15.2783 - val_mae: 2.6112\n",
            "Epoch 201/300\n",
            "13/13 [==============================] - 0s 4ms/step - loss: 3.5511 - mae: 1.3476 - val_loss: 15.1052 - val_mae: 2.6153\n",
            "Epoch 202/300\n",
            "13/13 [==============================] - 0s 5ms/step - loss: 3.6349 - mae: 1.3585 - val_loss: 13.9677 - val_mae: 2.4697\n",
            "Epoch 203/300\n",
            "13/13 [==============================] - 0s 5ms/step - loss: 3.8281 - mae: 1.4059 - val_loss: 13.1726 - val_mae: 2.4056\n",
            "Epoch 204/300\n",
            "13/13 [==============================] - 0s 6ms/step - loss: 3.5202 - mae: 1.3586 - val_loss: 13.9209 - val_mae: 2.5252\n",
            "Epoch 205/300\n",
            "13/13 [==============================] - 0s 4ms/step - loss: 3.7933 - mae: 1.3987 - val_loss: 17.4683 - val_mae: 2.8009\n",
            "Epoch 206/300\n",
            "13/13 [==============================] - 0s 5ms/step - loss: 3.7784 - mae: 1.4309 - val_loss: 14.7357 - val_mae: 2.5080\n",
            "Epoch 207/300\n",
            "13/13 [==============================] - 0s 6ms/step - loss: 3.4652 - mae: 1.3318 - val_loss: 13.5426 - val_mae: 2.4267\n",
            "Epoch 208/300\n",
            "13/13 [==============================] - 0s 6ms/step - loss: 3.7241 - mae: 1.3761 - val_loss: 16.7495 - val_mae: 2.8845\n",
            "Epoch 209/300\n",
            "13/13 [==============================] - 0s 5ms/step - loss: 3.5119 - mae: 1.3283 - val_loss: 14.6148 - val_mae: 2.5352\n",
            "Epoch 210/300\n",
            "13/13 [==============================] - 0s 7ms/step - loss: 3.4786 - mae: 1.3227 - val_loss: 13.7556 - val_mae: 2.4569\n",
            "Epoch 211/300\n",
            "13/13 [==============================] - 0s 6ms/step - loss: 3.6238 - mae: 1.3590 - val_loss: 14.9839 - val_mae: 2.6312\n",
            "Epoch 212/300\n",
            "13/13 [==============================] - 0s 5ms/step - loss: 3.2592 - mae: 1.2450 - val_loss: 13.5734 - val_mae: 2.4767\n",
            "Epoch 213/300\n",
            "13/13 [==============================] - 0s 5ms/step - loss: 3.8677 - mae: 1.3864 - val_loss: 13.6363 - val_mae: 2.4172\n",
            "Epoch 214/300\n",
            "13/13 [==============================] - 0s 5ms/step - loss: 3.4209 - mae: 1.3345 - val_loss: 13.7700 - val_mae: 2.5389\n",
            "Epoch 215/300\n",
            "13/13 [==============================] - 0s 5ms/step - loss: 3.3958 - mae: 1.2894 - val_loss: 13.5550 - val_mae: 2.4521\n",
            "Epoch 216/300\n",
            "13/13 [==============================] - 0s 5ms/step - loss: 3.6390 - mae: 1.3619 - val_loss: 13.5664 - val_mae: 2.4690\n",
            "Epoch 217/300\n",
            "13/13 [==============================] - 0s 5ms/step - loss: 3.1724 - mae: 1.2726 - val_loss: 15.2766 - val_mae: 2.6135\n",
            "Epoch 218/300\n",
            "13/13 [==============================] - 0s 4ms/step - loss: 3.4482 - mae: 1.3572 - val_loss: 13.9496 - val_mae: 2.4811\n",
            "Epoch 219/300\n",
            "13/13 [==============================] - 0s 6ms/step - loss: 3.5277 - mae: 1.3339 - val_loss: 14.9507 - val_mae: 2.6337\n",
            "Epoch 220/300\n",
            "13/13 [==============================] - 0s 5ms/step - loss: 3.4235 - mae: 1.3186 - val_loss: 18.2668 - val_mae: 2.8753\n",
            "Epoch 221/300\n",
            "13/13 [==============================] - 0s 5ms/step - loss: 3.4260 - mae: 1.3218 - val_loss: 14.9379 - val_mae: 2.5801\n",
            "Epoch 222/300\n",
            "13/13 [==============================] - 0s 5ms/step - loss: 3.2841 - mae: 1.2934 - val_loss: 13.4638 - val_mae: 2.4193\n",
            "Epoch 223/300\n",
            "13/13 [==============================] - 0s 6ms/step - loss: 3.4606 - mae: 1.3234 - val_loss: 13.3603 - val_mae: 2.4318\n",
            "Epoch 224/300\n",
            "13/13 [==============================] - 0s 5ms/step - loss: 3.4507 - mae: 1.3580 - val_loss: 13.6488 - val_mae: 2.4142\n",
            "Epoch 225/300\n",
            "13/13 [==============================] - 0s 5ms/step - loss: 3.6271 - mae: 1.3529 - val_loss: 13.9980 - val_mae: 2.5691\n",
            "Epoch 226/300\n",
            "13/13 [==============================] - 0s 5ms/step - loss: 3.2359 - mae: 1.2894 - val_loss: 13.4703 - val_mae: 2.4568\n",
            "Epoch 227/300\n",
            "13/13 [==============================] - 0s 5ms/step - loss: 3.3722 - mae: 1.2931 - val_loss: 13.8225 - val_mae: 2.4603\n",
            "Epoch 228/300\n",
            "13/13 [==============================] - 0s 6ms/step - loss: 3.1853 - mae: 1.2790 - val_loss: 14.0239 - val_mae: 2.4960\n",
            "Epoch 229/300\n",
            "13/13 [==============================] - 0s 6ms/step - loss: 3.4185 - mae: 1.3431 - val_loss: 12.9868 - val_mae: 2.4175\n",
            "Epoch 230/300\n",
            "13/13 [==============================] - 0s 6ms/step - loss: 3.4051 - mae: 1.3120 - val_loss: 14.5577 - val_mae: 2.6405\n",
            "Epoch 231/300\n",
            "13/13 [==============================] - 0s 5ms/step - loss: 3.5170 - mae: 1.3724 - val_loss: 15.2753 - val_mae: 2.6672\n",
            "Epoch 232/300\n",
            "13/13 [==============================] - 0s 4ms/step - loss: 3.4035 - mae: 1.3447 - val_loss: 15.6915 - val_mae: 2.7040\n",
            "Epoch 233/300\n",
            "13/13 [==============================] - 0s 5ms/step - loss: 3.5752 - mae: 1.3652 - val_loss: 15.1082 - val_mae: 2.5496\n",
            "Epoch 234/300\n",
            "13/13 [==============================] - 0s 5ms/step - loss: 3.2381 - mae: 1.2845 - val_loss: 13.6106 - val_mae: 2.4653\n",
            "Epoch 235/300\n",
            "13/13 [==============================] - 0s 5ms/step - loss: 3.3555 - mae: 1.3167 - val_loss: 15.3362 - val_mae: 2.5448\n",
            "Epoch 236/300\n",
            "13/13 [==============================] - 0s 6ms/step - loss: 3.5629 - mae: 1.3369 - val_loss: 14.2201 - val_mae: 2.5200\n",
            "Epoch 237/300\n",
            "13/13 [==============================] - 0s 5ms/step - loss: 3.0301 - mae: 1.2422 - val_loss: 14.1748 - val_mae: 2.4984\n",
            "Epoch 238/300\n",
            "13/13 [==============================] - 0s 6ms/step - loss: 3.0962 - mae: 1.2630 - val_loss: 15.7362 - val_mae: 2.7134\n",
            "Epoch 239/300\n",
            "13/13 [==============================] - 0s 5ms/step - loss: 3.1612 - mae: 1.2690 - val_loss: 13.5112 - val_mae: 2.4876\n",
            "Epoch 240/300\n",
            "13/13 [==============================] - 0s 5ms/step - loss: 3.4465 - mae: 1.3195 - val_loss: 16.1250 - val_mae: 2.6714\n",
            "Epoch 241/300\n",
            "13/13 [==============================] - 0s 6ms/step - loss: 3.2319 - mae: 1.3014 - val_loss: 16.4551 - val_mae: 2.8342\n",
            "Epoch 242/300\n",
            "13/13 [==============================] - 0s 5ms/step - loss: 2.9444 - mae: 1.2152 - val_loss: 14.0498 - val_mae: 2.4968\n",
            "Epoch 243/300\n",
            "13/13 [==============================] - 0s 5ms/step - loss: 3.0810 - mae: 1.2543 - val_loss: 16.0016 - val_mae: 2.7615\n",
            "Epoch 244/300\n",
            "13/13 [==============================] - 0s 5ms/step - loss: 3.0865 - mae: 1.2152 - val_loss: 15.3238 - val_mae: 2.6156\n",
            "Epoch 245/300\n",
            "13/13 [==============================] - 0s 4ms/step - loss: 3.2184 - mae: 1.2721 - val_loss: 15.5115 - val_mae: 2.6432\n",
            "Epoch 246/300\n",
            "13/13 [==============================] - 0s 5ms/step - loss: 2.9839 - mae: 1.2378 - val_loss: 14.5427 - val_mae: 2.4935\n",
            "Epoch 247/300\n",
            "13/13 [==============================] - 0s 6ms/step - loss: 3.0408 - mae: 1.2630 - val_loss: 16.2684 - val_mae: 2.6926\n",
            "Epoch 248/300\n",
            "13/13 [==============================] - 0s 5ms/step - loss: 3.2307 - mae: 1.3141 - val_loss: 13.8447 - val_mae: 2.4637\n",
            "Epoch 249/300\n",
            "13/13 [==============================] - 0s 5ms/step - loss: 2.9662 - mae: 1.2190 - val_loss: 13.6960 - val_mae: 2.4256\n",
            "Epoch 250/300\n",
            "13/13 [==============================] - 0s 5ms/step - loss: 2.9197 - mae: 1.2113 - val_loss: 17.9427 - val_mae: 3.0372\n",
            "Epoch 251/300\n",
            "13/13 [==============================] - 0s 5ms/step - loss: 2.9793 - mae: 1.2102 - val_loss: 13.6236 - val_mae: 2.4839\n",
            "Epoch 252/300\n",
            "13/13 [==============================] - 0s 5ms/step - loss: 3.1208 - mae: 1.2739 - val_loss: 19.3916 - val_mae: 3.0635\n",
            "Epoch 253/300\n",
            "13/13 [==============================] - 0s 6ms/step - loss: 3.1641 - mae: 1.2833 - val_loss: 14.9476 - val_mae: 2.5267\n",
            "Epoch 254/300\n",
            "13/13 [==============================] - 0s 5ms/step - loss: 2.9349 - mae: 1.2061 - val_loss: 14.5515 - val_mae: 2.5629\n",
            "Epoch 255/300\n",
            "13/13 [==============================] - 0s 5ms/step - loss: 2.9734 - mae: 1.2331 - val_loss: 14.9103 - val_mae: 2.5625\n",
            "Epoch 256/300\n",
            "13/13 [==============================] - 0s 5ms/step - loss: 3.1880 - mae: 1.2832 - val_loss: 13.7508 - val_mae: 2.4898\n",
            "Epoch 257/300\n",
            "13/13 [==============================] - 0s 5ms/step - loss: 2.8737 - mae: 1.2022 - val_loss: 15.9795 - val_mae: 2.6241\n",
            "Epoch 258/300\n",
            "13/13 [==============================] - 0s 6ms/step - loss: 2.8510 - mae: 1.2197 - val_loss: 13.6558 - val_mae: 2.4558\n",
            "Epoch 259/300\n",
            "13/13 [==============================] - 0s 6ms/step - loss: 2.8868 - mae: 1.2481 - val_loss: 14.4188 - val_mae: 2.4822\n",
            "Epoch 260/300\n",
            "13/13 [==============================] - 0s 5ms/step - loss: 2.9074 - mae: 1.2254 - val_loss: 15.5090 - val_mae: 2.6985\n",
            "Epoch 261/300\n",
            "13/13 [==============================] - 0s 5ms/step - loss: 3.0185 - mae: 1.2454 - val_loss: 15.2488 - val_mae: 2.5556\n",
            "Epoch 262/300\n",
            "13/13 [==============================] - 0s 5ms/step - loss: 2.9864 - mae: 1.2327 - val_loss: 16.7644 - val_mae: 2.8296\n",
            "Epoch 263/300\n",
            "13/13 [==============================] - 0s 5ms/step - loss: 2.7372 - mae: 1.1699 - val_loss: 13.8233 - val_mae: 2.4944\n",
            "Epoch 264/300\n",
            "13/13 [==============================] - 0s 6ms/step - loss: 3.1035 - mae: 1.2611 - val_loss: 17.2921 - val_mae: 2.8846\n",
            "Epoch 265/300\n",
            "13/13 [==============================] - 0s 5ms/step - loss: 2.9062 - mae: 1.2387 - val_loss: 16.0530 - val_mae: 2.6658\n",
            "Epoch 266/300\n",
            "13/13 [==============================] - 0s 5ms/step - loss: 2.9104 - mae: 1.2178 - val_loss: 13.4508 - val_mae: 2.4237\n",
            "Epoch 267/300\n",
            "13/13 [==============================] - 0s 5ms/step - loss: 2.8836 - mae: 1.2036 - val_loss: 13.7187 - val_mae: 2.5271\n",
            "Epoch 268/300\n",
            "13/13 [==============================] - 0s 5ms/step - loss: 3.0935 - mae: 1.2793 - val_loss: 14.2769 - val_mae: 2.5183\n",
            "Epoch 269/300\n",
            "13/13 [==============================] - 0s 6ms/step - loss: 2.7237 - mae: 1.1765 - val_loss: 14.6579 - val_mae: 2.5292\n",
            "Epoch 270/300\n",
            "13/13 [==============================] - 0s 5ms/step - loss: 2.7312 - mae: 1.1472 - val_loss: 13.5831 - val_mae: 2.3908\n",
            "Epoch 271/300\n",
            "13/13 [==============================] - 0s 5ms/step - loss: 2.9809 - mae: 1.2435 - val_loss: 15.4785 - val_mae: 2.5749\n",
            "Epoch 272/300\n",
            "13/13 [==============================] - 0s 5ms/step - loss: 2.7551 - mae: 1.1887 - val_loss: 14.2396 - val_mae: 2.6039\n",
            "Epoch 273/300\n",
            "13/13 [==============================] - 0s 5ms/step - loss: 2.9700 - mae: 1.2198 - val_loss: 15.7039 - val_mae: 2.6556\n",
            "Epoch 274/300\n",
            "13/13 [==============================] - 0s 6ms/step - loss: 2.9534 - mae: 1.2580 - val_loss: 13.9484 - val_mae: 2.4553\n",
            "Epoch 275/300\n",
            "13/13 [==============================] - 0s 6ms/step - loss: 2.9012 - mae: 1.1985 - val_loss: 16.2044 - val_mae: 2.7717\n",
            "Epoch 276/300\n",
            "13/13 [==============================] - 0s 5ms/step - loss: 2.8542 - mae: 1.2271 - val_loss: 16.0584 - val_mae: 2.6599\n",
            "Epoch 277/300\n",
            "13/13 [==============================] - 0s 6ms/step - loss: 2.7400 - mae: 1.1882 - val_loss: 14.1171 - val_mae: 2.5393\n",
            "Epoch 278/300\n",
            "13/13 [==============================] - 0s 5ms/step - loss: 2.7325 - mae: 1.2100 - val_loss: 14.1833 - val_mae: 2.4382\n",
            "Epoch 279/300\n",
            "13/13 [==============================] - 0s 6ms/step - loss: 2.8556 - mae: 1.1992 - val_loss: 14.6084 - val_mae: 2.5112\n",
            "Epoch 280/300\n",
            "13/13 [==============================] - 0s 5ms/step - loss: 2.9700 - mae: 1.2542 - val_loss: 15.1141 - val_mae: 2.6155\n",
            "Epoch 281/300\n",
            "13/13 [==============================] - 0s 6ms/step - loss: 2.8556 - mae: 1.1733 - val_loss: 15.0547 - val_mae: 2.6540\n",
            "Epoch 282/300\n",
            "13/13 [==============================] - 0s 5ms/step - loss: 2.6312 - mae: 1.1616 - val_loss: 15.6395 - val_mae: 2.7041\n",
            "Epoch 283/300\n",
            "13/13 [==============================] - 0s 5ms/step - loss: 3.0352 - mae: 1.2636 - val_loss: 15.3100 - val_mae: 2.6208\n",
            "Epoch 284/300\n",
            "13/13 [==============================] - 0s 5ms/step - loss: 2.6500 - mae: 1.1541 - val_loss: 14.2994 - val_mae: 2.5610\n",
            "Epoch 285/300\n",
            "13/13 [==============================] - 0s 5ms/step - loss: 2.6372 - mae: 1.1759 - val_loss: 14.5416 - val_mae: 2.4992\n",
            "Epoch 286/300\n",
            "13/13 [==============================] - 0s 5ms/step - loss: 2.9728 - mae: 1.2468 - val_loss: 15.6288 - val_mae: 2.7176\n",
            "Epoch 287/300\n",
            "13/13 [==============================] - 0s 5ms/step - loss: 2.5821 - mae: 1.1483 - val_loss: 14.2563 - val_mae: 2.5238\n",
            "Epoch 288/300\n",
            "13/13 [==============================] - 0s 5ms/step - loss: 2.7684 - mae: 1.1946 - val_loss: 18.0475 - val_mae: 2.8678\n",
            "Epoch 289/300\n",
            "13/13 [==============================] - 0s 6ms/step - loss: 2.6428 - mae: 1.1843 - val_loss: 16.3243 - val_mae: 2.8076\n",
            "Epoch 290/300\n",
            "13/13 [==============================] - 0s 5ms/step - loss: 2.7394 - mae: 1.1920 - val_loss: 13.3978 - val_mae: 2.3898\n",
            "Epoch 291/300\n",
            "13/13 [==============================] - 0s 6ms/step - loss: 2.6165 - mae: 1.1655 - val_loss: 15.4953 - val_mae: 2.6945\n",
            "Epoch 292/300\n",
            "13/13 [==============================] - 0s 5ms/step - loss: 2.6795 - mae: 1.1509 - val_loss: 13.3334 - val_mae: 2.4003\n",
            "Epoch 293/300\n",
            "13/13 [==============================] - 0s 5ms/step - loss: 2.7448 - mae: 1.1941 - val_loss: 16.2729 - val_mae: 2.7834\n",
            "Epoch 294/300\n",
            "13/13 [==============================] - 0s 5ms/step - loss: 2.7041 - mae: 1.1632 - val_loss: 13.3388 - val_mae: 2.4359\n",
            "Epoch 295/300\n",
            "13/13 [==============================] - 0s 5ms/step - loss: 2.6246 - mae: 1.1557 - val_loss: 14.3319 - val_mae: 2.5974\n",
            "Epoch 296/300\n",
            "13/13 [==============================] - 0s 6ms/step - loss: 2.6899 - mae: 1.1875 - val_loss: 13.8590 - val_mae: 2.4654\n",
            "Epoch 297/300\n",
            "13/13 [==============================] - 0s 5ms/step - loss: 2.6959 - mae: 1.1978 - val_loss: 14.6603 - val_mae: 2.5292\n",
            "Epoch 298/300\n",
            "13/13 [==============================] - 0s 6ms/step - loss: 2.6451 - mae: 1.1845 - val_loss: 14.3616 - val_mae: 2.4746\n",
            "Epoch 299/300\n",
            "13/13 [==============================] - 0s 5ms/step - loss: 2.3634 - mae: 1.0987 - val_loss: 13.7563 - val_mae: 2.4513\n",
            "Epoch 300/300\n",
            "13/13 [==============================] - 0s 6ms/step - loss: 2.5492 - mae: 1.1467 - val_loss: 13.9423 - val_mae: 2.4360\n",
            "4/4 [==============================] - 0s 4ms/step - loss: 13.9423 - mae: 2.4360\n"
          ]
        }
      ]
    },
    {
      "cell_type": "code",
      "source": [
        "plot_training_history(history)"
      ],
      "metadata": {
        "colab": {
          "base_uri": "https://localhost:8080/",
          "height": 1000
        },
        "id": "ukQ622p9PxGo",
        "outputId": "510267e6-7989-4b1c-f0ef-39bd73364d3b"
      },
      "execution_count": 35,
      "outputs": [
        {
          "output_type": "display_data",
          "data": {
            "text/plain": [
              "<Figure size 1152x864 with 1 Axes>"
            ],
            "image/png": "[encoded data removed]"
          },
          "metadata": {
            "needs_background": "light"
          }
        },
        {
          "output_type": "display_data",
          "data": {
            "text/plain": [
              "<Figure size 1152x864 with 1 Axes>"
            ],
            "image/png": "[encoded data removed]"
          },
          "metadata": {
            "needs_background": "light"
          }
        }
      ]
    }
  ]
}