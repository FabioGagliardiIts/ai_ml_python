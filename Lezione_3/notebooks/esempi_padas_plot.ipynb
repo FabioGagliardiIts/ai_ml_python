{
  "nbformat": 4,
  "nbformat_minor": 0,
  "metadata": {
    "colab": {
      "provenance": [],
      "collapsed_sections": []
    },
    "kernelspec": {
      "name": "python3",
      "display_name": "Python 3"
    },
    "language_info": {
      "name": "python"
    }
  },
  "cells": [
    {
      "cell_type": "code",
      "source": [
        "# NB!!!\n",
        "# Basta avviare una volta sola ad inizio sessione.\n",
        "# Drive verrà montato per tutto il notebook\n",
        "\n",
        "from google.colab import drive\n",
        "drive.mount('/content/drive')"
      ],
      "metadata": {
        "colab": {
          "base_uri": "https://localhost:8080/"
        },
        "id": "V-iihoPK3kep",
        "outputId": "17e10ec8-1e8c-43a5-e760-d96c4d39c413"
      },
      "execution_count": 7,
      "outputs": [
        {
          "output_type": "stream",
          "name": "stdout",
          "text": [
            "Mounted at /content/drive\n"
          ]
        }
      ]
    },
    {
      "cell_type": "code",
      "source": [
        "import pandas as pd\n",
        "import numpy as np\n",
        "import matplotlib.pyplot as plt\n"
      ],
      "metadata": {
        "id": "gmu7HwKim9ie"
      },
      "execution_count": 8,
      "outputs": []
    },
    {
      "cell_type": "markdown",
      "source": [
        "\n",
        "\n",
        "---\n",
        "# **Analisi di una piantagione**\n",
        "\n",
        "---\n",
        "\n"
      ],
      "metadata": {
        "id": "4x4_z8eI5TZZ"
      }
    },
    {
      "cell_type": "code",
      "source": [
        "df = pd.read_csv('/content/drive/My Drive/Colab Notebooks/datasets/trees.csv')\n",
        "df"
      ],
      "metadata": {
        "id": "engLeNuIOR7K",
        "colab": {
          "base_uri": "https://localhost:8080/",
          "height": 1000
        },
        "outputId": "2fb73161-f604-4751-8184-965d6f7e78bb"
      },
      "execution_count": 9,
      "outputs": [
        {
          "output_type": "execute_result",
          "data": {
            "text/plain": [
              "    Id  Circonferenza  Altezza  Volume\n",
              "0    1            8.3       70    10.3\n",
              "1    2            8.6       65    10.3\n",
              "2    3            8.8       63    10.2\n",
              "3    4           10.5       72    16.4\n",
              "4    5           10.7       81    18.8\n",
              "5    6           10.8       83    19.7\n",
              "6    7           11.0       66    15.6\n",
              "7    8           11.0       75    18.2\n",
              "8    9           11.1       80    22.6\n",
              "9   10           11.2       75    19.9\n",
              "10  11           11.3       79    24.2\n",
              "11  12           11.4       76    21.0\n",
              "12  13           11.4       76    21.4\n",
              "13  14           11.7       69    21.3\n",
              "14  15           12.0       75    19.1\n",
              "15  16           12.9       74    22.2\n",
              "16  17           12.9       85    33.8\n",
              "17  18           13.3       86    27.4\n",
              "18  19           13.7       71    25.7\n",
              "19  20           13.8       64    24.9\n",
              "20  21           14.0       78    34.5\n",
              "21  22           14.2       80    31.7\n",
              "22  23           14.5       74    36.3\n",
              "23  24           16.0       72    38.3\n",
              "24  25           16.3       77    42.6\n",
              "25  26           17.3       81    55.4\n",
              "26  27           17.5       82    55.7\n",
              "27  28           17.9       80    58.3\n",
              "28  29           18.0       80    51.5\n",
              "29  30           18.0       80    51.0\n",
              "30  31           20.6       87    77.0"
            ],
            "text/html": [
              "\n",
              "  <div id=\"df-7a24085a-c9b9-4249-8da9-5fb65cc6bf13\">\n",
              "    <div class=\"colab-df-container\">\n",
              "      <div>\n",
              "<style scoped>\n",
              "    .dataframe tbody tr th:only-of-type {\n",
              "        vertical-align: middle;\n",
              "    }\n",
              "\n",
              "    .dataframe tbody tr th {\n",
              "        vertical-align: top;\n",
              "    }\n",
              "\n",
              "    .dataframe thead th {\n",
              "        text-align: right;\n",
              "    }\n",
              "</style>\n",
              "<table border=\"1\" class=\"dataframe\">\n",
              "  <thead>\n",
              "    <tr style=\"text-align: right;\">\n",
              "      <th></th>\n",
              "      <th>Id</th>\n",
              "      <th>Circonferenza</th>\n",
              "      <th>Altezza</th>\n",
              "      <th>Volume</th>\n",
              "    </tr>\n",
              "  </thead>\n",
              "  <tbody>\n",
              "    <tr>\n",
              "      <th>0</th>\n",
              "      <td>1</td>\n",
              "      <td>8.3</td>\n",
              "      <td>70</td>\n",
              "      <td>10.3</td>\n",
              "    </tr>\n",
              "    <tr>\n",
              "      <th>1</th>\n",
              "      <td>2</td>\n",
              "      <td>8.6</td>\n",
              "      <td>65</td>\n",
              "      <td>10.3</td>\n",
              "    </tr>\n",
              "    <tr>\n",
              "      <th>2</th>\n",
              "      <td>3</td>\n",
              "      <td>8.8</td>\n",
              "      <td>63</td>\n",
              "      <td>10.2</td>\n",
              "    </tr>\n",
              "    <tr>\n",
              "      <th>3</th>\n",
              "      <td>4</td>\n",
              "      <td>10.5</td>\n",
              "      <td>72</td>\n",
              "      <td>16.4</td>\n",
              "    </tr>\n",
              "    <tr>\n",
              "      <th>4</th>\n",
              "      <td>5</td>\n",
              "      <td>10.7</td>\n",
              "      <td>81</td>\n",
              "      <td>18.8</td>\n",
              "    </tr>\n",
              "    <tr>\n",
              "      <th>5</th>\n",
              "      <td>6</td>\n",
              "      <td>10.8</td>\n",
              "      <td>83</td>\n",
              "      <td>19.7</td>\n",
              "    </tr>\n",
              "    <tr>\n",
              "      <th>6</th>\n",
              "      <td>7</td>\n",
              "      <td>11.0</td>\n",
              "      <td>66</td>\n",
              "      <td>15.6</td>\n",
              "    </tr>\n",
              "    <tr>\n",
              "      <th>7</th>\n",
              "      <td>8</td>\n",
              "      <td>11.0</td>\n",
              "      <td>75</td>\n",
              "      <td>18.2</td>\n",
              "    </tr>\n",
              "    <tr>\n",
              "      <th>8</th>\n",
              "      <td>9</td>\n",
              "      <td>11.1</td>\n",
              "      <td>80</td>\n",
              "      <td>22.6</td>\n",
              "    </tr>\n",
              "    <tr>\n",
              "      <th>9</th>\n",
              "      <td>10</td>\n",
              "      <td>11.2</td>\n",
              "      <td>75</td>\n",
              "      <td>19.9</td>\n",
              "    </tr>\n",
              "    <tr>\n",
              "      <th>10</th>\n",
              "      <td>11</td>\n",
              "      <td>11.3</td>\n",
              "      <td>79</td>\n",
              "      <td>24.2</td>\n",
              "    </tr>\n",
              "    <tr>\n",
              "      <th>11</th>\n",
              "      <td>12</td>\n",
              "      <td>11.4</td>\n",
              "      <td>76</td>\n",
              "      <td>21.0</td>\n",
              "    </tr>\n",
              "    <tr>\n",
              "      <th>12</th>\n",
              "      <td>13</td>\n",
              "      <td>11.4</td>\n",
              "      <td>76</td>\n",
              "      <td>21.4</td>\n",
              "    </tr>\n",
              "    <tr>\n",
              "      <th>13</th>\n",
              "      <td>14</td>\n",
              "      <td>11.7</td>\n",
              "      <td>69</td>\n",
              "      <td>21.3</td>\n",
              "    </tr>\n",
              "    <tr>\n",
              "      <th>14</th>\n",
              "      <td>15</td>\n",
              "      <td>12.0</td>\n",
              "      <td>75</td>\n",
              "      <td>19.1</td>\n",
              "    </tr>\n",
              "    <tr>\n",
              "      <th>15</th>\n",
              "      <td>16</td>\n",
              "      <td>12.9</td>\n",
              "      <td>74</td>\n",
              "      <td>22.2</td>\n",
              "    </tr>\n",
              "    <tr>\n",
              "      <th>16</th>\n",
              "      <td>17</td>\n",
              "      <td>12.9</td>\n",
              "      <td>85</td>\n",
              "      <td>33.8</td>\n",
              "    </tr>\n",
              "    <tr>\n",
              "      <th>17</th>\n",
              "      <td>18</td>\n",
              "      <td>13.3</td>\n",
              "      <td>86</td>\n",
              "      <td>27.4</td>\n",
              "    </tr>\n",
              "    <tr>\n",
              "      <th>18</th>\n",
              "      <td>19</td>\n",
              "      <td>13.7</td>\n",
              "      <td>71</td>\n",
              "      <td>25.7</td>\n",
              "    </tr>\n",
              "    <tr>\n",
              "      <th>19</th>\n",
              "      <td>20</td>\n",
              "      <td>13.8</td>\n",
              "      <td>64</td>\n",
              "      <td>24.9</td>\n",
              "    </tr>\n",
              "    <tr>\n",
              "      <th>20</th>\n",
              "      <td>21</td>\n",
              "      <td>14.0</td>\n",
              "      <td>78</td>\n",
              "      <td>34.5</td>\n",
              "    </tr>\n",
              "    <tr>\n",
              "      <th>21</th>\n",
              "      <td>22</td>\n",
              "      <td>14.2</td>\n",
              "      <td>80</td>\n",
              "      <td>31.7</td>\n",
              "    </tr>\n",
              "    <tr>\n",
              "      <th>22</th>\n",
              "      <td>23</td>\n",
              "      <td>14.5</td>\n",
              "      <td>74</td>\n",
              "      <td>36.3</td>\n",
              "    </tr>\n",
              "    <tr>\n",
              "      <th>23</th>\n",
              "      <td>24</td>\n",
              "      <td>16.0</td>\n",
              "      <td>72</td>\n",
              "      <td>38.3</td>\n",
              "    </tr>\n",
              "    <tr>\n",
              "      <th>24</th>\n",
              "      <td>25</td>\n",
              "      <td>16.3</td>\n",
              "      <td>77</td>\n",
              "      <td>42.6</td>\n",
              "    </tr>\n",
              "    <tr>\n",
              "      <th>25</th>\n",
              "      <td>26</td>\n",
              "      <td>17.3</td>\n",
              "      <td>81</td>\n",
              "      <td>55.4</td>\n",
              "    </tr>\n",
              "    <tr>\n",
              "      <th>26</th>\n",
              "      <td>27</td>\n",
              "      <td>17.5</td>\n",
              "      <td>82</td>\n",
              "      <td>55.7</td>\n",
              "    </tr>\n",
              "    <tr>\n",
              "      <th>27</th>\n",
              "      <td>28</td>\n",
              "      <td>17.9</td>\n",
              "      <td>80</td>\n",
              "      <td>58.3</td>\n",
              "    </tr>\n",
              "    <tr>\n",
              "      <th>28</th>\n",
              "      <td>29</td>\n",
              "      <td>18.0</td>\n",
              "      <td>80</td>\n",
              "      <td>51.5</td>\n",
              "    </tr>\n",
              "    <tr>\n",
              "      <th>29</th>\n",
              "      <td>30</td>\n",
              "      <td>18.0</td>\n",
              "      <td>80</td>\n",
              "      <td>51.0</td>\n",
              "    </tr>\n",
              "    <tr>\n",
              "      <th>30</th>\n",
              "      <td>31</td>\n",
              "      <td>20.6</td>\n",
              "      <td>87</td>\n",
              "      <td>77.0</td>\n",
              "    </tr>\n",
              "  </tbody>\n",
              "</table>\n",
              "</div>\n",
              "      <button class=\"colab-df-convert\" onclick=\"convertToInteractive('df-7a24085a-c9b9-4249-8da9-5fb65cc6bf13')\"\n",
              "              title=\"Convert this dataframe to an interactive table.\"\n",
              "              style=\"display:none;\">\n",
              "        \n",
              "  <svg xmlns=\"http://www.w3.org/2000/svg\" height=\"24px\"viewBox=\"0 0 24 24\"\n",
              "       width=\"24px\">\n",
              "    <path d=\"M0 0h24v24H0V0z\" fill=\"none\"/>\n",
              "    <path d=\"M18.56 5.44l.94 2.06.94-2.06 2.06-.94-2.06-.94-.94-2.06-.94 2.06-2.06.94zm-11 1L8.5 8.5l.94-2.06 2.06-.94-2.06-.94L8.5 2.5l-.94 2.06-2.06.94zm10 10l.94 2.06.94-2.06 2.06-.94-2.06-.94-.94-2.06-.94 2.06-2.06.94z\"/><path d=\"M17.41 7.96l-1.37-1.37c-.4-.4-.92-.59-1.43-.59-.52 0-1.04.2-1.43.59L10.3 9.45l-7.72 7.72c-.78.78-.78 2.05 0 2.83L4 21.41c.39.39.9.59 1.41.59.51 0 1.02-.2 1.41-.59l7.78-7.78 2.81-2.81c.8-.78.8-2.07 0-2.86zM5.41 20L4 18.59l7.72-7.72 1.47 1.35L5.41 20z\"/>\n",
              "  </svg>\n",
              "      </button>\n",
              "      \n",
              "  <style>\n",
              "    .colab-df-container {\n",
              "      display:flex;\n",
              "      flex-wrap:wrap;\n",
              "      gap: 12px;\n",
              "    }\n",
              "\n",
              "    .colab-df-convert {\n",
              "      background-color: #E8F0FE;\n",
              "      border: none;\n",
              "      border-radius: 50%;\n",
              "      cursor: pointer;\n",
              "      display: none;\n",
              "      fill: #1967D2;\n",
              "      height: 32px;\n",
              "      padding: 0 0 0 0;\n",
              "      width: 32px;\n",
              "    }\n",
              "\n",
              "    .colab-df-convert:hover {\n",
              "      background-color: #E2EBFA;\n",
              "      box-shadow: 0px 1px 2px rgba(60, 64, 67, 0.3), 0px 1px 3px 1px rgba(60, 64, 67, 0.15);\n",
              "      fill: #174EA6;\n",
              "    }\n",
              "\n",
              "    [theme=dark] .colab-df-convert {\n",
              "      background-color: #3B4455;\n",
              "      fill: #D2E3FC;\n",
              "    }\n",
              "\n",
              "    [theme=dark] .colab-df-convert:hover {\n",
              "      background-color: #434B5C;\n",
              "      box-shadow: 0px 1px 3px 1px rgba(0, 0, 0, 0.15);\n",
              "      filter: drop-shadow(0px 1px 2px rgba(0, 0, 0, 0.3));\n",
              "      fill: #FFFFFF;\n",
              "    }\n",
              "  </style>\n",
              "\n",
              "      <script>\n",
              "        const buttonEl =\n",
              "          document.querySelector('#df-7a24085a-c9b9-4249-8da9-5fb65cc6bf13 button.colab-df-convert');\n",
              "        buttonEl.style.display =\n",
              "          google.colab.kernel.accessAllowed ? 'block' : 'none';\n",
              "\n",
              "        async function convertToInteractive(key) {\n",
              "          const element = document.querySelector('#df-7a24085a-c9b9-4249-8da9-5fb65cc6bf13');\n",
              "          const dataTable =\n",
              "            await google.colab.kernel.invokeFunction('convertToInteractive',\n",
              "                                                     [key], {});\n",
              "          if (!dataTable) return;\n",
              "\n",
              "          const docLinkHtml = 'Like what you see? Visit the ' +\n",
              "            '<a target=\"_blank\" href=https://colab.research.google.com/notebooks/data_table.ipynb>data table notebook</a>'\n",
              "            + ' to learn more about interactive tables.';\n",
              "          element.innerHTML = '';\n",
              "          dataTable['output_type'] = 'display_data';\n",
              "          await google.colab.output.renderOutput(dataTable, element);\n",
              "          const docLink = document.createElement('div');\n",
              "          docLink.innerHTML = docLinkHtml;\n",
              "          element.appendChild(docLink);\n",
              "        }\n",
              "      </script>\n",
              "    </div>\n",
              "  </div>\n",
              "  "
            ]
          },
          "metadata": {},
          "execution_count": 9
        }
      ]
    },
    {
      "cell_type": "markdown",
      "source": [
        "Accesso ai dati"
      ],
      "metadata": {
        "id": "pq9WBCmwOgNr"
      }
    },
    {
      "cell_type": "code",
      "source": [
        "i = df[\"Id\"].to_numpy()\n",
        "c = df[\"Circonferenza\"].to_numpy()\n",
        "a = df[\"Altezza\"].to_numpy()\n",
        "v = df[\"Volume\"].to_numpy()"
      ],
      "metadata": {
        "id": "47ifPSejOfRq"
      },
      "execution_count": 10,
      "outputs": []
    },
    {
      "cell_type": "markdown",
      "source": [
        "Relazioni tra i dati"
      ],
      "metadata": {
        "id": "XPQmD4VgoY_F"
      }
    },
    {
      "cell_type": "code",
      "source": [
        "# imposta il layout di stamapa\n",
        "plt.figure(figsize=(8, 12))\n",
        "plt.subplots_adjust(hspace=0.4) # spaziatura verticale\n",
        "\n",
        "\n",
        "# subplot 1\n",
        "plot_c_v = plt.subplot(3, 1, 1)\n",
        "plot_c_v.set_title(\"relazione 1\")\n",
        "plot_c_v.set(xlabel='Circonferenza', ylabel='Volume')\n",
        "plot_c_v.scatter(c, v,  color=\"red\", alpha=0.3, s=60)\n",
        "\n",
        "# subplot 2\n",
        "plot_a_v = plt.subplot(3, 1, 2)\n",
        "plot_a_v.set_title(\"relazione 2\")\n",
        "plot_a_v.set(xlabel='Altezza', ylabel='Volume')\n",
        "plot_a_v.scatter(a, v, color=\"blue\", alpha=0.3, s=60)\n",
        "\n",
        "# subplot 3\n",
        "plot_a_c = plt.subplot(3, 1, 3)\n",
        "plot_a_c.set_title(\"relazione 3\")\n",
        "plot_a_c.set(xlabel='Altezza', ylabel='Circonferenza')\n",
        "plot_a_c.scatter(a, c, color=\"green\", alpha=0.3, s=60)\n",
        "\n",
        "\n",
        "# plot \n",
        "plt.show()\n",
        "\n"
      ],
      "metadata": {
        "id": "wC-Y5z_nUt5f",
        "colab": {
          "base_uri": "https://localhost:8080/",
          "height": 730
        },
        "outputId": "99ab9d6d-dda9-4e31-a631-bb18466c63bf"
      },
      "execution_count": 11,
      "outputs": [
        {
          "output_type": "display_data",
          "data": {
            "text/plain": [
              "<Figure size 576x864 with 3 Axes>"
            ],
            "image/png": "[encoded data removed]"
          },
          "metadata": {
            "needs_background": "light"
          }
        }
      ]
    },
    {
      "cell_type": "markdown",
      "source": [
        "\n",
        "\n",
        "---\n",
        "\n",
        "# **Analisi delle strutture alberghiere**\n",
        "\n",
        "fonte dati: http://www.datiopen.it/it\n",
        "\n",
        "---\n",
        "\n",
        "\n",
        "\n"
      ],
      "metadata": {
        "id": "KwI_CJiR0Ald"
      }
    },
    {
      "cell_type": "markdown",
      "source": [
        "Preparazione dei dati"
      ],
      "metadata": {
        "id": "RveHtFAzqrt_"
      }
    },
    {
      "cell_type": "code",
      "source": [
        "def load_data_frames() -> pd.DataFrame:\n",
        "  path_arrivi = '/content/drive/MyDrive/Colab Notebooks/datasets/Arrivi-negli-esercizi-alberghieri-in-Italia-per-regione.csv'\n",
        "  path_presenze = '/content/drive/MyDrive/Colab Notebooks/datasets/Presenze-negli-esercizi-alberghieri-in-Italia-per-regione.csv'\n",
        "  \n",
        "  # specificare la modalità in cui sono separate \n",
        "  df_arrivi   = pd.read_csv(path_arrivi, sep=';')\n",
        "  df_presenze = pd.read_csv(path_presenze, sep=';')\n",
        "\n",
        "  # controllare se i due dataframe hanno gli stessi valori sulle colonne interessate\n",
        "  check_anno = df_arrivi[\"Anno\"] == df_presenze[\"Anno\"]\n",
        "  assert (np.all(check_anno) != False), \"Gli anni non sono uguali\"\n",
        "\n",
        "  check_regione = df_arrivi[\"Regione\"] == df_presenze[\"Regione\"]\n",
        "  assert (np.all(check_regione) != False), \"Le regioni non sono uguali\"\n",
        "\n",
        "\n",
        "  # print(df_arrivi)\n",
        "  # print(df_presenze)\n",
        "\n",
        "  # unire una tabella \n",
        "  return df_arrivi.join(df_presenze[\"Presenze\"])\n",
        "\n",
        "\n",
        "\n",
        "\n",
        "df_alberghi = load_data_frames()\n",
        "display(df_alberghi)"
      ],
      "metadata": {
        "id": "vgShx-jAz7lj"
      },
      "execution_count": null,
      "outputs": []
    },
    {
      "cell_type": "code",
      "source": [
        "regioni = df_alberghi[\"Regione\"].to_numpy()\n",
        "anni = df_alberghi[\"Anno\"].to_numpy()\n",
        "arrivi = df_alberghi[\"Arrivi\"].to_numpy()\n",
        "presenze = df_alberghi[\"Presenze\"].to_numpy()"
      ],
      "metadata": {
        "id": "HhXGlKy8tMmd"
      },
      "execution_count": 27,
      "outputs": []
    },
    {
      "cell_type": "markdown",
      "source": [
        "Rappresentazione dei dati"
      ],
      "metadata": {
        "id": "IIE_xO1wqzMd"
      }
    },
    {
      "cell_type": "code",
      "source": [
        "# scatter 1\n",
        "plt.scatter(arrivi, presenze, color=\"green\", alpha=0.3, s=70)\n",
        "plt.xscale('linear')\n",
        "plt.yscale('linear')\n",
        "plt.show()\n"
      ],
      "metadata": {
        "id": "MCRYv7t2rS38"
      },
      "execution_count": null,
      "outputs": []
    },
    {
      "cell_type": "code",
      "source": [
        "# anno 2008\n",
        "mask_2008 = df_alberghi[\"Anno\"] == 2008 \n",
        "arrivi_2008   = df_alberghi[mask_2008][\"Arrivi\"].to_numpy()\n",
        "presenze_2008 = df_alberghi[mask_2008][\"Presenze\"].to_numpy()\n",
        "\n",
        "# anno 2011\n",
        "mask_2011 = df_alberghi[\"Anno\"] == 2011\n",
        "arrivi_2011   = df_alberghi[mask_2011][\"Arrivi\"].to_numpy()\n",
        "presenze_2011 = df_alberghi[mask_2011][\"Presenze\"].to_numpy()\n",
        "\n"
      ],
      "metadata": {
        "id": "oNnE24Gosz3X"
      },
      "execution_count": 29,
      "outputs": []
    },
    {
      "cell_type": "code",
      "source": [
        "from random import sample\n",
        "import matplotlib.pyplot as plt\n",
        "import matplotlib.colors as pltc\n",
        "\n",
        "\n",
        "\n",
        "\n",
        "# scatter setup\n",
        "rl = df_alberghi[mask_2008][\"Regione\"].to_numpy() \n",
        "rc = sample([k for k,v in pltc.cnames.items()], rl.size)\n",
        "\n",
        "for i in range(rl.size):\n",
        "  plt.scatter(arrivi_2008[i], presenze_2008[i],  c=rc[i], alpha=0.4, s=70, label=rl[i])\n",
        "  plt.scatter(arrivi_2011[i], presenze_2011[i],  c=rc[i], alpha=0.4, s=70)\n",
        "\n",
        "# plot setup\n",
        "\n",
        "plt.xscale('linear')\n",
        "plt.yscale('linear')\n",
        "rl = df_alberghi[mask_2008][\"Regione\"].to_numpy() \n",
        "\n",
        "plt.xlabel('arrivi da nord as sud')\n",
        "plt.ylabel('presenze da nord as sud')\n",
        "plt.legend(bbox_to_anchor=(1.1, 1.05))\n",
        "\n",
        "# draw\n",
        "plt.show()\n"
      ],
      "metadata": {
        "colab": {
          "base_uri": "https://localhost:8080/",
          "height": 339
        },
        "id": "XFIav31TUaU6",
        "outputId": "6cd98bcd-72aa-491a-96ef-c60061041232"
      },
      "execution_count": 25,
      "outputs": [
        {
          "output_type": "display_data",
          "data": {
            "text/plain": [
              "<Figure size 432x288 with 1 Axes>"
            ],
            "image/png": "[encoded data removed]"
          },
          "metadata": {
            "needs_background": "light"
          }
        }
      ]
    },
    {
      "cell_type": "markdown",
      "source": [
        "\n",
        "\n",
        "---\n",
        "\n"
      ],
      "metadata": {
        "id": "rNOW9ouVw83t"
      }
    },
    {
      "cell_type": "code",
      "source": [
        "# otrogramma\n",
        "plt.bar(rl, arrivi_2008,  color=\"green\", alpha=0.5, label=\"arrivi\")\n",
        "plt.bar(rl, presenze_2008, color=\"red\", alpha=0.3,label=\"presenze\")\n",
        "plt.xticks(rotation=90)\n",
        "plt.autoscale()\n",
        "\n",
        "plt.legend()\n",
        "plt.show()\n",
        "\n",
        "\n",
        "\n"
      ],
      "metadata": {
        "colab": {
          "base_uri": "https://localhost:8080/",
          "height": 364
        },
        "id": "99y0W9T1vTSO",
        "outputId": "21176825-3f4f-4c3c-f638-ccf6c5bcb984"
      },
      "execution_count": 18,
      "outputs": [
        {
          "output_type": "display_data",
          "data": {
            "text/plain": [
              "<Figure size 432x288 with 1 Axes>"
            ],
            "image/png": "[encoded data removed]"
          },
          "metadata": {
            "needs_background": "light"
          }
        }
      ]
    }
  ]
}