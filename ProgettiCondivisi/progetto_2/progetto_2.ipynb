{
  "nbformat": 4,
  "nbformat_minor": 0,
  "metadata": {
    "colab": {
      "provenance": [],
      "collapsed_sections": []
    },
    "kernelspec": {
      "name": "python3",
      "display_name": "Python 3"
    },
    "language_info": {
      "name": "python"
    }
  },
  "cells": [
    {
      "cell_type": "code",
      "execution_count": null,
      "metadata": {
        "id": "yEaHgzkD7l95"
      },
      "outputs": [],
      "source": [
        "# https://it.wikipedia.org/wiki/Demografia_d%27Italia"
      ]
    },
    {
      "cell_type": "code",
      "source": [
        "import requests\n",
        "import pandas as pd\n",
        "import numpy as np\n",
        "from bs4 import BeautifulSoup"
      ],
      "metadata": {
        "id": "bGhVtOIzXFiK"
      },
      "execution_count": null,
      "outputs": []
    },
    {
      "cell_type": "code",
      "source": [
        "\n",
        "# ===================\n",
        "# download pagina web\n",
        "# ===================\n",
        "wiki_url = \"https://it.wikipedia.org/wiki/Demografia_d%27Italia\"\n",
        "pagina_wikipedia = requests.get(wiki_url).text\n",
        "\n",
        "\n",
        "# ==============================\n",
        "# creazione BeautifulSoup object\n",
        "# per il parsing di pagine html\n",
        "# ==============================\n",
        "soup = BeautifulSoup(pagina_wikipedia, 'html.parser')\n",
        "\n",
        "\n",
        "# ==========================================================\n",
        "# recupero delle sezioni della pagina web con il tag \"tabel\"\n",
        "# ==========================================================\n",
        "tabelle = soup.find_all('table')\n",
        "# for t in tabelle:\n",
        "#     print(t.get('class'))\n",
        "\n",
        "\n",
        "\n",
        "\n",
        "# ==============================\n",
        "# creazione di un oggetto pandas\n",
        "# ==============================\n",
        "data_list = pd.read_html(str(tabelle[1]))\n",
        "df = pd.DataFrame(data_list[0])\n",
        "# display(df)\n",
        "\n",
        "\n",
        "\n",
        "\n",
        "\n",
        "\n",
        "# ====================================\n",
        "# estrazione dati in forma di stringhe\n",
        "# ====================================\n",
        "anno_str        = df['Anno']['Anno'].to_numpy()[:-4]\n",
        "popolazione_str = df[\"Popolazione1º gennaio\"][\"Popolazione1º gennaio\"].to_numpy()[:-4]\n",
        "nati_str        = df[\"Natalità\"][\"Nati\"].to_numpy()[:-4]\n",
        "morti_str       = df[\"Mortalità\"][\"Morti\"].to_numpy()[:-4]\n",
        "\n",
        "\n",
        "\n",
        "# =================================================================\n",
        "# In questo caso le stringhe che descrivono i valori usano il punto \n",
        "# come separatore per le migliaia ed è necessario elimiarlo\n",
        "# prima di convertire in interi\n",
        "# =================================================================\n",
        "def conversione_stringhe_interi(data_str: np.array(str)) -> np.array(np.int64):\n",
        "  data = np.zeros_like(data_str)\n",
        "\n",
        "  for i in range(data_str.size):\n",
        "    data[i] = np.int64( data_str[i].replace('.', '') )\n",
        "  return data\n",
        "\n",
        "  \n",
        "# conversione stringhe \n",
        "anno        = anno_str.astype(int)\n",
        "popolazione = conversione_stringhe_interi(popolazione_str)\n",
        "nati        = conversione_stringhe_interi(nati_str)\n",
        "morti       = conversione_stringhe_interi(morti_str)\n",
        "\n",
        "\n",
        "# ===============================\n",
        "# creazione di un nuovo dataframe\n",
        "# ===============================\n",
        "demo_df = pd.DataFrame(index = range(anno.size),  columns=['anno', 'nati', 'morti', \"popolazione\"]).fillna(0)\n",
        "demo_df['anno'] = anno\n",
        "demo_df['nati'] = nati\n",
        "demo_df['morti'] = morti\n",
        "demo_df['popolazione'] = popolazione\n",
        "\n",
        "\n",
        "# ===========================================\n",
        "# creazione di un nuovo file csv\n",
        "# ===========================================\n",
        "# demo_df.to_csv('demo_italia_1862_2021.csv')\n",
        "display(demo_df)\n",
        "\n",
        "\n",
        "\n"
      ],
      "metadata": {
        "id": "aWtach9jXLmi"
      },
      "execution_count": null,
      "outputs": []
    },
    {
      "cell_type": "markdown",
      "source": [
        "Progetto condiviso 2"
      ],
      "metadata": {
        "id": "UrPBV_lRMm6f"
      }
    },
    {
      "cell_type": "code",
      "source": [
        "\n",
        "import numpy as np\n",
        "import pandas as pd\n",
        "import matplotlib.pyplot as plt\n",
        "\n",
        "\n",
        "class DataDemo:\n",
        "  def __init__(self):\n",
        "    self.df = pd.read_csv(\"demo_italia_1862_2021.csv\")\n",
        "\n",
        "  def get_popolazione(self) -> np.array(np.float64):\n",
        "    return self.df['popolazione'].to_numpy(np.float64)\n",
        "  \n",
        "  def get_nati(self) -> np.array(np.float64):\n",
        "    return self.df['nati'].to_numpy(np.float64)\n",
        "\n",
        "  def get_morti(self) -> np.array(np.float64):\n",
        "    return self.df['morti'].to_numpy(np.float64)\n",
        "\n",
        "\n",
        "# classe per la stampa di grafici\n",
        "# attributi:\n",
        "#   x = np.array dimensione size_x (parametro costruttore)\n",
        "#   y = np.array dimensione size_y (parametro costruttore)\n",
        "# metodi:\n",
        "#   disegna_tracciato(x, y)  due np.array come parametri formali\n",
        "#   disegna_grafico_dispersione(x, y) due np.array come parametri formali\n",
        "\n",
        "\n",
        "\n"
      ],
      "metadata": {
        "id": "SzyvX4GlMU8f"
      },
      "execution_count": null,
      "outputs": []
    }
  ]
}